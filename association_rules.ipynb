{
 "cells": [
  {
   "cell_type": "code",
   "execution_count": 1,
   "metadata": {},
   "outputs": [],
   "source": [
    "import numpy as np\n",
    "import pandas as pd\n",
    "import matplotlib.pyplot as plt\n",
    "from itertools import product, combinations"
   ]
  },
  {
   "cell_type": "markdown",
   "metadata": {},
   "source": [
    "## data load"
   ]
  },
  {
   "cell_type": "code",
   "execution_count": 2,
   "metadata": {},
   "outputs": [],
   "source": [
    "store_data = pd.read_csv('onigiri.csv', sep=',')\n",
    "store_array = store_data.values"
   ]
  },
  {
   "cell_type": "code",
   "execution_count": 3,
   "metadata": {},
   "outputs": [
    {
     "data": {
      "text/html": [
       "<div>\n",
       "<style scoped>\n",
       "    .dataframe tbody tr th:only-of-type {\n",
       "        vertical-align: middle;\n",
       "    }\n",
       "\n",
       "    .dataframe tbody tr th {\n",
       "        vertical-align: top;\n",
       "    }\n",
       "\n",
       "    .dataframe thead th {\n",
       "        text-align: right;\n",
       "    }\n",
       "</style>\n",
       "<table border=\"1\" class=\"dataframe\">\n",
       "  <thead>\n",
       "    <tr style=\"text-align: right;\">\n",
       "      <th></th>\n",
       "      <th>a</th>\n",
       "      <th>b</th>\n",
       "      <th>c</th>\n",
       "      <th>d</th>\n",
       "      <th>e</th>\n",
       "    </tr>\n",
       "  </thead>\n",
       "  <tbody>\n",
       "    <tr>\n",
       "      <th>0</th>\n",
       "      <td>0</td>\n",
       "      <td>1</td>\n",
       "      <td>1</td>\n",
       "      <td>1</td>\n",
       "      <td>0</td>\n",
       "    </tr>\n",
       "    <tr>\n",
       "      <th>1</th>\n",
       "      <td>1</td>\n",
       "      <td>1</td>\n",
       "      <td>0</td>\n",
       "      <td>0</td>\n",
       "      <td>0</td>\n",
       "    </tr>\n",
       "    <tr>\n",
       "      <th>2</th>\n",
       "      <td>1</td>\n",
       "      <td>0</td>\n",
       "      <td>0</td>\n",
       "      <td>1</td>\n",
       "      <td>1</td>\n",
       "    </tr>\n",
       "    <tr>\n",
       "      <th>3</th>\n",
       "      <td>0</td>\n",
       "      <td>1</td>\n",
       "      <td>1</td>\n",
       "      <td>1</td>\n",
       "      <td>0</td>\n",
       "    </tr>\n",
       "    <tr>\n",
       "      <th>4</th>\n",
       "      <td>0</td>\n",
       "      <td>1</td>\n",
       "      <td>0</td>\n",
       "      <td>1</td>\n",
       "      <td>0</td>\n",
       "    </tr>\n",
       "  </tbody>\n",
       "</table>\n",
       "</div>"
      ],
      "text/plain": [
       "   a   b   c   d   e\n",
       "0  0   1   1   1   0\n",
       "1  1   1   0   0   0\n",
       "2  1   0   0   1   1\n",
       "3  0   1   1   1   0\n",
       "4  0   1   0   1   0"
      ]
     },
     "execution_count": 3,
     "metadata": {},
     "output_type": "execute_result"
    }
   ],
   "source": [
    "store_data"
   ]
  },
  {
   "cell_type": "code",
   "execution_count": 4,
   "metadata": {},
   "outputs": [],
   "source": [
    "def GTI(df, indexes): # Get True Indexes\n",
    "    '''\n",
    "    Input\n",
    "        df: dataframe (row: transactions, col: items)\n",
    "        index: column indexes num to be examined \n",
    "    Output\n",
    "        list of boolen\n",
    "    '''\n",
    "    if type(indexes) == int:\n",
    "        indexes = [indexes]\n",
    "    elif type(indexes) == np.int64:\n",
    "        indexes = [indexes]\n",
    "        \n",
    "    return df[:,indexes]==1"
   ]
  },
  {
   "cell_type": "code",
   "execution_count": 5,
   "metadata": {},
   "outputs": [],
   "source": [
    "def support(array_2d,  indexes, m='num'):\n",
    "    gti_b = GTI(array_2d, indexes)\n",
    "    if gti_b.shape[1]==0:\n",
    "        return 0\n",
    "    b = np.all(gti_b, axis=1)\n",
    "    if m =='num':\n",
    "        return np.sum(b)\n",
    "    elif m =='ratio':\n",
    "        return np.sum(b)/len(b)\n",
    "    elif m == 'bool':\n",
    "        return b1"
   ]
  },
  {
   "cell_type": "code",
   "execution_count": 6,
   "metadata": {},
   "outputs": [],
   "source": [
    "def confidence(array_2d, X_indexes, Y_indexes):\n",
    "    sup_X = support(array_2d, X_indexes)\n",
    "    X_Y_indexes = np.hstack([X_indexes, Y_indexes])\n",
    "    return support(array_2d, X_Y_indexes)/sup_X\n",
    "    "
   ]
  },
  {
   "cell_type": "code",
   "execution_count": 7,
   "metadata": {},
   "outputs": [
    {
     "data": {
      "text/plain": [
       "array([[ True,  True],\n",
       "       [ True, False],\n",
       "       [False, False],\n",
       "       [ True,  True],\n",
       "       [ True, False]])"
      ]
     },
     "execution_count": 7,
     "metadata": {},
     "output_type": "execute_result"
    }
   ],
   "source": [
    "GTI(store_array,[1,2])"
   ]
  },
  {
   "cell_type": "code",
   "execution_count": 8,
   "metadata": {},
   "outputs": [
    {
     "data": {
      "text/plain": [
       "0.4"
      ]
     },
     "execution_count": 8,
     "metadata": {},
     "output_type": "execute_result"
    }
   ],
   "source": [
    "support(store_array, np.array([1,2]), m='ratio')"
   ]
  },
  {
   "cell_type": "code",
   "execution_count": 9,
   "metadata": {
    "scrolled": true
   },
   "outputs": [
    {
     "name": "stdout",
     "output_type": "stream",
     "text": [
      "args\n",
      "(True, True, False, False, False)\n",
      "items\n",
      "[[0 1]\n",
      " [1 1]\n",
      " [1 0]\n",
      " [0 1]\n",
      " [0 1]]\n",
      "support\n",
      "0.2\n",
      "\n",
      "args\n",
      "(True, False, False, True, True)\n",
      "items\n",
      "[[0 1 0]\n",
      " [1 0 0]\n",
      " [1 1 1]\n",
      " [0 1 0]\n",
      " [0 1 0]]\n",
      "support\n",
      "0.2\n",
      "\n",
      "args\n",
      "(True, False, False, True, False)\n",
      "items\n",
      "[[0 1]\n",
      " [1 0]\n",
      " [1 1]\n",
      " [0 1]\n",
      " [0 1]]\n",
      "support\n",
      "0.2\n",
      "\n",
      "args\n",
      "(True, False, False, False, True)\n",
      "items\n",
      "[[0 0]\n",
      " [1 0]\n",
      " [1 1]\n",
      " [0 0]\n",
      " [0 0]]\n",
      "support\n",
      "0.2\n",
      "\n",
      "args\n",
      "(True, False, False, False, False)\n",
      "items\n",
      "[[0]\n",
      " [1]\n",
      " [1]\n",
      " [0]\n",
      " [0]]\n",
      "support\n",
      "0.4\n",
      "\n",
      "args\n",
      "(False, True, True, True, False)\n",
      "items\n",
      "[[1 1 1]\n",
      " [1 0 0]\n",
      " [0 0 1]\n",
      " [1 1 1]\n",
      " [1 0 1]]\n",
      "support\n",
      "0.4\n",
      "\n",
      "args\n",
      "(False, True, True, False, False)\n",
      "items\n",
      "[[1 1]\n",
      " [1 0]\n",
      " [0 0]\n",
      " [1 1]\n",
      " [1 0]]\n",
      "support\n",
      "0.4\n",
      "\n",
      "args\n",
      "(False, True, False, True, False)\n",
      "items\n",
      "[[1 1]\n",
      " [1 0]\n",
      " [0 1]\n",
      " [1 1]\n",
      " [1 1]]\n",
      "support\n",
      "0.6\n",
      "\n",
      "args\n",
      "(False, True, False, False, False)\n",
      "items\n",
      "[[1]\n",
      " [1]\n",
      " [0]\n",
      " [1]\n",
      " [1]]\n",
      "support\n",
      "0.8\n",
      "\n",
      "args\n",
      "(False, False, True, True, False)\n",
      "items\n",
      "[[1 1]\n",
      " [0 0]\n",
      " [0 1]\n",
      " [1 1]\n",
      " [0 1]]\n",
      "support\n",
      "0.4\n",
      "\n",
      "args\n",
      "(False, False, True, False, False)\n",
      "items\n",
      "[[1]\n",
      " [0]\n",
      " [0]\n",
      " [1]\n",
      " [0]]\n",
      "support\n",
      "0.4\n",
      "\n",
      "args\n",
      "(False, False, False, True, True)\n",
      "items\n",
      "[[1 0]\n",
      " [0 0]\n",
      " [1 1]\n",
      " [1 0]\n",
      " [1 0]]\n",
      "support\n",
      "0.2\n",
      "\n",
      "args\n",
      "(False, False, False, True, False)\n",
      "items\n",
      "[[1]\n",
      " [0]\n",
      " [1]\n",
      " [1]\n",
      " [1]]\n",
      "support\n",
      "0.8\n",
      "\n",
      "args\n",
      "(False, False, False, False, True)\n",
      "items\n",
      "[[0]\n",
      " [0]\n",
      " [1]\n",
      " [0]\n",
      " [0]]\n",
      "support\n",
      "0.2\n",
      "\n"
     ]
    }
   ],
   "source": [
    "const = [True, False]\n",
    "threshold = 0.2\n",
    "for args in product(const, repeat=5):\n",
    "    #print(\"args\")\n",
    "    #print(args)\n",
    "    #print(\"items\")\n",
    "    #print(store_array[:,args])\n",
    "    #print(\"support\")\n",
    "    sup = support(store_array, args, m='ratio') \n",
    "    if sup >= threshold:\n",
    "        print(\"args\")\n",
    "        print(args)\n",
    "        print(\"items\")\n",
    "        print(store_array[:,args])\n",
    "        print(\"support\")       \n",
    "        print(support(store_array, args, m='ratio'))\n",
    "        print()"
   ]
  },
  {
   "cell_type": "code",
   "execution_count": 10,
   "metadata": {},
   "outputs": [],
   "source": [
    "def getF1(array_2D, minsup):\n",
    "    '''\n",
    "    Description\n",
    "        Output frequent itemset from original tables (k=1)\n",
    "    Input\n",
    "        array_2D -> row: transactions, col: items\n",
    "    Output\n",
    "        frequent items' indexes: list\n",
    "    '''\n",
    "    return np.array([[col] for col in range(array_2D.shape[1]) if support(array_2D,col, m='ratio') >= minsup])"
   ]
  },
  {
   "cell_type": "code",
   "execution_count": 11,
   "metadata": {},
   "outputs": [],
   "source": [
    "def getFkPlusOne(array_2D, indexes, minsup):\n",
    "    '''\n",
    "    Description\n",
    "        Output frequent itemset from original tables (k=1)\n",
    "    Input\n",
    "        array_2D -> row: transactions, col: items\n",
    "        indexes -> list of tuples [(),(),...()] \n",
    "    '''\n",
    "    \n",
    "    return np.array([col for col in indexes if support(array_2D,col, m='ratio') >= minsup])"
   ]
  },
  {
   "cell_type": "code",
   "execution_count": 12,
   "metadata": {},
   "outputs": [],
   "source": [
    "F1 = getF1(store_array, minsup=0.4)"
   ]
  },
  {
   "cell_type": "code",
   "execution_count": 13,
   "metadata": {},
   "outputs": [
    {
     "data": {
      "text/plain": [
       "array([[0],\n",
       "       [1],\n",
       "       [2],\n",
       "       [3]])"
      ]
     },
     "execution_count": 13,
     "metadata": {},
     "output_type": "execute_result"
    }
   ],
   "source": [
    "F1"
   ]
  },
  {
   "cell_type": "code",
   "execution_count": 14,
   "metadata": {},
   "outputs": [],
   "source": [
    "def getCkPlusOne(prevCandidate, k):\n",
    "    '''\n",
    "    input\n",
    "    prevCandidate: [(),(),...,()] # list of tuples\n",
    "    k: length of next Candidate\n",
    "    Output\n",
    "      nextCandidate:[(),(),...,()] # list of tuples\n",
    "     '''\n",
    "    \n",
    "    assert np.all(np.array([len(x) for x in prevCandidate])== k-1)\n",
    "    assert k >1\n",
    "    items = list(np.unique(np.array(prevCandidate).flatten())) \n",
    "    tmp_candidates = [x for x in combinations(items, k)]\n",
    "    if k ==2:\n",
    "        print(\"k=2, all combinations are output without filtering\")\n",
    "        return np.array(tmp_candidates)\n",
    "        \n",
    "    candidates = [\n",
    "        candidate for candidate in tmp_candidates\n",
    "        if all(\n",
    "            x in prevCandidate\n",
    "            for x in combinations(candidate, k - 1))\n",
    "    ]\n",
    "       \n",
    "    return np.array(candidates)"
   ]
  },
  {
   "cell_type": "code",
   "execution_count": 15,
   "metadata": {},
   "outputs": [
    {
     "name": "stdout",
     "output_type": "stream",
     "text": [
      "k=2, all combinations are output without filtering\n"
     ]
    }
   ],
   "source": [
    "C2 = getCkPlusOne(F1, 2)"
   ]
  },
  {
   "cell_type": "code",
   "execution_count": 16,
   "metadata": {},
   "outputs": [
    {
     "data": {
      "text/plain": [
       "array([[0, 1],\n",
       "       [0, 2],\n",
       "       [0, 3],\n",
       "       [1, 2],\n",
       "       [1, 3],\n",
       "       [2, 3]])"
      ]
     },
     "execution_count": 16,
     "metadata": {},
     "output_type": "execute_result"
    }
   ],
   "source": [
    "C2"
   ]
  },
  {
   "cell_type": "code",
   "execution_count": 17,
   "metadata": {},
   "outputs": [
    {
     "data": {
      "text/plain": [
       "array([[1, 2],\n",
       "       [1, 3],\n",
       "       [2, 3]])"
      ]
     },
     "execution_count": 17,
     "metadata": {},
     "output_type": "execute_result"
    }
   ],
   "source": [
    "getFkPlusOne(store_array, C2, minsup=0.4)"
   ]
  },
  {
   "cell_type": "code",
   "execution_count": 18,
   "metadata": {},
   "outputs": [],
   "source": [
    "def isEmpty(F):\n",
    "    if len(F) < 1:\n",
    "        return True\n",
    "    else:\n",
    "        return False"
   ]
  },
  {
   "cell_type": "markdown",
   "metadata": {},
   "source": [
    "## extraction of Frequent Items"
   ]
  },
  {
   "cell_type": "markdown",
   "metadata": {},
   "source": [
    "- k =1\n",
    "- データベースを数え上げて$F_1$を生成\n",
    "  - ループ先頭\n",
    "  - $F_k$から$C_{k+1}$を生成\n",
    "  - $C_{k+1}$中の集合が実際に頻出かどうかを、データベースを数え上げて $F_{k+1}$を生成\n",
    "  - $F_{k+1}$が空ならばループを終了\n",
    "  - $k= k+1;$ ループ先頭に戻る\n",
    "- 出力: $F1, F2, ..., F_{k+1}$"
   ]
  },
  {
   "cell_type": "code",
   "execution_count": 19,
   "metadata": {},
   "outputs": [
    {
     "name": "stdout",
     "output_type": "stream",
     "text": [
      "1\n",
      "F_now\n",
      "[[0]\n",
      " [1]\n",
      " [2]\n",
      " [3]]\n",
      "calc C_k+1: k is set to 2\n",
      "k=2, all combinations are output without filtering\n",
      "C_next\n",
      "[[0 1]\n",
      " [0 2]\n",
      " [0 3]\n",
      " [1 2]\n",
      " [1 3]\n",
      " [2 3]]\n",
      "2\n",
      "F_now\n",
      "[[1 2]\n",
      " [1 3]\n",
      " [2 3]]\n",
      "calc C_k+1: k is set to 3\n",
      "C_next\n",
      "[[1 2 3]]\n",
      "3\n",
      "F_now\n",
      "[[1 2 3]]\n",
      "calc C_k+1: k is set to 4\n",
      "C_next\n",
      "[]\n"
     ]
    }
   ],
   "source": [
    "db = store_array\n",
    "minsum = 0.4\n",
    "k = 1\n",
    "F_list = []\n",
    "F_now = getF1(store_array, minsum)\n",
    "F_list.append(F_now)\n",
    "while(True):\n",
    "    print(k)\n",
    "    print(\"F_now\")\n",
    "    print(F_now)\n",
    "    print(\"calc C_k+1: k is set to %d\" %  (k+1))\n",
    "    C_next = getCkPlusOne(F_now, k+1)\n",
    "    print(\"C_next\")\n",
    "    print(C_next)\n",
    "    F_next = getFkPlusOne(store_array, C_next, minsum)\n",
    "    if isEmpty(F_next):\n",
    "        break\n",
    "    k += 1\n",
    "    F_now = F_next\n",
    "    F_list.append(F_now)\n",
    "    \n",
    "del k"
   ]
  },
  {
   "cell_type": "markdown",
   "metadata": {},
   "source": [
    "Frequent itemの格納リスト(F_list)\n",
    "リストの中に、k個の頻出アイテムリストが入っている（リストのリスト）\n",
    "\n",
    "**k=1が0番目のリストに入っているためインデックスの時は注意**\n",
    "\n",
    "各リストの中は2次元のnp.ndarray形式で入っている。\n",
    "2D配列中の値はデータ中の列インデックス番号。\n",
    "k=1のときは一つの列に対するfrequent item。\n",
    "k=2のときは二つの列の組み合わせに対するfrequent item。\n",
    "frequent itemは複数あるので2次元の配列にしている。\n",
    "\n",
    "\n",
    "例\n",
    "\n",
    "In [XX]: F_list\n",
    "\n",
    "Out[XX]:  [\n",
    "                array([[0],[1],[2],[3]]),  # k =1\n",
    "                \n",
    "                array([[1,2], [1,3], [2,3]]),  # k = 2\n",
    "                \n",
    "                array([[1,2,3]]),　# k = 3\n",
    "                \n",
    "                ...\n",
    "                \n",
    "                ]\n",
    "                "
   ]
  },
  {
   "cell_type": "code",
   "execution_count": 20,
   "metadata": {},
   "outputs": [
    {
     "data": {
      "text/plain": [
       "[array([[0],\n",
       "        [1],\n",
       "        [2],\n",
       "        [3]]), array([[1, 2],\n",
       "        [1, 3],\n",
       "        [2, 3]]), array([[1, 2, 3]])]"
      ]
     },
     "execution_count": 20,
     "metadata": {},
     "output_type": "execute_result"
    }
   ],
   "source": [
    "F_list"
   ]
  },
  {
   "cell_type": "markdown",
   "metadata": {},
   "source": [
    "## 相関ルールの抽出"
   ]
  },
  {
   "cell_type": "markdown",
   "metadata": {},
   "source": [
    "### 相関ルールのフォーマット\n",
    "\n",
    "- conf_list: k個の相関ルールを格納するリスト\n",
    "  - 0個めのインデックスにk=1がくるため、インデックスに注意\n",
    "\n",
    "- **k=1のルールはない（「AならばB」のように最低2つのインデックスを使うので）**\n",
    "  - ダミーとしてNoneを格納する\n",
    "  \n",
    " conf_list の各要素の説明、\n",
    " [(array([1,2]), array([3])), ...]\n",
    "\n",
    "\n",
    "- list(tuple(array, array)))の形\n",
    "- tuple中の2つのarrayがantecedentとconsequent\n",
    "- それをtupleでパッケージングしている。\n",
    "- さらにそれが複数ありリストで格納している\n",
    " \n",
    " \n"
   ]
  },
  {
   "cell_type": "code",
   "execution_count": 21,
   "metadata": {},
   "outputs": [],
   "source": [
    "conf_list = []\n",
    "minconf = 0.1\n",
    "\n",
    "\n",
    "'''\n",
    "F_list =\n",
    "\n",
    "    [array([[0],[1],[2],[3]]),          # k=1\n",
    "      array([[1, 2],[1, 3],[2, 3]]),    # k=2\n",
    "      array([[1, 2, 3]])],                     # k=3\n",
    "      ...\n",
    "      ]\n",
    "'''\n",
    "    \n",
    "    \n",
    "for F in F_list: # F_listの中の特定のkに対するfrequent items\n",
    "    k = len(F[0])\n",
    "    if k == 1:\n",
    "        conf_list.append([None])\n",
    "        pass\n",
    "    elif k == 2:\n",
    "        conf_list_k = []\n",
    "        for f_2 in F:\n",
    "            A = f_2[0]\n",
    "            B = f_2[1]\n",
    "            conf_AB = confidence(store_array, A, B)\n",
    "            if conf_AB >= minconf:\n",
    "                conf_list_k.append((np.array([A]),np.array([B])))\n",
    "            conf_BA = confidence(store_array, B, A)\n",
    "            if conf_BA >= minconf:\n",
    "                conf_list_k.append((np.array([B]),np.array([A])))\n",
    "        conf_list.append(conf_list_k)\n",
    "    \n",
    "    elif k >= 3:\n",
    "        conf_list_k = []\n",
    "        for f_k in F:    # 特定のkに対する一つ一つのfrequent item\n",
    "           \n",
    "            \n",
    "            '''example\n",
    "            k=3\n",
    "            \n",
    "            j=1\n",
    "            f_k: [1,2,3]\n",
    "            conf: ([1,2],[3]), ([1,3],[2]),([2,3],[1]) # j = 1\n",
    "            f_kからj=1個consequentを作りだしてconfidenceを求める\n",
    "            confidenceがminconf以上のものをconf_listに格納\n",
    "            格納するものを\n",
    "            ([1,2],[3]),([2,3],[1])とする(※とする)。　([1,3],[2])はminconf未満\n",
    "            \n",
    "            j = 2\n",
    "            f_k: [1,2,3]\n",
    "            conf: ([1],[2,3]),([2],[1,3]),([3],[1,2])\n",
    "            リストアップしたconfの全てに対してconfidenceを計算すると時間がかかるので、\n",
    "            効率的に解く。\n",
    "            \n",
    "            例えば([1],[2,3])のconfidenceを計算する必要があるのか？については\n",
    "            consequentから一つをantecedentに戻したもの全てが※に含まれる必要がある\n",
    "            \n",
    "            [1],[2,3]からは\n",
    "            [1,2],[3]　および [1,3],[2]が得られる。conf_listに格納した値は\n",
    "            [1,2],[3] および　[2,3],[1]　であるので条件を満たさない\n",
    "            故に[1],[2,3]はconfidenceを計算する必要がない。\n",
    "            \n",
    "            [2],[1,3]からは\n",
    "            [1,2],[3]　および [2,3],[1]が得られる。conf_listに格納した値は\n",
    "            [1,2],[3] および　[2,3],[1]　であるので条件を満たす\n",
    "            故に[2],[1,3]はconfidenceを上回る可能性があるので計算する必要がある。\n",
    "            \n",
    "            上記の探索は結局 対象としている相関ルールのantecedentが前回の※の全ての\n",
    "            antecedentに含まれていることに帰着できる。\n",
    "            \n",
    "            '''\n",
    "            \n",
    "            set_all = set(f_k)\n",
    "            j= 1 # k個のantecedentからj個をconsequentに移動させてconfidenceを算出する\n",
    "            \n",
    "            # 新しい相関ルール候補の作成\n",
    "            array_antecedent = np.array(list(combinations(f_k, k-1 )))\n",
    "            array_consequent = np.array([tuple(set_all - set(c))  for c in array_antecedent])\n",
    "            conf = np.array([confidence(store_array, ant, con) for ant, con in zip(array_antecedent, array_consequent)])\n",
    "            \n",
    "            isHigher = conf > minconf\n",
    "            array_antecedent_filtered_by_conf = array_antecedent[isHigher]\n",
    "            array_consequent_filtered_by_conf = array_consequent[isHigher]\n",
    "            \n",
    "            conf_list_k.append([(a,c) for a,c in zip(array_antecedent_filtered_by_conf, array_consequent_filtered_by_conf)])\n",
    "         \n",
    "           \n",
    "           \n",
    "            while(j < k-1):\n",
    "                array_antecedent_new = np.array(list(combinations(f_k, k-(j+1) )))\n",
    "                # filter antecedent by previous conf\n",
    "                _res = [np.all([set(i) <= set(s) for s in array_antecedent_filtered_by_conf]) for i in array_antecedent_new]\n",
    "                array_antecedent_filtered_by_prev = array_antecedent_new[_res]\n",
    "                array_consequent_filtered_by_prev = np.array([tuple(set_all - set(c))  for c in array_antecedent_filtered_by_prev])\n",
    "                conf = np.array([confidence(store_array, ant, con) for ant, con in zip(array_antecedent_filtered_by_prev, \n",
    "                                                                                                                          array_consequent_filtered_by_prev)])\n",
    "                isHigher = conf > minconf\n",
    "                array_antecedent_filtered_by_prev_and_conf = array_antecedent_filtered_by_prev[isHigher]\n",
    "                array_consequent_filtered_by_prev_and_conf = array_consequent_filtered_by_prev[isHigher]\n",
    "                \n",
    "                conf_list_k.append([(a,c) for a,c in zip(array_antecedent_filtered_by_prev_and_conf, \n",
    "                                                                                     array_consequent_filtered_by_prev_and_conf)])\n",
    "                \n",
    "                j += 1\n",
    "        \n",
    "        conf_list.append(conf_list_k)\n",
    "            \n",
    "            "
   ]
  },
  {
   "cell_type": "code",
   "execution_count": 22,
   "metadata": {},
   "outputs": [
    {
     "data": {
      "text/plain": [
       "[[None],\n",
       " [(array([1]), array([2])),\n",
       "  (array([2]), array([1])),\n",
       "  (array([1]), array([3])),\n",
       "  (array([3]), array([1])),\n",
       "  (array([2]), array([3])),\n",
       "  (array([3]), array([2]))],\n",
       " [[(array([1, 2]), array([3])),\n",
       "   (array([1, 3]), array([2])),\n",
       "   (array([2, 3]), array([1]))],\n",
       "  []]]"
      ]
     },
     "execution_count": 22,
     "metadata": {},
     "output_type": "execute_result"
    }
   ],
   "source": [
    "conf_list"
   ]
  },
  {
   "cell_type": "code",
   "execution_count": 23,
   "metadata": {},
   "outputs": [
    {
     "data": {
      "text/plain": [
       "array([[1, 2],\n",
       "       [1, 3],\n",
       "       [2, 3]])"
      ]
     },
     "execution_count": 23,
     "metadata": {},
     "output_type": "execute_result"
    }
   ],
   "source": [
    "array_antecedent_filtered_by_conf"
   ]
  },
  {
   "cell_type": "code",
   "execution_count": 24,
   "metadata": {},
   "outputs": [
    {
     "data": {
      "text/plain": [
       "array([[1],\n",
       "       [2],\n",
       "       [3]])"
      ]
     },
     "execution_count": 24,
     "metadata": {},
     "output_type": "execute_result"
    }
   ],
   "source": [
    "array_antecedent_new"
   ]
  },
  {
   "cell_type": "code",
   "execution_count": 25,
   "metadata": {},
   "outputs": [
    {
     "ename": "SyntaxError",
     "evalue": "unexpected EOF while parsing (<ipython-input-25-cbe7b9dbd039>, line 19)",
     "output_type": "error",
     "traceback": [
      "\u001b[0;36m  File \u001b[0;32m\"<ipython-input-25-cbe7b9dbd039>\"\u001b[0;36m, line \u001b[0;32m19\u001b[0m\n\u001b[0;31m    \u001b[0m\n\u001b[0m    ^\u001b[0m\n\u001b[0;31mSyntaxError\u001b[0m\u001b[0;31m:\u001b[0m unexpected EOF while parsing\n"
     ]
    }
   ],
   "source": [
    "def isCalcConfNeeded(array_prev_ant, array_ant, set_f):\n",
    "    \n",
    "        '''\n",
    "        Input \n",
    "            array_prev_ant: array([1,2], [1,3], [2,3])\n",
    "            array_ant: array([1],[2],[3])\n",
    "            set_f: [1,2,3]\n",
    "            \n",
    "        Var\n",
    "            array_prev_con: array([3],[2],[1])\n",
    "            array_con: array([1,2],[1,3],[2,3])\n",
    "        \n",
    "        '''\n",
    "        array_prev_con  = np.array([tuple(set_f - set(c))  for c in array_prev_ant])\n",
    "        array_con  = np.array([tuple(set_f - set(c))  for c in array_ant])\n",
    "        \n",
    "        for a,c in zip(array_ant, array_con):\n",
    "            for i in range(len(c)):\n",
    "                array_ant_candidate = a\n",
    "                cand = c[i]\n",
    "                np.append(array_candidate_ant, cand)\n",
    "                \n",
    "            \n",
    "            \n",
    "            \n"
   ]
  },
  {
   "cell_type": "code",
   "execution_count": 37,
   "metadata": {},
   "outputs": [],
   "source": [
    "array_prev_ant = np.array([[1,2], [1,3], [2,3]])\n",
    "array_ant = np.array([[1],[2],[3]])\n",
    "array_prev_con  = np.array([tuple(set_all - set(c))  for c in array_prev_ant])\n",
    "array_con  = np.array([tuple(set_all - set(c))  for c in array_ant])"
   ]
  },
  {
   "cell_type": "code",
   "execution_count": 27,
   "metadata": {},
   "outputs": [
    {
     "data": {
      "text/plain": [
       "array([[2, 3],\n",
       "       [1, 3],\n",
       "       [1, 2]])"
      ]
     },
     "execution_count": 27,
     "metadata": {},
     "output_type": "execute_result"
    }
   ],
   "source": [
    "array_con"
   ]
  },
  {
   "cell_type": "code",
   "execution_count": 28,
   "metadata": {},
   "outputs": [
    {
     "data": {
      "text/plain": [
       "array([[3],\n",
       "       [2],\n",
       "       [1]])"
      ]
     },
     "execution_count": 28,
     "metadata": {},
     "output_type": "execute_result"
    }
   ],
   "source": [
    "array_prev_con"
   ]
  },
  {
   "cell_type": "code",
   "execution_count": 35,
   "metadata": {},
   "outputs": [
    {
     "ename": "ValueError",
     "evalue": "cannot delete array elements",
     "output_type": "error",
     "traceback": [
      "\u001b[0;31m---------------------------------------------------------------------------\u001b[0m",
      "\u001b[0;31mValueError\u001b[0m                                Traceback (most recent call last)",
      "\u001b[0;32m<ipython-input-35-35e6555c2cce>\u001b[0m in \u001b[0;36m<module>\u001b[0;34m\u001b[0m\n\u001b[1;32m      1\u001b[0m \u001b[0;32mfor\u001b[0m \u001b[0mi\u001b[0m \u001b[0;32min\u001b[0m \u001b[0mrange\u001b[0m\u001b[0;34m(\u001b[0m\u001b[0mlen\u001b[0m\u001b[0;34m(\u001b[0m\u001b[0marray_con\u001b[0m\u001b[0;34m)\u001b[0m\u001b[0;34m)\u001b[0m\u001b[0;34m:\u001b[0m\u001b[0;34m\u001b[0m\u001b[0;34m\u001b[0m\u001b[0m\n\u001b[0;32m----> 2\u001b[0;31m     \u001b[0;32mdel\u001b[0m \u001b[0marray_con\u001b[0m\u001b[0;34m[\u001b[0m\u001b[0mi\u001b[0m\u001b[0;34m]\u001b[0m\u001b[0;34m\u001b[0m\u001b[0;34m\u001b[0m\u001b[0m\n\u001b[0m",
      "\u001b[0;31mValueError\u001b[0m: cannot delete array elements"
     ]
    }
   ],
   "source": [
    "for i in range(len(array_con)):\n",
    "    del array_con[i]"
   ]
  },
  {
   "cell_type": "code",
   "execution_count": 36,
   "metadata": {},
   "outputs": [
    {
     "data": {
      "text/plain": [
       "array([3, 1, 3, 1, 2])"
      ]
     },
     "execution_count": 36,
     "metadata": {},
     "output_type": "execute_result"
    }
   ],
   "source": [
    "np.delete(array_con, 0)"
   ]
  },
  {
   "cell_type": "code",
   "execution_count": null,
   "metadata": {},
   "outputs": [],
   "source": [
    "a = np.array((1,2,3),(2,3,4)); b = np.array((1,2,3))\n",
    "np.in1d(a,b)"
   ]
  },
  {
   "cell_type": "code",
   "execution_count": null,
   "metadata": {},
   "outputs": [],
   "source": [
    "np.array((1,2,3))"
   ]
  },
  {
   "cell_type": "code",
   "execution_count": null,
   "metadata": {},
   "outputs": [],
   "source": []
  }
 ],
 "metadata": {
  "kernelspec": {
   "display_name": "Python 3",
   "language": "python",
   "name": "python3"
  },
  "language_info": {
   "codemirror_mode": {
    "name": "ipython",
    "version": 3
   },
   "file_extension": ".py",
   "mimetype": "text/x-python",
   "name": "python",
   "nbconvert_exporter": "python",
   "pygments_lexer": "ipython3",
   "version": "3.6.9"
  }
 },
 "nbformat": 4,
 "nbformat_minor": 2
}
