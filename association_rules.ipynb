{
 "cells": [
  {
   "cell_type": "code",
   "execution_count": null,
   "metadata": {},
   "outputs": [],
   "source": [
    "import numpy as np\n",
    "import pandas as pd\n",
    "import matplotlib.pyplot as plt\n",
    "from itertools import product"
   ]
  },
  {
   "cell_type": "markdown",
   "metadata": {},
   "source": [
    "## data load"
   ]
  },
  {
   "cell_type": "code",
   "execution_count": null,
   "metadata": {},
   "outputs": [],
   "source": [
    "store_data = pd.read_csv('onigiri.csv', sep=',')\n",
    "store_array = store_data.values"
   ]
  },
  {
   "cell_type": "code",
   "execution_count": null,
   "metadata": {},
   "outputs": [],
   "source": [
    "store_data"
   ]
  },
  {
   "cell_type": "code",
   "execution_count": 4,
   "metadata": {},
   "outputs": [],
   "source": [
    "def GTI(df, indexes): # Get True Indexes\n",
    "    '''\n",
    "    Input\n",
    "        df: dataframe (row: transactions, col: items)\n",
    "        index: column indexes num to be examined \n",
    "    Output\n",
    "        list of boolen\n",
    "    '''\n",
    "    if type(indexes) == int:\n",
    "        indexes = [indexes]\n",
    "    elif type(indexes) == np.int64:\n",
    "        indexes = [indexes]\n",
    "        \n",
    "    return df[:,indexes]==1"
   ]
  },
  {
   "cell_type": "code",
   "execution_count": null,
   "metadata": {},
   "outputs": [],
   "source": [
    "def support(array_2d,  indexes, m='num'):\n",
    "    gti_b = GTI(array_2d, indexes)\n",
    "    if gti_b.shape[1]==0:\n",
    "        return 0\n",
    "    b = np.all(gti_b, axis=1)\n",
    "    if m =='num':\n",
    "        return np.sum(b)\n",
    "    elif m =='ratio':\n",
    "        return np.sum(b)/len(b)\n",
    "    elif m == 'bool':\n",
    "        return b1"
   ]
  },
  {
   "cell_type": "code",
   "execution_count": null,
   "metadata": {},
   "outputs": [],
   "source": [
    "def confidence(array_2d, X_indexes, Y_indexes):\n",
    "    sup_X = support(array_2d, X_indexes)\n",
    "    X_Y_indexes = np.hstack([X_indexes, Y_indexes])\n",
    "    return support(array_2d, X_Y_indexes)/sup_X\n",
    "    "
   ]
  },
  {
   "cell_type": "code",
   "execution_count": null,
   "metadata": {},
   "outputs": [],
   "source": [
    "GTI(store_array,[1,2])"
   ]
  },
  {
   "cell_type": "code",
   "execution_count": null,
   "metadata": {},
   "outputs": [],
   "source": [
    "support(store_array, np.array([1,2]), m='ratio')"
   ]
  },
  {
   "cell_type": "code",
   "execution_count": null,
   "metadata": {
    "scrolled": true
   },
   "outputs": [],
   "source": [
    "const = [True, False]\n",
    "threshold = 0.2\n",
    "for args in product(const, repeat=5):\n",
    "    #print(\"args\")\n",
    "    #print(args)\n",
    "    #print(\"items\")\n",
    "    #print(store_array[:,args])\n",
    "    #print(\"support\")\n",
    "    sup = support(store_array, args, m='ratio') \n",
    "    if sup >= threshold:\n",
    "        print(\"args\")\n",
    "        print(args)\n",
    "        print(\"items\")\n",
    "        print(store_array[:,args])\n",
    "        print(\"support\")       \n",
    "        print(support(store_array, args, m='ratio'))\n",
    "        print()"
   ]
  },
  {
   "cell_type": "code",
   "execution_count": null,
   "metadata": {},
   "outputs": [],
   "source": [
    "def getF1(array_2D, minsup):\n",
    "    '''\n",
    "    Description\n",
    "        Output frequent itemset from original tables (k=1)\n",
    "    Input\n",
    "        array_2D -> row: transactions, col: items\n",
    "    Output\n",
    "        frequent items' indexes: list\n",
    "    '''\n",
    "    return np.array([[col] for col in range(array_2D.shape[1]) if support(array_2D,col, m='ratio') >= minsup])"
   ]
  },
  {
   "cell_type": "code",
   "execution_count": null,
   "metadata": {},
   "outputs": [],
   "source": [
    "def getFkPlusOne(array_2D, indexes, minsup):\n",
    "    '''\n",
    "    Description\n",
    "        Output frequent itemset from original tables (k=1)\n",
    "    Input\n",
    "        array_2D -> row: transactions, col: items\n",
    "        indexes -> list of tuples [(),(),...()] \n",
    "    '''\n",
    "    \n",
    "    return np.array([col for col in indexes if support(array_2D,col, m='ratio') >= minsup])"
   ]
  },
  {
   "cell_type": "code",
   "execution_count": null,
   "metadata": {},
   "outputs": [],
   "source": [
    "F1 = getF1(store_array, minsup=0.4)"
   ]
  },
  {
   "cell_type": "code",
   "execution_count": null,
   "metadata": {},
   "outputs": [],
   "source": [
    "F1"
   ]
  },
  {
   "cell_type": "code",
   "execution_count": null,
   "metadata": {},
   "outputs": [],
   "source": [
    "def getCkPlusOne(prevCandidate, k):\n",
    "    '''\n",
    "    input\n",
    "    prevCandidate: [(),(),...,()] # list of tuples\n",
    "    k: length of next Candidate\n",
    "    Output\n",
    "      nextCandidate:[(),(),...,()] # list of tuples\n",
    "     '''\n",
    "    \n",
    "    assert np.all(np.array([len(x) for x in prevCandidate])== k-1)\n",
    "    assert k >1\n",
    "    items = list(np.unique(np.array(prevCandidate).flatten())) \n",
    "    tmp_candidates = [x for x in combinations(items, k)]\n",
    "    if k ==2:\n",
    "        print(\"k=2, all combinations are output without filtering\")\n",
    "        return np.array(tmp_candidates)\n",
    "        \n",
    "    candidates = [\n",
    "        candidate for candidate in tmp_candidates\n",
    "        if all(\n",
    "            x in prevCandidate\n",
    "            for x in combinations(candidate, k - 1))\n",
    "    ]\n",
    "       \n",
    "    return np.array(candidates)"
   ]
  },
  {
   "cell_type": "code",
   "execution_count": null,
   "metadata": {},
   "outputs": [],
   "source": [
    "C2 = getCkPlusOne(F1, 2)"
   ]
  },
  {
   "cell_type": "code",
   "execution_count": null,
   "metadata": {},
   "outputs": [],
   "source": [
    "C2"
   ]
  },
  {
   "cell_type": "code",
   "execution_count": null,
   "metadata": {},
   "outputs": [],
   "source": [
    "getFkPlusOne(store_array, C2, minsup=0.4)"
   ]
  },
  {
   "cell_type": "code",
   "execution_count": null,
   "metadata": {},
   "outputs": [],
   "source": [
    "def isEmpty(F):\n",
    "    if len(F) < 1:\n",
    "        return True\n",
    "    else:\n",
    "        return False"
   ]
  },
  {
   "cell_type": "markdown",
   "metadata": {},
   "source": [
    "## extraction of Frequent Items"
   ]
  },
  {
   "cell_type": "markdown",
   "metadata": {},
   "source": [
    "- k =1\n",
    "- データベースを数え上げて$F_1$を生成\n",
    "  - ループ先頭\n",
    "  - $F_k$から$C_{k+1}$を生成\n",
    "  - $C_{k+1}$中の集合が実際に頻出かどうかを、データベースを数え上げて $F_{k+1}$を生成\n",
    "  - $F_{k+1}$が空ならばループを終了\n",
    "  - $k= k+1;$ ループ先頭に戻る\n",
    "- 出力: $F1, F2, ..., F_{k+1}$"
   ]
  },
  {
   "cell_type": "code",
   "execution_count": null,
   "metadata": {},
   "outputs": [],
   "source": [
    "db = store_array\n",
    "minsum = 0.4\n",
    "k = 1\n",
    "F_list = []\n",
    "F_now = getF1(store_array, minsum)\n",
    "F_list.append(F_now)\n",
    "while(True):\n",
    "    print(k)\n",
    "    print(\"F_now\")\n",
    "    print(F_now)\n",
    "    print(\"calc C_k+1: k is set to %d\" %  (k+1))\n",
    "    C_next = getCkPlusOne(F_now, k+1)\n",
    "    print(\"C_next\")\n",
    "    print(C_next)\n",
    "    F_next = getFkPlusOne(store_array, C_next, minsum)\n",
    "    if isEmpty(F_next):\n",
    "        break\n",
    "    k += 1\n",
    "    F_now = F_next\n",
    "    F_list.append(F_now)\n",
    "    \n",
    "del k"
   ]
  },
  {
   "cell_type": "code",
   "execution_count": null,
   "metadata": {},
   "outputs": [],
   "source": [
    "F_list"
   ]
  },
  {
   "cell_type": "markdown",
   "metadata": {},
   "source": [
    "## 相関ルールの抽出"
   ]
  },
  {
   "cell_type": "code",
   "execution_count": null,
   "metadata": {},
   "outputs": [],
   "source": [
    "conf_list = []\n",
    "minconf = 0.7\n",
    "\n",
    "for F in F_list:\n",
    "    k = len(F[0])\n",
    "    if k == 1:\n",
    "        pass\n",
    "    elif k == 2:\n",
    "        conf_list_inner = []\n",
    "        for f_2 in F:\n",
    "            A = f_2[0]\n",
    "            B = f_2[1]\n",
    "            conf_AB = confidence(store_array, A, B)\n",
    "            if conf_AB >= minconf:\n",
    "                conf_list_inner.append((np.array(A),np.array(B)))\n",
    "            conf_BA = confidence(store_array, B, A)\n",
    "            if conf_BA >= minconf:\n",
    "                conf_list_inner.append((np.array(B),np.array(A)))\n",
    "        conf_list.append(conf_list_inner)\n",
    "    \n",
    "    elif k >= 3:\n",
    "        conf_list_inner = []\n",
    "        for f_k in F:\n",
    "            set_all = set(f_k)\n",
    "            j= 1 \n",
    "            array_antecedent = np.array(list(combinations(f_k, k-1 )))\n",
    "            array_consequent = np.array([tuple(set_all - set(c))  for c in array_antecedent])\n",
    "            conf = np.array([confidence(store_array, ant, con) for ant, con in zip(array_antecedent, array_consequent)])\n",
    "            \n",
    "            isHigher = conf > minconf\n",
    "            array_antecedent_filtered_by_conf = array_antecedent[isHigher]\n",
    "            array_consequent_filtered_by_conf = array_consequent[isHigher]\n",
    "            \n",
    "            conf_list_inner.append([(a,c) for a,c in zip(array_antecedent_filtered_by_conf, array_consequent_filtered_by_conf)])\n",
    "            \n",
    "            while(False):\n",
    "                list_antecedent_new = list(combinations(f_k, k-(j+1) ))\n",
    "                # filter antecedent by previous conf\n",
    "                _res = [np.all([set(i) <= set(s) for s in list_antecedent_filtered_by_conf]) for i in list_antecedent_new]\n",
    "                list_consequent_filtered_by_prev = list_antecedent_new[_res]\n",
    "                conf = [confidence(store_array, ant, con) for ant, con in zip(set_antecedent, set_consequent)]\n",
    "                conf_applied = [(list_antecedent[i], list_consequent[i]) for i,val in enumerate(conf) if val > minconf]\n",
    "                #conf_list_inner.append(conf_applied)\n",
    "                \n",
    "                break\n",
    "                \n",
    "            \n",
    "            "
   ]
  },
  {
   "cell_type": "code",
   "execution_count": null,
   "metadata": {},
   "outputs": [],
   "source": [
    "conf_list"
   ]
  },
  {
   "cell_type": "code",
   "execution_count": null,
   "metadata": {},
   "outputs": [],
   "source": [
    "conf_list_inner"
   ]
  },
  {
   "cell_type": "code",
   "execution_count": null,
   "metadata": {},
   "outputs": [],
   "source": [
    "tuple((array_antecedent_filtered_by_conf[0], array_consequent_filtered_by_conf[1]))"
   ]
  },
  {
   "cell_type": "code",
   "execution_count": null,
   "metadata": {},
   "outputs": [],
   "source": [
    "[(a,c) for a,c in zip(array_antecedent_filtered_by_conf, array_consequent_filtered_by_conf)]"
   ]
  },
  {
   "cell_type": "code",
   "execution_count": null,
   "metadata": {},
   "outputs": [],
   "source": [
    "list_antecedent"
   ]
  },
  {
   "cell_type": "code",
   "execution_count": null,
   "metadata": {},
   "outputs": [],
   "source": [
    "list_antecedent_filtered"
   ]
  },
  {
   "cell_type": "code",
   "execution_count": null,
   "metadata": {},
   "outputs": [],
   "source": [
    "list_consequent"
   ]
  },
  {
   "cell_type": "code",
   "execution_count": null,
   "metadata": {},
   "outputs": [],
   "source": [
    "list_consequent_filtered"
   ]
  },
  {
   "cell_type": "code",
   "execution_count": null,
   "metadata": {},
   "outputs": [],
   "source": [
    "[np.all([set(i) <= s for s in  [{1,2},{2,3}]]) for i in list_antecedent]"
   ]
  },
  {
   "cell_type": "code",
   "execution_count": null,
   "metadata": {},
   "outputs": [],
   "source": [
    "set(np.array((1,2,))) <= {1,2,3}"
   ]
  },
  {
   "cell_type": "code",
   "execution_count": null,
   "metadata": {},
   "outputs": [],
   "source": [
    "a = np.array((1,2,3),(2,3,4)); b = np.array((1,2,3))\n",
    "np.in1d(a,b)"
   ]
  },
  {
   "cell_type": "code",
   "execution_count": null,
   "metadata": {},
   "outputs": [],
   "source": [
    "np.array((1,2,3))"
   ]
  },
  {
   "cell_type": "code",
   "execution_count": null,
   "metadata": {},
   "outputs": [],
   "source": []
  }
 ],
 "metadata": {
  "kernelspec": {
   "display_name": "Python 3",
   "language": "python",
   "name": "python3"
  },
  "language_info": {
   "codemirror_mode": {
    "name": "ipython",
    "version": 3
   },
   "file_extension": ".py",
   "mimetype": "text/x-python",
   "name": "python",
   "nbconvert_exporter": "python",
   "pygments_lexer": "ipython3",
   "version": "3.6.9"
  }
 },
 "nbformat": 4,
 "nbformat_minor": 2
}
