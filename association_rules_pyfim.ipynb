{
 "cells": [
  {
   "cell_type": "code",
   "execution_count": 5,
   "metadata": {},
   "outputs": [],
   "source": [
    "from fim import apriori, eclat, fpgrowth, fim\n",
    "import numpy as np\n",
    "import pandas as pd\n",
    "from keras.datasets import fashion_mnist, mnist\n",
    "import matplotlib.pyplot as plt\n",
    "\n",
    "from sklearn import datasets, svm, metrics\n",
    "from sklearn.model_selection import train_test_split\n",
    "from sklearn.preprocessing import binarize, OneHotEncoder\n"
   ]
  },
  {
   "cell_type": "markdown",
   "metadata": {},
   "source": [
    "# Data preparation"
   ]
  },
  {
   "cell_type": "code",
   "execution_count": null,
   "metadata": {},
   "outputs": [],
   "source": [
    "mnist_array = np.loadtxt(\"mnist_8x8_image.csv\", delimiter=',')\n",
    "mnist_array = mnist_array.astype(np.int64)\n",
    "col_names = [str(i) for i in (range(mnist_array.shape[1]))]\n",
    "mnist_df = pd.DataFrame(mnist_array, columns=col_names)\n",
    "mnist_df.head()"
   ]
  },
  {
   "cell_type": "code",
   "execution_count": null,
   "metadata": {},
   "outputs": [],
   "source": [
    "mnist_label = np.loadtxt(\"mnist_8x8_label_onehot.csv\", delimiter=\",\")\n",
    "col_names = [str(64 + i) for i in range(mnist_label.shape[1])]\n",
    "mnist_label = pd.DataFrame(mnist_label, columns=col_names)\n",
    "\n",
    "mnist_label.head(10)"
   ]
  },
  {
   "cell_type": "code",
   "execution_count": null,
   "metadata": {},
   "outputs": [],
   "source": [
    "mnist_label_int = np.argmax(mnist_label.values, axis=1)\n",
    "mnist_label_int = pd.DataFrame(mnist_label_int, columns=['label'])\n",
    "mnist_label_int.head()\n",
    "mnist_label_int.label.value_counts()"
   ]
  },
  {
   "cell_type": "markdown",
   "metadata": {},
   "source": [
    "### concat (image + label) dataframe"
   ]
  },
  {
   "cell_type": "code",
   "execution_count": null,
   "metadata": {},
   "outputs": [],
   "source": [
    "mnist_conc = pd.concat([mnist_df, mnist_label], axis=1)\n",
    "mnist_conc.head()"
   ]
  },
  {
   "cell_type": "markdown",
   "metadata": {},
   "source": [
    "# Data conversion\n",
    "\n",
    "table -> transaction "
   ]
  },
  {
   "cell_type": "code",
   "execution_count": 3,
   "metadata": {},
   "outputs": [],
   "source": [
    "def pickupColumns(df, ind):\n",
    "    colnames = df.columns\n",
    "    return  list(np.array(colnames[df.iloc[ind,:] ==1],dtype=np.int64))"
   ]
  },
  {
   "cell_type": "code",
   "execution_count": null,
   "metadata": {},
   "outputs": [],
   "source": [
    "transactions = [pickupColumns(mnist_df,i) for i in range(mnist_df.shape[0])]\n",
    "transactions = np.array(transactions)\n",
    "\n",
    "transactions_conc = [pickupColumns(mnist_conc,i) for i in range(mnist_conc.shape[0])]\n",
    "transactions_conc = np.array(transactions_conc)\n",
    "transactions_conc\n"
   ]
  },
  {
   "cell_type": "markdown",
   "metadata": {},
   "source": [
    "# frequent items in mnist_array"
   ]
  },
  {
   "cell_type": "code",
   "execution_count": null,
   "metadata": {
    "scrolled": true
   },
   "outputs": [],
   "source": [
    "%time res = np.array(fpgrowth(transactions, supp=10, zmin=7, report='s'))\n",
    "\n",
    "freq_df = pd.DataFrame(res, columns=['itemsets', 'support'])\n",
    "freq_df = freq_df.sort_values('support', ascending=False)\n",
    "freq_df.index = np.arange(freq_df.shape[0])\n",
    "freq_df"
   ]
  },
  {
   "cell_type": "markdown",
   "metadata": {},
   "source": [
    "## association rules in mnist_conc"
   ]
  },
  {
   "cell_type": "code",
   "execution_count": null,
   "metadata": {},
   "outputs": [],
   "source": [
    "%time res = np.array(fpgrowth(transactions_conc, conf=40, supp=3, zmin=5, report='C', target='r', eval='x', agg='m', thresh=10))\n",
    "\n",
    "freq_df = pd.DataFrame(res, columns=['consequent','antecedent', 'confident'])\n",
    "freq_df = freq_df.sort_values('confident', ascending=False)\n",
    "freq_df.index = np.arange(freq_df.shape[0])\n",
    "print(freq_df.shape)\n",
    "#freq_df"
   ]
  },
  {
   "cell_type": "code",
   "execution_count": null,
   "metadata": {},
   "outputs": [],
   "source": [
    "rules = freq_df[freq_df.consequent >=64]\n",
    "max_rules = rules.groupby(rules['consequent']).count()\n",
    "max_rules"
   ]
  },
  {
   "cell_type": "code",
   "execution_count": null,
   "metadata": {
    "scrolled": false
   },
   "outputs": [],
   "source": [
    "import  matplotlib.pyplot as plt \n",
    "row = 10\n",
    "col = 6\n",
    "\n",
    "_, axes = plt.subplots(row,col, figsize = (col*1.3,row*1.3))\n",
    "\n",
    "\n",
    "for i in range(row):\n",
    "    r = rules[rules.consequent==(i+64)]\n",
    "    r_best5 = r[:col]\n",
    "    for j in range(col):\n",
    "        ax = axes[i][j]\n",
    "        image = np.zeros(64)\n",
    "        image[list(r_best5.iloc[j,:].antecedent)] =1\n",
    "        ax.set_axis_off()\n",
    "        ax.imshow(image.reshape(8,8), cmap=plt.cm.gray_r, interpolation='nearest')\n",
    "\n",
    "    "
   ]
  },
  {
   "cell_type": "code",
   "execution_count": null,
   "metadata": {},
   "outputs": [],
   "source": [
    "%debug"
   ]
  },
  {
   "cell_type": "code",
   "execution_count": null,
   "metadata": {},
   "outputs": [],
   "source": [
    "for i in range(10):\n",
    "    print(i)\n",
    "    print(rules[rules.consequent==(i+64)])\n",
    "    print()"
   ]
  },
  {
   "cell_type": "code",
   "execution_count": null,
   "metadata": {},
   "outputs": [],
   "source": [
    "transactions = [pickupColumns(mnist_df,i) for i in range(mnist_df.shape[0])]\n",
    "transactions = np.array(transactions)\n",
    "\n",
    "%time res = np.array(fpgrowth(transactions, supp=5, zmin=10, report='s'))\n",
    "\n",
    "freq_df = pd.DataFrame(res, columns=['itemsets', 'support'])\n",
    "freq_df = freq_df.sort_values('support', ascending=False)\n",
    "freq_df.index = np.arange(freq_df.shape[0])\n",
    "freq_df.head()"
   ]
  },
  {
   "cell_type": "code",
   "execution_count": null,
   "metadata": {},
   "outputs": [],
   "source": [
    "transactions = [pickupColumns(mnist_df,i) for i in range(mnist_df.shape[0])]\n",
    "transactions = np.array(transactions)\n",
    "\n",
    "%time res = fpgrowth(transactions, supp=5, zmin=10, report='s', target='r')\n",
    "res\n",
    "freq_df = pd.DataFrame(res, columns=['consequent','antecedent', 'support'])\n",
    "freq_df = freq_df.sort_values('support', ascending=False)\n",
    "freq_df.index = np.arange(freq_df.shape[0])\n",
    "freq_df.head()"
   ]
  },
  {
   "cell_type": "code",
   "execution_count": null,
   "metadata": {},
   "outputs": [],
   "source": [
    "np.array(res)"
   ]
  },
  {
   "cell_type": "code",
   "execution_count": null,
   "metadata": {},
   "outputs": [],
   "source": [
    "transactions = [pickupColumns(mnist_df,i) for i in range(mnist_df.shape[0])]\n",
    "transactions = np.array(transactions)\n",
    "\n",
    "%time res = np.array(fim(transactions, supp=5, zmin=10, report='s'))\n",
    "\n",
    "freq_df = pd.DataFrame(res, columns=['itemsets', 'support'])\n",
    "freq_df = freq_df.sort_values('support', ascending=False)\n",
    "freq_df.index = np.arange(freq_df.shape[0])\n",
    "freq_df.head()"
   ]
  },
  {
   "cell_type": "code",
   "execution_count": null,
   "metadata": {},
   "outputs": [],
   "source": [
    "freq_df"
   ]
  },
  {
   "cell_type": "markdown",
   "metadata": {},
   "source": [
    "## fashion mnist"
   ]
  },
  {
   "cell_type": "code",
   "execution_count": 4,
   "metadata": {},
   "outputs": [
    {
     "name": "stdout",
     "output_type": "stream",
     "text": [
      "mkdir: data/fashion_mnist: File exists\r\n"
     ]
    }
   ],
   "source": [
    "!mkdir data/fashion_mnist"
   ]
  },
  {
   "cell_type": "code",
   "execution_count": null,
   "metadata": {},
   "outputs": [],
   "source": [
    "((fashion_mnist_trainX, fashion_mnist_trainY), (fashion_mnist_testX, fashion_mnist_testY)) = fashion_mnist.load_data()\n"
   ]
  },
  {
   "cell_type": "code",
   "execution_count": null,
   "metadata": {},
   "outputs": [],
   "source": [
    "fashion_mnist_trainX = trainX\n",
    "fashion_mnist_trainY = trainY\n",
    "fashion_mnist_testX = testX\n",
    "fashion_mnist_testY = testY"
   ]
  },
  {
   "cell_type": "code",
   "execution_count": null,
   "metadata": {},
   "outputs": [],
   "source": [
    "np.savez('fashion_mnist_trainX.npz', trainX)\n",
    "np.savez('fashion_mnist_trainY.npz', trainY)\n",
    "np.savez('fashion_mnist_testX.npz', testX)\n",
    "np.savez('fashion_mnist_testY.npz', )"
   ]
  },
  {
   "cell_type": "code",
   "execution_count": null,
   "metadata": {},
   "outputs": [],
   "source": [
    "!mv fashion_mnist*.npz data/fashion_mnist/"
   ]
  },
  {
   "cell_type": "code",
   "execution_count": null,
   "metadata": {},
   "outputs": [],
   "source": [
    "row = 6\n",
    "col = 15\n",
    "_, axes = plt.subplots(row,col, figsize=(15,12))\n",
    "for i in range(row*col):\n",
    "    r = int(i / col)\n",
    "    c = i % col\n",
    "    ax = axes[r][c]\n",
    "    image = fashion_mnist_trainX[i]\n",
    "    label = fashion_mnist_trainY[i]\n",
    "    ax.set_axis_off()\n",
    "    ax.imshow(image, cmap=plt.cm.gray_r, interpolation='nearest')\n",
    "    ax.set_title('%i' % label)\n",
    "    \n",
    "del image, label"
   ]
  },
  {
   "cell_type": "markdown",
   "metadata": {},
   "source": [
    "### binarize"
   ]
  },
  {
   "cell_type": "code",
   "execution_count": 1,
   "metadata": {},
   "outputs": [
    {
     "ename": "NameError",
     "evalue": "name 'binarize' is not defined",
     "output_type": "error",
     "traceback": [
      "\u001b[0;31m---------------------------------------------------------------------------\u001b[0m",
      "\u001b[0;31mNameError\u001b[0m                                 Traceback (most recent call last)",
      "\u001b[0;32m<ipython-input-1-e866b837e591>\u001b[0m in \u001b[0;36m<module>\u001b[0;34m\u001b[0m\n\u001b[1;32m      1\u001b[0m \u001b[0mthreshold\u001b[0m \u001b[0;34m=\u001b[0m \u001b[0;36m96\u001b[0m\u001b[0;34m\u001b[0m\u001b[0;34m\u001b[0m\u001b[0m\n\u001b[1;32m      2\u001b[0m \u001b[0;31m#fm_bin = binarize(fashion_mnist_trainX.reshape(60000,-1), threshold)\u001b[0m\u001b[0;34m\u001b[0m\u001b[0;34m\u001b[0m\u001b[0;34m\u001b[0m\u001b[0m\n\u001b[0;32m----> 3\u001b[0;31m \u001b[0mfm_bin\u001b[0m \u001b[0;34m=\u001b[0m \u001b[0mbinarize\u001b[0m\u001b[0;34m(\u001b[0m\u001b[0mfashion_mnist_trainX\u001b[0m\u001b[0;34m,\u001b[0m \u001b[0mthreshold\u001b[0m\u001b[0;34m)\u001b[0m\u001b[0;34m\u001b[0m\u001b[0;34m\u001b[0m\u001b[0m\n\u001b[0m",
      "\u001b[0;31mNameError\u001b[0m: name 'binarize' is not defined"
     ]
    }
   ],
   "source": [
    "threshold = 96\n",
    "#fm_bin = binarize(fashion_mnist_trainX.reshape(60000,-1), threshold)\n",
    "fm_bin = binarize(fashion_mnist_trainX, threshold)"
   ]
  },
  {
   "cell_type": "code",
   "execution_count": null,
   "metadata": {},
   "outputs": [],
   "source": [
    "row = 6\n",
    "col = 15\n",
    "_, axes = plt.subplots(row, col, figsize=(15,12))\n",
    "for i in range(row*col):\n",
    "    r = int(i / col)\n",
    "    c = i % col\n",
    "    ax = axes[r][c]\n",
    "    image = fm_bin\n",
    "    label = fashion_mnist_trainY[i]\n",
    "    ax.set_axis_off()\n",
    "    ax.imshow(image, cmap=plt.cm.gray_r, interpolation='nearest')\n",
    "    ax.set_title('Training: %i' % label)\n",
    "    \n",
    "del image, label"
   ]
  },
  {
   "cell_type": "code",
   "execution_count": null,
   "metadata": {},
   "outputs": [],
   "source": [
    "transactions = [pickupColumns(mnist_df,i) for i in range(mnist_df.shape[0])]\n",
    "transactions = np.array(transactions)\n",
    "\n",
    "transactions_conc = [pickupColumns(mnist_conc,i) for i in range(mnist_conc.shape[0])]\n",
    "transactions_conc = np.array(transactions_conc)\n",
    "transactions_conc\n"
   ]
  }
 ],
 "metadata": {
  "kernelspec": {
   "display_name": "Python 3",
   "language": "python",
   "name": "python3"
  },
  "language_info": {
   "codemirror_mode": {
    "name": "ipython",
    "version": 3
   },
   "file_extension": ".py",
   "mimetype": "text/x-python",
   "name": "python",
   "nbconvert_exporter": "python",
   "pygments_lexer": "ipython3",
   "version": "3.6.9"
  }
 },
 "nbformat": 4,
 "nbformat_minor": 2
}
