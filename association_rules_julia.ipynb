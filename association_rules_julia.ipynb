{
 "cells": [
  {
   "cell_type": "code",
   "execution_count": 2,
   "metadata": {},
   "outputs": [],
   "source": [
    "using DataFrames\n",
    "using CSV\n",
    "import Base.Iterators: flatten, zip\n",
    "import IterTools.subsets"
   ]
  },
  {
   "cell_type": "code",
   "execution_count": 3,
   "metadata": {},
   "outputs": [],
   "source": [
    "struct Rule\n",
    "    ant::Array{Int64,1}\n",
    "    con::Array{Int64,1}\n",
    "end"
   ]
  },
  {
   "cell_type": "code",
   "execution_count": 4,
   "metadata": {},
   "outputs": [
    {
     "data": {
      "text/plain": [
       "Rule([1], [2, 3])"
      ]
     },
     "execution_count": 4,
     "metadata": {},
     "output_type": "execute_result"
    }
   ],
   "source": [
    "Rule([1], [2,3])"
   ]
  },
  {
   "cell_type": "markdown",
   "metadata": {},
   "source": [
    "# Data load"
   ]
  },
  {
   "cell_type": "code",
   "execution_count": 5,
   "metadata": {},
   "outputs": [
    {
     "data": {
      "text/plain": [
       "5×5 Array{Int64,2}:\n",
       " 0  1  1  1  0\n",
       " 1  1  0  0  0\n",
       " 1  0  0  1  1\n",
       " 0  1  1  1  0\n",
       " 0  1  0  1  0"
      ]
     },
     "execution_count": 5,
     "metadata": {},
     "output_type": "execute_result"
    }
   ],
   "source": [
    "onigiri_data = CSV.read(\"onigiri.csv\", delim=\",\")\n",
    "onigiri_array = Matrix(onigiri_data)"
   ]
  },
  {
   "cell_type": "code",
   "execution_count": 6,
   "metadata": {},
   "outputs": [
    {
     "data": {
      "text/plain": [
       "GTI (generic function with 1 method)"
      ]
     },
     "execution_count": 6,
     "metadata": {},
     "output_type": "execute_result"
    }
   ],
   "source": [
    "function GTI(mat::Array{Int64,2}, indexes::Array{Int64,1})\n",
    "    return mat[:,indexes] .==1\n",
    "end"
   ]
  },
  {
   "cell_type": "code",
   "execution_count": 7,
   "metadata": {},
   "outputs": [
    {
     "data": {
      "text/plain": [
       "1-element Array{Int64,1}:\n",
       " 2"
      ]
     },
     "execution_count": 7,
     "metadata": {},
     "output_type": "execute_result"
    }
   ],
   "source": [
    "[2]"
   ]
  },
  {
   "cell_type": "code",
   "execution_count": 8,
   "metadata": {},
   "outputs": [
    {
     "data": {
      "text/plain": [
       "5×1 BitArray{2}:\n",
       " 1\n",
       " 1\n",
       " 0\n",
       " 1\n",
       " 1"
      ]
     },
     "execution_count": 8,
     "metadata": {},
     "output_type": "execute_result"
    }
   ],
   "source": [
    "GTI(onigiri_array,[2])"
   ]
  },
  {
   "cell_type": "code",
   "execution_count": 9,
   "metadata": {},
   "outputs": [
    {
     "data": {
      "text/plain": [
       "5×5 Array{Int64,2}:\n",
       " 0  1  1  1  0\n",
       " 1  1  0  0  0\n",
       " 1  0  0  1  1\n",
       " 0  1  1  1  0\n",
       " 0  1  0  1  0"
      ]
     },
     "execution_count": 9,
     "metadata": {},
     "output_type": "execute_result"
    }
   ],
   "source": [
    "onigiri_array"
   ]
  },
  {
   "cell_type": "code",
   "execution_count": 162,
   "metadata": {},
   "outputs": [
    {
     "data": {
      "text/plain": [
       "support (generic function with 1 method)"
      ]
     },
     "execution_count": 162,
     "metadata": {},
     "output_type": "execute_result"
    }
   ],
   "source": [
    "function support(array_2d::Array{Int64,2}, indexes::Array{Int64,1}; m=\"num\")\n",
    "    gti_b = GTI(array_2d, indexes)\n",
    "    if size(gti_b)[2] ==0\n",
    "        return 0\n",
    "    end\n",
    "    b = all(gti_b, dims=2)\n",
    "    @show length(b)\n",
    "    if m ==\"num\"\n",
    "        return sum(b)\n",
    "    elseif m == \"ratio\"\n",
    "        return sum(b)/length(b)\n",
    "    elseif m==\"bool\"\n",
    "        return b\n",
    "    end\n",
    "end\n",
    "\n",
    "            \n",
    "    \n",
    "        \n",
    "            "
   ]
  },
  {
   "cell_type": "code",
   "execution_count": 11,
   "metadata": {},
   "outputs": [
    {
     "data": {
      "text/plain": [
       "confidence (generic function with 1 method)"
      ]
     },
     "execution_count": 11,
     "metadata": {},
     "output_type": "execute_result"
    }
   ],
   "source": [
    "function confidence(array_2d::Array{Int64,2}, \n",
    "        X_indexes::Array{Int64,1}, Y_indexes::Array{Int64,1})\n",
    "    sup_X = support(array_2d, X_indexes)\n",
    "    X_Y_indexes = cat(X_indexes, Y_indexes, dims=1)\n",
    "    return support(array_2d, X_Y_indexes)/sup_X\n",
    "end"
   ]
  },
  {
   "cell_type": "code",
   "execution_count": 12,
   "metadata": {},
   "outputs": [
    {
     "data": {
      "text/plain": [
       "getF1 (generic function with 1 method)"
      ]
     },
     "execution_count": 12,
     "metadata": {},
     "output_type": "execute_result"
    }
   ],
   "source": [
    "function getF1(array_2D::Array{Int64,2}, minsup::Float64)\n",
    "    return [[col] for col in 1:size(array_2D)[2] if support(array_2D, [col], m=\"ratio\") >= minsup]\n",
    "end"
   ]
  },
  {
   "cell_type": "code",
   "execution_count": 13,
   "metadata": {},
   "outputs": [
    {
     "data": {
      "text/plain": [
       "4-element Array{Array{Int64,1},1}:\n",
       " [1]\n",
       " [2]\n",
       " [3]\n",
       " [4]"
      ]
     },
     "execution_count": 13,
     "metadata": {},
     "output_type": "execute_result"
    }
   ],
   "source": [
    "getF1(onigiri_array, 0.4)"
   ]
  },
  {
   "cell_type": "code",
   "execution_count": 122,
   "metadata": {},
   "outputs": [
    {
     "data": {
      "text/plain": [
       "getFkPlusOne (generic function with 1 method)"
      ]
     },
     "execution_count": 122,
     "metadata": {},
     "output_type": "execute_result"
    }
   ],
   "source": [
    "function getFkPlusOne(array_2D::Array{Int64,2}, indexes::Array{Array{Int64,1},1}, minsup::Float64)\n",
    "    return [col for col in indexes if support(array_2D, col, m=\"ratio\") >= minsup]\n",
    "                \n",
    "end"
   ]
  },
  {
   "cell_type": "code",
   "execution_count": 123,
   "metadata": {},
   "outputs": [
    {
     "data": {
      "text/plain": [
       "getCkPlusOne (generic function with 1 method)"
      ]
     },
     "execution_count": 123,
     "metadata": {},
     "output_type": "execute_result"
    }
   ],
   "source": [
    "function getCkPlusOne(prevCandidate::Array{Array{Int64, 1}, 1}, k)\n",
    "    @assert all(length.(prevCandidate) .==  k-1)\n",
    "    @assert k>1\n",
    "    items = unique(collect(flatten(prevCandidate)))\n",
    "    tmp_candidates = [x for x in subsets(items, k)]\n",
    "    if k ==2\n",
    "        return tmp_candidates\n",
    "    end\n",
    "    \n",
    "    candidates = [\n",
    "        candidate for candidate in tmp_candidates\n",
    "        if all(\n",
    "                x in prevCandidate\n",
    "                for x in subsets(candidate, k-1))\n",
    "    ]\n",
    "                \n",
    "    return candidates\n",
    "                \n",
    "end"
   ]
  },
  {
   "cell_type": "code",
   "execution_count": 124,
   "metadata": {},
   "outputs": [
    {
     "data": {
      "text/plain": [
       "isEmpty (generic function with 1 method)"
      ]
     },
     "execution_count": 124,
     "metadata": {},
     "output_type": "execute_result"
    }
   ],
   "source": [
    "function isEmpty(F::Array{Array{Int64,1},1})\n",
    "    if length(F) < 1\n",
    "        return true\n",
    "    else\n",
    "        return false\n",
    "    end\n",
    "end"
   ]
  },
  {
   "cell_type": "code",
   "execution_count": 125,
   "metadata": {},
   "outputs": [
    {
     "data": {
      "text/plain": [
       "isCalcConfNeeded (generic function with 1 method)"
      ]
     },
     "execution_count": 125,
     "metadata": {},
     "output_type": "execute_result"
    }
   ],
   "source": [
    "function isCalcConfNeeded(array_prev_ant::Array{Array{Int64,1},1},\n",
    "                    array_ant::Array{Array{Int64,1},1}, set_f::Array{Int64,1})\n",
    "    array_prev_con = [setdiff(set_f,  set_c) for set_c in array_ant]\n",
    "    array_con = [setdiff(set_f, set_c) for set_c in array_ant]\n",
    "    \n",
    "    out = []\n",
    "    for (a,c) in zip(array_ant, array_con)\n",
    "        out_inner = []\n",
    "        for i in 1:length(c)\n",
    "\n",
    "            array_ant_candidate = a\n",
    "            cand = c[i]\n",
    "            array_candidate_ant = vcat(a, cand)\n",
    "            array_candidate_con = filter(x ->x != cand, c)\n",
    "            \n",
    "            res = any([issubset(array_candidate_ant, i) for i in array_prev_ant])\n",
    "            append!(out_inner, res)\n",
    "        end\n",
    "        if all(out_inner)\n",
    "            append!(out, true)\n",
    "        else\n",
    "            append!(out, false)\n",
    "        end\n",
    "    end\n",
    "    \n",
    "    out = convert(Array{Bool, 1}, out)\n",
    "\n",
    "    return out\n",
    "end\n",
    "\n",
    "                \n",
    "            "
   ]
  },
  {
   "cell_type": "code",
   "execution_count": 143,
   "metadata": {},
   "outputs": [
    {
     "data": {
      "text/plain": [
       "frequent (generic function with 2 methods)"
      ]
     },
     "execution_count": 143,
     "metadata": {},
     "output_type": "execute_result"
    }
   ],
   "source": [
    "function frequent(array_2D::Array{Int64,2}; minsum::Float64)\n",
    "    k = 1\n",
    "    F_now = getF1(array_2D, minsum)\n",
    "    F_list = []\n",
    "    append!(F_list, [F_now])\n",
    "    \n",
    "    while(true)\n",
    "        C_next = getCkPlusOne(F_now, k+1)\n",
    "        F_next = getFkPlusOne(array_2D, C_next, minsum)\n",
    "        \n",
    "        if isEmpty(F_next)\n",
    "            break\n",
    "        end\n",
    "        k += 1\n",
    "        F_now = F_next\n",
    "        append!(F_list, [F_now])\n",
    "    end\n",
    "    \n",
    "    F_list = convert(Array{Array{Array{Int64,1},1},1}, F_list)\n",
    "    \n",
    "    return F_list\n",
    "end"
   ]
  },
  {
   "cell_type": "code",
   "execution_count": 144,
   "metadata": {},
   "outputs": [
    {
     "data": {
      "text/plain": [
       "1-element Array{Array{Array{Int64,1},1},1}:\n",
       " []"
      ]
     },
     "execution_count": 144,
     "metadata": {},
     "output_type": "execute_result"
    }
   ],
   "source": [
    "_F_list = frequent(onigiri_array, minsum=0.4)"
   ]
  },
  {
   "cell_type": "code",
   "execution_count": 154,
   "metadata": {},
   "outputs": [
    {
     "data": {
      "text/plain": [
       "find_rules (generic function with 2 methods)"
      ]
     },
     "execution_count": 154,
     "metadata": {},
     "output_type": "execute_result"
    }
   ],
   "source": [
    "function find_rules(array_2D::Array{Int64, 2}, \n",
    "        F_list::Array{Array{Array{Int64,1},1},1}; minconf::Float64)\n",
    "    conf_list = []\n",
    "    for F in F_list\n",
    "        k = length(F[1])\n",
    "        \n",
    "        if k == 1\n",
    "            #conf_list = vcat(conf_list, Any{[Rule([0],[0])]}) # DUMMY!!\n",
    "        \n",
    "        elseif k == 2\n",
    "            conf_list_k = []\n",
    "            for f_2 in F\n",
    "                A = f_2[1]\n",
    "                B = f_2[2]\n",
    "                conf_AB = confidence(array_2D, [A], [B])\n",
    "                if conf_AB >= minconf\n",
    "                    #append!(conf_list_k, Rule([A],[B]))\n",
    "                    conf_list_k = vcat(conf_list_k, Rule([A],[B]))\n",
    "\n",
    "                end\n",
    "                conf_BA = confidence(array_2D, [B], [A])\n",
    "                if conf_BA >= minconf\n",
    "                    #append!(conf_list_k, Rule([B],[A]))\n",
    "                    conf_list_k = vcat(conf_list_k, Rule([B],[A]))\n",
    "                end\n",
    "            end\n",
    "            append!(conf_list, [conf_list_k])   \n",
    "\n",
    "\n",
    "        elseif k >= 3\n",
    "            conf_list_k = []\n",
    "            for f_k in F\n",
    "                \n",
    "                j = 1\n",
    "                \n",
    "                array_antecedent =  collect(subsets(f_k, k-1))\n",
    "                array_consequent = [setdiff(f_k,  set_c) for set_c in array_antecedent]\n",
    "                conf = [confidence(array_2D, ant, con) for (ant, con) in zip(array_antecedent, array_consequent)]\n",
    "                isHigher = conf .>= minconf\n",
    "                if sum(isHigher) > 0\n",
    "                    array_antecedent_filtered_by_conf = array_antecedent[isHigher]\n",
    "                    array_consequent_filtered_by_conf = array_consequent[isHigher]\n",
    "                    append!(conf_list_k, [Rule(a,c) for (a,c) in zip(array_antecedent_filtered_by_conf,\n",
    "                                                                                            array_consequent_filtered_by_conf)])\n",
    "                    \n",
    "                    while(j < k-1)\n",
    "                        array_antecedent_new = collect(subsets(f_k, k-(j+1)))\n",
    "                        _res = isCalcConfNeeded(array_antecedent_filtered_by_conf, array_antecedent_new, f_k)\n",
    "                        if sum(_res) > 0\n",
    "                            array_antecedent_filtered_by_prev = array_antecedent_new[_res]\n",
    "                            array_consequent_filtered_by_prev = [setdiff(f_k,  set_c) \n",
    "                                                                                            for set_c in array_antecedent_filtered_by_prev]\n",
    "                            conf = [confidence(array_2D, ant, con) for (ant, con) in zip(array_antecedent_filtered_by_prev, \n",
    "                                                                                                                                array_consequent_filtered_by_prev)]\n",
    "                            isHigher = conf .>= minconf\n",
    "                            if sum(isHigher) > 0\n",
    "                                array_antecedent_filtered_by_prev_and_conf = array_antecedent_filtered_by_prev[isHigher]\n",
    "                                array_consequent_filtered_by_prev_and_conf = array_consequent_filtered_by_prev[isHigher]\n",
    "                                append!(conf_list_k, [Rule(a,c) for (a,c) in zip(array_antecedent_filtered_by_prev_and_conf, \n",
    "                                                                                                         array_consequent_filtered_by_prev_and_conf)])\n",
    "                            end\n",
    "                        end\n",
    "                        j += 1\n",
    "                    end #while\n",
    "                end\n",
    "            end\n",
    "            append!(conf_list, [conf_list_k])\n",
    "        end\n",
    "    end\n",
    "    conf_list = convert(Array{Array{Rule,1},1}, conf_list)\n",
    "    return conf_list\n",
    "end\n",
    "        \n",
    "            \n",
    "                    \n",
    "        \n",
    "                    \n",
    "                        \n",
    "            "
   ]
  },
  {
   "cell_type": "code",
   "execution_count": 129,
   "metadata": {},
   "outputs": [
    {
     "ename": "BoundsError",
     "evalue": "BoundsError: attempt to access 0-element Array{Array{Int64,1},1} at index [1]",
     "output_type": "error",
     "traceback": [
      "BoundsError: attempt to access 0-element Array{Array{Int64,1},1} at index [1]",
      "",
      "Stacktrace:",
      " [1] getindex at ./array.jl:728 [inlined]",
      " [2] find_rules(::Array{Int64,2}, ::Array{Array{Array{Int64,1},1},1}, ::Float64) at ./In[128]:5",
      " [3] top-level scope at In[129]:1"
     ]
    }
   ],
   "source": [
    "find_rules(onigiri_array, _F_list, 0.7)"
   ]
  },
  {
   "cell_type": "code",
   "execution_count": 130,
   "metadata": {
    "scrolled": true
   },
   "outputs": [
    {
     "data": {
      "text/plain": [
       "7501×120 Array{Int64,2}:\n",
       " 0  1  1  0  1  0  0  0  0  0  0  0  0  …  0  0  0  1  0  0  1  0  0  1  0  0\n",
       " 0  0  0  0  0  0  0  0  0  0  0  0  0     0  0  0  0  0  0  0  0  0  0  0  0\n",
       " 0  0  0  0  0  0  0  0  0  0  0  0  0     0  0  0  0  0  0  0  0  0  0  0  0\n",
       " 0  0  0  0  1  0  0  0  0  0  0  0  0     0  0  1  0  0  0  0  0  0  0  0  0\n",
       " 0  0  0  0  0  0  0  0  0  0  0  0  0     0  0  0  0  0  0  0  0  1  0  0  0\n",
       " 0  0  0  0  0  0  0  0  0  0  0  0  0  …  0  0  0  0  0  0  0  0  0  0  0  0\n",
       " 0  0  0  0  0  0  0  0  0  0  0  0  0     0  0  0  0  0  0  0  1  0  0  0  0\n",
       " 0  0  0  0  0  0  0  0  0  0  0  0  0     0  0  0  0  0  0  0  0  0  0  0  0\n",
       " 0  0  0  0  0  0  0  0  0  0  0  0  0     0  0  0  0  0  0  0  0  0  0  0  0\n",
       " 0  0  0  0  0  0  0  0  0  0  0  0  0     0  0  0  0  0  0  0  0  0  0  0  0\n",
       " 0  0  0  0  0  0  0  0  0  0  0  0  0  …  0  0  0  0  0  0  0  0  0  0  0  0\n",
       " 0  0  0  0  0  0  0  0  0  0  0  0  0     0  0  0  0  0  0  0  0  0  0  0  0\n",
       " 0  0  0  0  0  0  0  0  0  0  0  0  0     0  0  1  0  0  0  0  0  0  0  0  0\n",
       " ⋮              ⋮              ⋮        ⋱        ⋮              ⋮            \n",
       " 0  0  0  0  0  0  0  0  0  0  0  0  1     0  0  0  0  0  0  0  0  0  0  0  0\n",
       " 0  0  0  0  0  0  0  0  0  0  0  0  0  …  0  0  0  0  0  0  0  0  0  0  0  0\n",
       " 0  0  0  0  0  0  0  0  0  0  0  0  0     0  0  0  0  0  0  0  0  0  0  0  0\n",
       " 0  0  0  0  0  0  0  0  0  0  0  0  0     0  0  0  0  0  0  0  0  0  0  0  0\n",
       " 0  0  0  0  0  0  0  0  0  0  0  0  0     0  0  0  0  0  0  0  0  0  0  0  0\n",
       " 0  0  0  0  0  0  0  0  0  0  0  0  0     1  0  1  0  0  0  0  0  1  0  0  0\n",
       " 0  0  0  0  0  0  0  0  0  0  0  0  0  …  0  0  0  0  0  0  0  0  0  0  0  0\n",
       " 0  0  0  0  0  0  0  0  0  0  0  0  0     0  0  0  0  0  0  0  0  0  0  0  0\n",
       " 0  0  0  0  0  0  0  0  0  0  0  0  0     0  0  0  0  0  0  0  0  0  0  0  0\n",
       " 0  0  0  0  0  0  0  0  0  0  0  0  0     0  0  0  0  0  0  0  0  0  0  0  0\n",
       " 0  0  0  0  0  0  0  0  0  0  0  0  0     0  0  0  0  0  0  0  0  0  0  0  0\n",
       " 0  0  0  0  0  0  0  0  0  0  0  0  0  …  0  0  0  0  0  0  0  0  0  0  1  0"
      ]
     },
     "execution_count": 130,
     "metadata": {},
     "output_type": "execute_result"
    }
   ],
   "source": [
    "store_data = CSV.read(\"store_data_trans.csv\", delim=\",\")\n",
    "store_array = Matrix(store_data)\n",
    "store_array"
   ]
  },
  {
   "cell_type": "code",
   "execution_count": 132,
   "metadata": {
    "scrolled": false
   },
   "outputs": [
    {
     "data": {
      "text/plain": [
       "3-element Array{Array{Array{Int64,1},1},1}:\n",
       " [[2], [3], [5], [7], [8], [9], [10], [11], [13], [14]  …  [110], [111], [112], [114], [115], [116], [117], [118], [119], [120]]                                                                                         \n",
       " [[2, 73], [5, 26], [5, 44], [5, 72], [5, 73], [5, 101], [13, 38], [13, 44], [13, 73], [13, 101]  …  [93, 101], [98, 101], [98, 109], [100, 101], [101, 107], [101, 109], [101, 111], [101, 116], [101, 117], [111, 117]]\n",
       " [[73, 101, 109], [26, 44, 72], [26, 44, 101], [26, 72, 101]]                                                                                                                                                            "
      ]
     },
     "execution_count": 132,
     "metadata": {},
     "output_type": "execute_result"
    }
   ],
   "source": [
    "minsum = 0.007\n",
    "F_list = frequent(store_array, minsum)"
   ]
  },
  {
   "cell_type": "code",
   "execution_count": 133,
   "metadata": {
    "scrolled": true
   },
   "outputs": [
    {
     "name": "stdout",
     "output_type": "stream",
     "text": [
      "conf_list = Any[Any[Rule([2], [73]), Rule([73], [2]), Rule([5], [26]), Rule([26], [5]), Rule([5], [44]), Rule([44], [5]), Rule([5], [72]), Rule([72], [5]), Rule([5], [73]), Rule([73], [5]), Rule([5], [101]), Rule([101], [5]), Rule([13], [38]), Rule([38], [13]), Rule([13], [44]), Rule([44], [13]), Rule([13], [73]), Rule([73], [13]), Rule([13], [101]), Rule([101], [13]), Rule([16], [18]), Rule([18], [16]), Rule([16], [26]), Rule([26], [16]), Rule([16], [38]), Rule([38], [16]), Rule([16], [41]), Rule([41], [16]), Rule([16], [44]), Rule([44], [16]), Rule([16], [49]), Rule([49], [16]), Rule([16], [50]), Rule([50], [16]), Rule([16], [55]), Rule([55], [16]), Rule([16], [56]), Rule([56], [16]), Rule([16], [72]), Rule([72], [16]), Rule([16], [73]), Rule([73], [16]), Rule([16], [83]), Rule([83], [16]), Rule([16], [98]), Rule([98], [16]), Rule([16], [101]), Rule([101], [16]), Rule([16], [109]), Rule([109], [16]), Rule([16], [111]), Rule([111], [16]), Rule([16], [117]), Rule([117], [16]), Rule([17], [26]), Rule([26], [17]), Rule([17], [55]), Rule([55], [17]), Rule([18], [26]), Rule([26], [18]), Rule([18], [38]), Rule([38], [18]), Rule([18], [44]), Rule([44], [18]), Rule([18], [50]), Rule([50], [18]), Rule([18], [55]), Rule([55], [18]), Rule([18], [56]), Rule([56], [18]), Rule([18], [72]), Rule([72], [18]), Rule([18], [73]), Rule([73], [18]), Rule([18], [83]), Rule([83], [18]), Rule([18], [98]), Rule([98], [18]), Rule([18], [101]), Rule([101], [18]), Rule([18], [109]), Rule([109], [18]), Rule([18], [117]), Rule([117], [18]), Rule([22], [72]), Rule([72], [22]), Rule([22], [73]), Rule([73], [22]), Rule([23], [26]), Rule([26], [23]), Rule([23], [44]), Rule([44], [23]), Rule([23], [55]), Rule([55], [23]), Rule([23], [73]), Rule([73], [23]), Rule([24], [26]), Rule([26], [24]), Rule([24], [38]), Rule([38], [24]), Rule([24], [44]), Rule([44], [24]), Rule([24], [50]), Rule([50], [24]), Rule([24], [55]), Rule([55], [24]), Rule([24], [56]), Rule([56], [24]), Rule([24], [72]), Rule([72], [24]), Rule([24], [73]), Rule([73], [24]), Rule([24], [82]), Rule([82], [24]), Rule([24], [83]), Rule([83], [24]), Rule([24], [101]), Rule([101], [24]), Rule([26], [31]), Rule([31], [26]), Rule([26], [32]), Rule([32], [26]), Rule([26], [38]), Rule([38], [26]), Rule([26], [41]), Rule([41], [26]), Rule([26], [44]), Rule([44], [26]), Rule([26], [46]), Rule([46], [26]), Rule([26], [49]), Rule([49], [26]), Rule([26], [50]), Rule([50], [26]), Rule([26], [52]), Rule([52], [26]), Rule([26], [55]), Rule([55], [26]), Rule([26], [56]), Rule([56], [26]), Rule([26], [60]), Rule([60], [26]), Rule([26], [61]), Rule([61], [26]), Rule([26], [66]), Rule([66], [26]), Rule([26], [72]), Rule([72], [26]), Rule([26], [73]), Rule([73], [26]), Rule([26], [82]), Rule([82], [26]), Rule([26], [83]), Rule([83], [26]), Rule([26], [93]), Rule([93], [26]), Rule([26], [98]), Rule([98], [26]), Rule([26], [100]), Rule([100], [26]), Rule([26], [101]), Rule([101], [26]), Rule([26], [109]), Rule([109], [26]), Rule([26], [111]), Rule([111], [26]), Rule([26], [117]), Rule([117], [26]), Rule([31], [38]), Rule([38], [31]), Rule([31], [44]), Rule([44], [31]), Rule([31], [55]), Rule([55], [31]), Rule([31], [73]), Rule([73], [31]), Rule([31], [101]), Rule([101], [31]), Rule([32], [38]), Rule([38], [32]), Rule([32], [44]), Rule([44], [32]), Rule([32], [55]), Rule([55], [32]), Rule([32], [56]), Rule([56], [32]), Rule([32], [72]), Rule([72], [32]), Rule([32], [73]), Rule([73], [32]), Rule([32], [83]), Rule([83], [32]), Rule([32], [101]), Rule([101], [32]), Rule([34], [73]), Rule([73], [34]), Rule([38], [41]), Rule([41], [38]), Rule([38], [44]), Rule([44], [38]), Rule([38], [46]), Rule([46], [38]), Rule([38], [49]), Rule([49], [38]), Rule([38], [50]), Rule([50], [38]), Rule([38], [52]), Rule([52], [38]), Rule([38], [55]), Rule([55], [38]), Rule([38], [56]), Rule([56], [38]), Rule([38], [60]), Rule([60], [38]), Rule([38], [66]), Rule([66], [38]), Rule([38], [72]), Rule([72], [38]), Rule([38], [73]), Rule([73], [38]), Rule([38], [82]), Rule([82], [38]), Rule([38], [83]), Rule([83], [38]), Rule([38], [90]), Rule([90], [38]), Rule([38], [93]), Rule([93], [38]), Rule([38], [98]), Rule([98], [38]), Rule([38], [100]), Rule([100], [38]), Rule([38], [101]), Rule([101], [38]), Rule([38], [109]), Rule([109], [38]), Rule([38], [111]), Rule([111], [38]), Rule([38], [117]), Rule([117], [38]), Rule([41], [44]), Rule([44], [41]), Rule([41], [50]), Rule([50], [41]), Rule([41], [55]), Rule([55], [41]), Rule([41], [56]), Rule([56], [41]), Rule([41], [72]), Rule([72], [41]), Rule([41], [73]), Rule([73], [41]), Rule([41], [101]), Rule([101], [41]), Rule([44], [46]), Rule([46], [44]), Rule([44], [49]), Rule([49], [44]), Rule([44], [50]), Rule([50], [44]), Rule([44], [52]), Rule([52], [44]), Rule([44], [55]), Rule([55], [44]), Rule([44], [56]), Rule([56], [44]), Rule([44], [61]), Rule([61], [44]), Rule([44], [62]), Rule([62], [44]), Rule([44], [65]), Rule([65], [44]), Rule([44], [66]), Rule([66], [44]), Rule([44], [72]), Rule([72], [44]), Rule([44], [73]), Rule([73], [44]), Rule([44], [82]), Rule([82], [44]), Rule([44], [83]), Rule([83], [44]), Rule([44], [98]), Rule([98], [44]), Rule([44], [100]), Rule([100], [44]), Rule([44], [101]), Rule([101], [44]), Rule([44], [107]), Rule([107], [44]), Rule([44], [109]), Rule([109], [44]), Rule([44], [111]), Rule([111], [44]), Rule([44], [117]), Rule([117], [44]), Rule([45], [73]), Rule([73], [45]), Rule([45], [101]), Rule([101], [45]), Rule([46], [72]), Rule([72], [46]), Rule([46], [73]), Rule([73], [46]), Rule([46], [101]), Rule([101], [46]), Rule([47], [73]), Rule([73], [47]), Rule([49], [50]), Rule([50], [49]), Rule([49], [55]), Rule([55], [49]), Rule([49], [56]), Rule([56], [49]), Rule([49], [66]), Rule([66], [49]), Rule([49], [72]), Rule([72], [49]), Rule([49], [73]), Rule([73], [49]), Rule([49], [83]), Rule([83], [49]), Rule([49], [98]), Rule([98], [49]), Rule([49], [101]), Rule([101], [49]), Rule([50], [55]), Rule([55], [50]), Rule([50], [56]), Rule([56], [50]), Rule([50], [61]), Rule([61], [50]), Rule([50], [66]), Rule([66], [50]), Rule([50], [72]), Rule([72], [50]), Rule([50], [73]), Rule([73], [50]), Rule([50], [82]), Rule([82], [50]), Rule([50], [83]), Rule([83], [50]), Rule([50], [98]), Rule([98], [50]), Rule([50], [100]), Rule([100], [50]), Rule([50], [101]), Rule([101], [50]), Rule([50], [109]), Rule([109], [50]), Rule([50], [111]), Rule([111], [50]), Rule([50], [117]), Rule([117], [50]), Rule([52], [55]), Rule([55], [52]), Rule([52], [56]), Rule([56], [52]), Rule([52], [72]), Rule([72], [52]), Rule([52], [73]), Rule([73], [52]), Rule([52], [101]), Rule([101], [52]), Rule([55], [56]), Rule([56], [55]), Rule([55], [61]), Rule([61], [55]), Rule([55], [66]), Rule([66], [55]), Rule([55], [72]), Rule([72], [55]), Rule([55], [73]), Rule([73], [55]), Rule([55], [82]), Rule([82], [55]), Rule([55], [83]), Rule([83], [55]), Rule([55], [98]), Rule([98], [55]), Rule([55], [100]), Rule([100], [55]), Rule([55], [101]), Rule([101], [55]), Rule([55], [109]), Rule([109], [55]), Rule([55], [111]), Rule([111], [55]), Rule([55], [117]), Rule([117], [55]), Rule([56], [60]), Rule([60], [56]), Rule([56], [66]), Rule([66], [56]), Rule([56], [72]), Rule([72], [56]), Rule([56], [73]), Rule([73], [56]), Rule([56], [82]), Rule([82], [56]), Rule([56], [83]), Rule([83], [56]), Rule([56], [93]), Rule([93], [56]), Rule([56], [98]), Rule([98], [56]), Rule([56], [100]), Rule([100], [56]), Rule([56], [101]), Rule([101], [56]), Rule([56], [109]), Rule([109], [56]), Rule([56], [111]), Rule([111], [56]), Rule([56], [117]), Rule([117], [56]), Rule([58], [73]), Rule([73], [58]), Rule([58], [101]), Rule([101], [58]), Rule([60], [72]), Rule([72], [60]), Rule([60], [73]), Rule([73], [60]), Rule([60], [83]), Rule([83], [60]), Rule([60], [98]), Rule([98], [60]), Rule([60], [101]), Rule([101], [60]), Rule([61], [72]), Rule([72], [61]), Rule([61], [73]), Rule([73], [61]), Rule([61], [101]), Rule([101], [61]), Rule([62], [73]), Rule([73], [62]), Rule([62], [101]), Rule([101], [62]), Rule([64], [73]), Rule([73], [64]), Rule([66], [72]), Rule([72], [66]), Rule([66], [73]), Rule([73], [66]), Rule([66], [83]), Rule([83], [66]), Rule([66], [101]), Rule([101], [66]), Rule([70], [73]), Rule([73], [70]), Rule([72], [73]), Rule([73], [72]), Rule([72], [82]), Rule([82], [72]), Rule([72], [83]), Rule([83], [72]), Rule([72], [93]), Rule([93], [72]), Rule([72], [98]), Rule([98], [72]), Rule([72], [100]), Rule([100], [72]), Rule([72], [101]), Rule([101], [72]), Rule([72], [109]), Rule([109], [72]), Rule([72], [111]), Rule([111], [72]), Rule([72], [116]), Rule([116], [72]), Rule([72], [117]), Rule([117], [72]), Rule([73], [81]), Rule([81], [73]), Rule([73], [82]), Rule([82], [73]), Rule([73], [83]), Rule([83], [73]), Rule([73], [86]), Rule([86], [73]), Rule([73], [89]), Rule([89], [73]), Rule([73], [90]), Rule([90], [73]), Rule([73], [91]), Rule([91], [73]), Rule([73], [93]), Rule([93], [73]), Rule([73], [98]), Rule([98], [73]), Rule([73], [100]), Rule([100], [73]), Rule([73], [101]), Rule([101], [73]), Rule([73], [107]), Rule([107], [73]), Rule([73], [109]), Rule([109], [73]), Rule([73], [111]), Rule([111], [73]), Rule([73], [112]), Rule([112], [73]), Rule([73], [116]), Rule([116], [73]), Rule([73], [117]), Rule([117], [73]), Rule([82], [83]), Rule([83], [82]), Rule([82], [98]), Rule([98], [82]), Rule([82], [100]), Rule([100], [82]), Rule([82], [101]), Rule([101], [82]), Rule([82], [109]), Rule([109], [82]), Rule([82], [116]), Rule([116], [82]), Rule([83], [98]), Rule([98], [83]), Rule([83], [101]), Rule([101], [83]), Rule([83], [109]), Rule([109], [83]), Rule([83], [111]), Rule([111], [83]), Rule([86], [101]), Rule([101], [86]), Rule([90], [101]), Rule([101], [90]), Rule([93], [101]), Rule([101], [93]), Rule([98], [101]), Rule([101], [98]), Rule([98], [109]), Rule([109], [98]), Rule([100], [101]), Rule([101], [100]), Rule([101], [107]), Rule([107], [101]), Rule([101], [109]), Rule([109], [101]), Rule([101], [111]), Rule([111], [101]), Rule([101], [116]), Rule([116], [101]), Rule([101], [117]), Rule([117], [101]), Rule([111], [117]), Rule([117], [111])], Any[Rule([73, 101], [109]), Rule([73, 109], [101]), Rule([101, 109], [73]), Rule([73], [101, 109]), Rule([101], [73, 109]), Rule([109], [73, 101]), Rule([26, 44], [72]), Rule([26, 72], [44]), Rule([44, 72], [26]), Rule([26], [44, 72]), Rule([44], [26, 72]), Rule([72], [26, 44]), Rule([26, 44], [101]), Rule([26, 101], [44]), Rule([44, 101], [26]), Rule([26], [44, 101]), Rule([44], [26, 101]), Rule([101], [26, 44]), Rule([26, 72], [101]), Rule([26, 101], [72]), Rule([72, 101], [26]), Rule([26], [72, 101]), Rule([72], [26, 101]), Rule([101], [26, 72])]]"
     ]
    },
    {
     "name": "stdout",
     "output_type": "stream",
     "text": [
      "\n"
     ]
    },
    {
     "data": {
      "text/plain": [
       "2-element Array{Array{Rule,1},1}:\n",
       " [Rule([2], [73]), Rule([73], [2]), Rule([5], [26]), Rule([26], [5]), Rule([5], [44]), Rule([44], [5]), Rule([5], [72]), Rule([72], [5]), Rule([5], [73]), Rule([73], [5])  …  Rule([101], [109]), Rule([109], [101]), Rule([101], [111]), Rule([111], [101]), Rule([101], [116]), Rule([116], [101]), Rule([101], [117]), Rule([117], [101]), Rule([111], [117]), Rule([117], [111])]                                                                                            \n",
       " [Rule([73, 101], [109]), Rule([73, 109], [101]), Rule([101, 109], [73]), Rule([73], [101, 109]), Rule([101], [73, 109]), Rule([109], [73, 101]), Rule([26, 44], [72]), Rule([26, 72], [44]), Rule([44, 72], [26]), Rule([26], [44, 72])  …  Rule([44, 101], [26]), Rule([26], [44, 101]), Rule([44], [26, 101]), Rule([101], [26, 44]), Rule([26, 72], [101]), Rule([26, 101], [72]), Rule([72, 101], [26]), Rule([26], [72, 101]), Rule([72], [26, 101]), Rule([101], [26, 72])]"
      ]
     },
     "execution_count": 133,
     "metadata": {},
     "output_type": "execute_result"
    }
   ],
   "source": [
    "minconf = 0.01\n",
    "find_rules(store_array, F_list, minconf)"
   ]
  },
  {
   "cell_type": "markdown",
   "metadata": {},
   "source": [
    "# mnist"
   ]
  },
  {
   "cell_type": "code",
   "execution_count": null,
   "metadata": {},
   "outputs": [],
   "source": []
  },
  {
   "cell_type": "code",
   "execution_count": 166,
   "metadata": {
    "scrolled": false
   },
   "outputs": [
    {
     "data": {
      "text/plain": [
       "897×64 Array{Int64,2}:\n",
       " 0  0  0  1  1  0  0  0  0  0  0  1  1  …  1  0  0  0  0  0  0  1  1  1  0  0\n",
       " 0  0  0  0  1  1  0  0  0  0  0  1  1     1  1  0  0  0  0  0  0  1  1  1  0\n",
       " 0  0  0  1  1  0  0  0  0  1  1  0  1     0  1  1  0  0  0  0  1  1  1  0  0\n",
       " 0  0  0  0  1  0  0  0  0  0  0  0  1     1  1  0  0  0  0  0  0  1  0  0  0\n",
       " 0  0  1  1  0  0  0  0  0  0  1  1  1     1  1  0  0  0  0  1  1  1  1  0  0\n",
       " 0  0  0  1  1  0  0  0  0  0  0  1  1  …  1  1  1  0  0  0  0  1  1  1  0  0\n",
       " 0  0  0  1  1  1  1  0  0  0  0  0  0     0  0  0  0  0  0  1  0  0  0  0  0\n",
       " 0  0  1  1  1  0  0  0  0  0  1  1  1     0  1  1  0  0  0  1  1  1  1  0  0\n",
       " 0  0  1  1  0  0  0  0  0  0  1  1  1     1  1  0  0  0  0  1  1  1  0  0  0\n",
       " 0  0  0  1  1  1  0  0  0  0  1  1  1     1  1  0  0  0  0  0  1  1  0  0  0\n",
       " 0  0  0  0  1  1  0  0  0  0  0  0  1  …  1  1  0  0  0  0  0  0  1  1  0  0\n",
       " 0  0  0  1  0  0  0  0  0  0  1  1  0     1  1  1  0  0  0  0  1  1  1  1  0\n",
       " 0  0  1  1  1  1  0  0  0  0  1  1  1     1  1  0  0  0  0  1  1  1  1  0  0\n",
       " ⋮              ⋮              ⋮        ⋱           ⋮              ⋮         \n",
       " 0  0  0  1  1  0  0  0  0  0  0  1  0  …  1  0  0  0  0  0  0  1  1  0  0  0\n",
       " 0  0  0  0  1  0  0  0  0  0  0  1  1     1  1  0  0  0  0  0  0  1  0  0  0\n",
       " 0  0  0  1  1  0  0  0  0  0  0  1  1     0  0  0  0  0  0  0  1  0  0  0  0\n",
       " 0  0  1  1  0  0  0  0  0  0  1  1  1     1  1  0  0  0  1  1  1  1  1  0  0\n",
       " 0  0  0  1  1  1  0  0  0  0  1  1  1     1  1  0  0  0  0  0  1  1  1  0  0\n",
       " 0  0  0  1  1  1  0  0  0  0  1  0  0  …  1  0  0  0  0  0  0  1  1  1  0  0\n",
       " 0  0  1  1  1  0  0  0  0  0  1  0  1     0  1  0  0  0  0  1  1  1  0  0  0\n",
       " 0  0  1  1  1  1  1  0  0  0  1  1  1     1  0  0  0  0  0  1  1  1  0  0  0\n",
       " 0  0  0  1  1  0  0  0  0  0  1  1  1     0  0  0  0  0  0  1  1  0  0  0  0\n",
       " 0  0  0  1  1  1  0  0  0  0  1  1  1     0  1  0  0  0  0  0  1  1  1  0  0\n",
       " 0  0  1  1  1  1  0  0  0  0  1  1  1  …  0  0  0  0  0  0  1  1  0  0  0  0\n",
       " 0  0  0  1  1  0  0  0  0  0  0  1  1     1  0  0  0  0  0  0  1  1  0  0  0"
      ]
     },
     "execution_count": 166,
     "metadata": {},
     "output_type": "execute_result"
    }
   ],
   "source": [
    "mnist_data = CSV.read(\"mnist_8x8.csv\", delim=\",\")\n",
    "mnist_array = Matrix(store_data)\n",
    "mnist_array = convert(Array{Int64, 2}, mnist_array)"
   ]
  },
  {
   "cell_type": "code",
   "execution_count": 167,
   "metadata": {},
   "outputs": [
    {
     "data": {
      "text/plain": [
       "(897, 64)"
      ]
     },
     "execution_count": 167,
     "metadata": {},
     "output_type": "execute_result"
    }
   ],
   "source": [
    "size(mnist_array)"
   ]
  },
  {
   "cell_type": "markdown",
   "metadata": {},
   "source": [
    "# Julia"
   ]
  },
  {
   "cell_type": "code",
   "execution_count": 163,
   "metadata": {},
   "outputs": [
    {
     "name": "stdout",
     "output_type": "stream",
     "text": [
      "length(b) = 897\n"
     ]
    },
    {
     "data": {
      "text/plain": [
       "0.2463768115942029"
      ]
     },
     "execution_count": 163,
     "metadata": {},
     "output_type": "execute_result"
    }
   ],
   "source": [
    "support(mnist_array, [3], m=\"ratio\")"
   ]
  },
  {
   "cell_type": "code",
   "execution_count": 158,
   "metadata": {
    "scrolled": false
   },
   "outputs": [
    {
     "name": "stdout",
     "output_type": "stream",
     "text": [
      "  3.775753 seconds (6.54 M allocations: 668.203 MiB, 4.88% gc time)\n"
     ]
    },
    {
     "data": {
      "text/plain": [
       "6-element Array{Array{Array{Int64,1},1},1}:\n",
       " [[3], [4], [5], [6], [11], [12], [13], [14], [19], [20]  …  [46], [51], [52], [53], [54], [55], [59], [60], [61], [62]]                                                                                                                                                                                                                                                                                                                         \n",
       " [[3, 4], [3, 11], [3, 12], [3, 13], [3, 59], [3, 60], [4, 5], [4, 6], [4, 11], [4, 12]  …  [53, 61], [53, 62], [54, 60], [54, 61], [54, 62], [55, 61], [59, 60], [60, 61], [60, 62], [61, 62]]                                                                                                                                                                                                                                                  \n",
       " [[3, 4, 11], [3, 4, 13], [3, 4, 59], [3, 4, 60], [3, 11, 59], [3, 11, 60], [3, 12, 60], [3, 13, 60], [3, 59, 60], [4, 11, 12]  …  [51, 61, 62], [52, 53, 54], [52, 53, 61], [52, 54, 61], [52, 54, 62], [52, 61, 62], [53, 54, 61], [53, 54, 62], [53, 61, 62], [54, 61, 62]]                                                                                                                                                                   \n",
       " [[3, 4, 11, 59], [3, 4, 11, 60], [3, 4, 59, 60], [3, 11, 59, 60], [4, 11, 13, 59], [4, 11, 13, 60], [4, 11, 13, 14], [4, 11, 13, 19], [4, 11, 13, 21], [4, 11, 13, 22]  …  [51, 52, 53, 54], [51, 52, 53, 61], [51, 52, 54, 61], [51, 52, 54, 62], [51, 52, 61, 62], [51, 53, 54, 61], [51, 54, 61, 62], [52, 53, 54, 61], [52, 54, 61, 62], [53, 54, 61, 62]]                                                                                  \n",
       " [[3, 4, 11, 59, 60], [4, 11, 60, 61, 62], [4, 11, 13, 14, 19], [4, 11, 13, 14, 22], [4, 11, 13, 14, 29], [4, 11, 13, 14, 37], [4, 11, 13, 14, 38], [4, 11, 13, 14, 46], [4, 11, 13, 14, 52], [4, 11, 13, 14, 53]  …  [36, 37, 45, 53, 61], [36, 37, 46, 54, 61], [36, 37, 52, 53, 61], [36, 37, 54, 61, 62], [37, 46, 54, 61, 62], [38, 46, 53, 54, 61], [43, 51, 52, 54, 61], [46, 51, 52, 54, 61], [51, 52, 53, 54, 61], [51, 52, 54, 61, 62]]\n",
       " [[4, 11, 13, 19, 46, 54], [4, 11, 13, 19, 52, 53], [4, 11, 13, 29, 37, 52], [4, 11, 13, 38, 46, 54], [4, 13, 29, 37, 52, 53]]                                                                                                                                                                                                                                                                                                                   "
      ]
     },
     "execution_count": 158,
     "metadata": {},
     "output_type": "execute_result"
    }
   ],
   "source": [
    "@time F_list = frequent(mnist_array, minsum=0.3)"
   ]
  },
  {
   "cell_type": "code",
   "execution_count": 156,
   "metadata": {
    "scrolled": false
   },
   "outputs": [
    {
     "name": "stdout",
     "output_type": "stream",
     "text": [
      "  1.829713 seconds (6.75 M allocations: 2.984 GiB, 13.66% gc time)\n"
     ]
    },
    {
     "data": {
      "text/plain": [
       "6-element Array{Array{Rule,1},1}:\n",
       " [Rule([4], [5]), Rule([5], [4]), Rule([4], [11]), Rule([11], [4]), Rule([4], [12]), Rule([12], [4]), Rule([4], [13]), Rule([13], [4]), Rule([4], [14]), Rule([14], [4])  …  Rule([54], [61]), Rule([61], [54]), Rule([54], [62]), Rule([62], [54]), Rule([60], [61]), Rule([61], [60]), Rule([60], [62]), Rule([62], [60]), Rule([61], [62]), Rule([62], [61])]                                                                                                                                                                                                                                                                                                                                                                                    \n",
       " [Rule([4, 5], [11]), Rule([4, 11], [5]), Rule([5, 11], [4]), Rule([4], [5, 11]), Rule([5], [4, 11]), Rule([11], [4, 5]), Rule([4, 5], [12]), Rule([4, 12], [5]), Rule([5, 12], [4]), Rule([4], [5, 12])  …  Rule([61, 62], [54]), Rule([54], [61, 62]), Rule([61], [54, 62]), Rule([62], [54, 61]), Rule([60, 61], [62]), Rule([60, 62], [61]), Rule([61, 62], [60]), Rule([60], [61, 62]), Rule([61], [60, 62]), Rule([62], [60, 61])]                                                                                                                                                                                                                                                                                                            \n",
       " [Rule([4, 5, 11], [12]), Rule([4, 5, 12], [11]), Rule([4, 11, 12], [5]), Rule([5, 11, 12], [4]), Rule([4, 5], [11, 12]), Rule([4, 11], [5, 12]), Rule([4, 12], [5, 11]), Rule([5, 11], [4, 12]), Rule([5, 12], [4, 11]), Rule([11, 12], [4, 5])  …  Rule([54, 60], [61, 62]), Rule([54, 61], [60, 62]), Rule([54, 62], [60, 61]), Rule([60, 61], [54, 62]), Rule([60, 62], [54, 61]), Rule([61, 62], [54, 60]), Rule([54], [60, 61, 62]), Rule([60], [54, 61, 62]), Rule([61], [54, 60, 62]), Rule([62], [54, 60, 61])]                                                                                                                                                                                                                            \n",
       " [Rule([4, 5, 11, 12], [13]), Rule([4, 5, 11, 13], [12]), Rule([4, 5, 12, 13], [11]), Rule([4, 11, 12, 13], [5]), Rule([5, 11, 12, 13], [4]), Rule([4, 5, 11], [12, 13]), Rule([4, 5, 12], [11, 13]), Rule([4, 5, 13], [11, 12]), Rule([4, 11, 12], [5, 13]), Rule([4, 11, 13], [5, 12])  …  Rule([51, 60], [19, 54, 61]), Rule([51, 61], [19, 54, 60]), Rule([54, 60], [19, 51, 61]), Rule([54, 61], [19, 51, 60]), Rule([60, 61], [19, 51, 54]), Rule([19], [51, 54, 60, 61]), Rule([51], [19, 54, 60, 61]), Rule([54], [19, 51, 60, 61]), Rule([60], [19, 51, 54, 61]), Rule([61], [19, 51, 54, 60])]                                                                                                                                            \n",
       " [Rule([4, 5, 11, 12, 13], [14]), Rule([4, 5, 11, 12, 14], [13]), Rule([4, 5, 11, 13, 14], [12]), Rule([4, 5, 12, 13, 14], [11]), Rule([4, 11, 12, 13, 14], [5]), Rule([5, 11, 12, 13, 14], [4]), Rule([4, 5, 11, 12], [13, 14]), Rule([4, 5, 11, 13], [12, 14]), Rule([4, 5, 11, 14], [12, 13]), Rule([4, 5, 12, 13], [11, 14])  …  Rule([52, 61], [12, 13, 53, 60]), Rule([53, 60], [12, 13, 52, 61]), Rule([53, 61], [12, 13, 52, 60]), Rule([60, 61], [12, 13, 52, 53]), Rule([12], [13, 52, 53, 60, 61]), Rule([13], [12, 52, 53, 60, 61]), Rule([52], [12, 13, 53, 60, 61]), Rule([53], [12, 13, 52, 60, 61]), Rule([60], [12, 13, 52, 53, 61]), Rule([61], [12, 13, 52, 53, 60])]                                                            \n",
       " [Rule([4, 5, 11, 12, 13, 14], [60]), Rule([4, 5, 11, 12, 13, 60], [14]), Rule([4, 5, 11, 12, 14, 60], [13]), Rule([4, 5, 11, 13, 14, 60], [12]), Rule([4, 5, 12, 13, 14, 60], [11]), Rule([4, 11, 12, 13, 14, 60], [5]), Rule([5, 11, 12, 13, 14, 60], [4]), Rule([4, 5, 11, 12, 13], [14, 60]), Rule([4, 5, 11, 12, 14], [13, 60]), Rule([4, 5, 11, 12, 60], [13, 14])  …  Rule([52, 60], [4, 5, 12, 13, 61]), Rule([52, 61], [4, 5, 12, 13, 60]), Rule([60, 61], [4, 5, 12, 13, 52]), Rule([4], [5, 12, 13, 52, 60, 61]), Rule([5], [4, 12, 13, 52, 60, 61]), Rule([12], [4, 5, 13, 52, 60, 61]), Rule([13], [4, 5, 12, 52, 60, 61]), Rule([52], [4, 5, 12, 13, 60, 61]), Rule([60], [4, 5, 12, 13, 52, 61]), Rule([61], [4, 5, 12, 13, 52, 60])]"
      ]
     },
     "execution_count": 156,
     "metadata": {},
     "output_type": "execute_result"
    }
   ],
   "source": [
    "@time find_rules(mnist_array, F_list, minconf=0.1)"
   ]
  },
  {
   "cell_type": "code",
   "execution_count": null,
   "metadata": {},
   "outputs": [],
   "source": []
  }
 ],
 "metadata": {
  "kernelspec": {
   "display_name": "Julia 1.2.0",
   "language": "julia",
   "name": "julia-1.2"
  },
  "language_info": {
   "file_extension": ".jl",
   "mimetype": "application/julia",
   "name": "julia",
   "version": "1.2.0"
  }
 },
 "nbformat": 4,
 "nbformat_minor": 2
}
