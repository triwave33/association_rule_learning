{
 "cells": [
  {
   "cell_type": "code",
   "execution_count": 24,
   "metadata": {},
   "outputs": [],
   "source": [
    "using DataFrames\n",
    "using CSV\n",
    "using Printf\n",
    "import Base.Iterators: flatten, zip\n",
    "import IterTools.subsets"
   ]
  },
  {
   "cell_type": "markdown",
   "metadata": {},
   "source": [
    "# Define struct"
   ]
  },
  {
   "cell_type": "code",
   "execution_count": 5,
   "metadata": {},
   "outputs": [],
   "source": [
    "struct Rule\n",
    "    ant::Array{Int64,1}\n",
    "    con::Array{Int64,1}\n",
    "end"
   ]
  },
  {
   "cell_type": "code",
   "execution_count": 6,
   "metadata": {},
   "outputs": [
    {
     "data": {
      "text/plain": [
       "Rule([1], [2, 3])"
      ]
     },
     "execution_count": 6,
     "metadata": {},
     "output_type": "execute_result"
    }
   ],
   "source": [
    "Rule([1], [2,3])"
   ]
  },
  {
   "cell_type": "markdown",
   "metadata": {},
   "source": [
    "# Data load"
   ]
  },
  {
   "cell_type": "code",
   "execution_count": 7,
   "metadata": {},
   "outputs": [
    {
     "data": {
      "text/plain": [
       "5×5 Array{Int64,2}:\n",
       " 0  1  1  1  0\n",
       " 1  1  0  0  0\n",
       " 1  0  0  1  1\n",
       " 0  1  1  1  0\n",
       " 0  1  0  1  0"
      ]
     },
     "execution_count": 7,
     "metadata": {},
     "output_type": "execute_result"
    }
   ],
   "source": [
    "onigiri_data = CSV.read(\"onigiri.csv\", delim=\",\")\n",
    "onigiri_array = Matrix(onigiri_data)"
   ]
  },
  {
   "cell_type": "code",
   "execution_count": 8,
   "metadata": {},
   "outputs": [
    {
     "data": {
      "text/plain": [
       "GTI (generic function with 1 method)"
      ]
     },
     "execution_count": 8,
     "metadata": {},
     "output_type": "execute_result"
    }
   ],
   "source": [
    "function GTI(mat::Array{Int64,2}, indexes::Array{Int64,1})\n",
    "    return mat[:,indexes] .==1\n",
    "end"
   ]
  },
  {
   "cell_type": "code",
   "execution_count": 9,
   "metadata": {},
   "outputs": [
    {
     "data": {
      "text/plain": [
       "1-element Array{Int64,1}:\n",
       " 2"
      ]
     },
     "execution_count": 9,
     "metadata": {},
     "output_type": "execute_result"
    }
   ],
   "source": [
    "[2]"
   ]
  },
  {
   "cell_type": "code",
   "execution_count": 10,
   "metadata": {},
   "outputs": [
    {
     "data": {
      "text/plain": [
       "5×1 BitArray{2}:\n",
       "  true\n",
       "  true\n",
       " false\n",
       "  true\n",
       "  true"
      ]
     },
     "execution_count": 10,
     "metadata": {},
     "output_type": "execute_result"
    }
   ],
   "source": [
    "GTI(onigiri_array,[2])"
   ]
  },
  {
   "cell_type": "code",
   "execution_count": 11,
   "metadata": {},
   "outputs": [
    {
     "data": {
      "text/plain": [
       "5×5 Array{Int64,2}:\n",
       " 0  1  1  1  0\n",
       " 1  1  0  0  0\n",
       " 1  0  0  1  1\n",
       " 0  1  1  1  0\n",
       " 0  1  0  1  0"
      ]
     },
     "execution_count": 11,
     "metadata": {},
     "output_type": "execute_result"
    }
   ],
   "source": [
    "onigiri_array"
   ]
  },
  {
   "cell_type": "code",
   "execution_count": 12,
   "metadata": {},
   "outputs": [
    {
     "data": {
      "text/plain": [
       "support (generic function with 1 method)"
      ]
     },
     "execution_count": 12,
     "metadata": {},
     "output_type": "execute_result"
    }
   ],
   "source": [
    "function support(array_2d::Array{Int64,2}, indexes::Array{Int64,1}; m=\"num\")\n",
    "    gti_b = GTI(array_2d, indexes)\n",
    "    if size(gti_b)[2] ==0\n",
    "        return 0\n",
    "    end\n",
    "    b = all(gti_b, dims=2)\n",
    "    if m ==\"num\"\n",
    "        return sum(b)\n",
    "    elseif m == \"ratio\"\n",
    "        return sum(b)/length(b)\n",
    "    elseif m==\"bool\"\n",
    "        return b\n",
    "    end\n",
    "end\n",
    "\n",
    "            \n",
    "    \n",
    "        \n",
    "            "
   ]
  },
  {
   "cell_type": "code",
   "execution_count": 13,
   "metadata": {},
   "outputs": [
    {
     "data": {
      "text/plain": [
       "confidence (generic function with 1 method)"
      ]
     },
     "execution_count": 13,
     "metadata": {},
     "output_type": "execute_result"
    }
   ],
   "source": [
    "function confidence(array_2d::Array{Int64,2}, \n",
    "        X_indexes::Array{Int64,1}, Y_indexes::Array{Int64,1})\n",
    "    sup_X = support(array_2d, X_indexes)\n",
    "    X_Y_indexes = cat(X_indexes, Y_indexes, dims=1)\n",
    "    return support(array_2d, X_Y_indexes)/sup_X\n",
    "end"
   ]
  },
  {
   "cell_type": "code",
   "execution_count": 14,
   "metadata": {},
   "outputs": [
    {
     "data": {
      "text/plain": [
       "getF1 (generic function with 1 method)"
      ]
     },
     "execution_count": 14,
     "metadata": {},
     "output_type": "execute_result"
    }
   ],
   "source": [
    "function getF1(array_2D::Array{Int64,2}, minsup::Float64)\n",
    "    return [[col] for col in 1:size(array_2D)[2] if support(array_2D, [col], m=\"ratio\") >= minsup]\n",
    "end"
   ]
  },
  {
   "cell_type": "code",
   "execution_count": 15,
   "metadata": {},
   "outputs": [
    {
     "data": {
      "text/plain": [
       "4-element Array{Array{Int64,1},1}:\n",
       " [1]\n",
       " [2]\n",
       " [3]\n",
       " [4]"
      ]
     },
     "execution_count": 15,
     "metadata": {},
     "output_type": "execute_result"
    }
   ],
   "source": [
    "getF1(onigiri_array, 0.4)"
   ]
  },
  {
   "cell_type": "code",
   "execution_count": 16,
   "metadata": {},
   "outputs": [
    {
     "data": {
      "text/plain": [
       "getFkPlusOne (generic function with 1 method)"
      ]
     },
     "execution_count": 16,
     "metadata": {},
     "output_type": "execute_result"
    }
   ],
   "source": [
    "function getFkPlusOne(array_2D::Array{Int64,2}, indexes::Array{Array{Int64,1},1}, minsup::Float64)\n",
    "    return [col for col in indexes if support(array_2D, col, m=\"ratio\") >= minsup]\n",
    "                \n",
    "end"
   ]
  },
  {
   "cell_type": "code",
   "execution_count": 17,
   "metadata": {},
   "outputs": [
    {
     "data": {
      "text/plain": [
       "getCkPlusOne (generic function with 1 method)"
      ]
     },
     "execution_count": 17,
     "metadata": {},
     "output_type": "execute_result"
    }
   ],
   "source": [
    "function getCkPlusOne(prevCandidate::Array{Array{Int64, 1}, 1}, k)\n",
    "    @assert all(length.(prevCandidate) .==  k-1)\n",
    "    @assert k>1\n",
    "    items = unique(collect(flatten(prevCandidate)))\n",
    "    tmp_candidates = [x for x in subsets(items, k)]\n",
    "    if k ==2\n",
    "        return tmp_candidates\n",
    "    end\n",
    "    \n",
    "    candidates = [\n",
    "        candidate for candidate in tmp_candidates\n",
    "        if all(\n",
    "                x in prevCandidate\n",
    "                for x in subsets(candidate, k-1))\n",
    "    ]\n",
    "                \n",
    "    return candidates\n",
    "                \n",
    "end"
   ]
  },
  {
   "cell_type": "code",
   "execution_count": 18,
   "metadata": {},
   "outputs": [
    {
     "data": {
      "text/plain": [
       "isEmpty (generic function with 1 method)"
      ]
     },
     "execution_count": 18,
     "metadata": {},
     "output_type": "execute_result"
    }
   ],
   "source": [
    "function isEmpty(F::Array{Array{Int64,1},1})\n",
    "    if length(F) < 1\n",
    "        return true\n",
    "    else\n",
    "        return false\n",
    "    end\n",
    "end"
   ]
  },
  {
   "cell_type": "code",
   "execution_count": 19,
   "metadata": {},
   "outputs": [
    {
     "data": {
      "text/plain": [
       "isCalcConfNeeded (generic function with 1 method)"
      ]
     },
     "execution_count": 19,
     "metadata": {},
     "output_type": "execute_result"
    }
   ],
   "source": [
    "function isCalcConfNeeded(array_prev_ant::Array{Array{Int64,1},1},\n",
    "                    array_ant::Array{Array{Int64,1},1}, set_f::Array{Int64,1})\n",
    "    array_prev_con = [setdiff(set_f,  set_c) for set_c in array_ant]\n",
    "    array_con = [setdiff(set_f, set_c) for set_c in array_ant]\n",
    "    \n",
    "    out = []\n",
    "    for (a,c) in zip(array_ant, array_con)\n",
    "        out_inner = []\n",
    "        for i in 1:length(c)\n",
    "\n",
    "            array_ant_candidate = a\n",
    "            cand = c[i]\n",
    "            array_candidate_ant = vcat(a, cand)\n",
    "            array_candidate_con = filter(x ->x != cand, c)\n",
    "            \n",
    "            res = any([issubset(array_candidate_ant, i) for i in array_prev_ant])\n",
    "            append!(out_inner, res)\n",
    "        end\n",
    "        if all(out_inner)\n",
    "            append!(out, true)\n",
    "        else\n",
    "            append!(out, false)\n",
    "        end\n",
    "    end\n",
    "    \n",
    "    out = convert(Array{Bool, 1}, out)\n",
    "\n",
    "    return out\n",
    "end\n",
    "\n",
    "                \n",
    "            "
   ]
  },
  {
   "cell_type": "code",
   "execution_count": 69,
   "metadata": {},
   "outputs": [
    {
     "data": {
      "text/plain": [
       "frequent (generic function with 1 method)"
      ]
     },
     "execution_count": 69,
     "metadata": {},
     "output_type": "execute_result"
    }
   ],
   "source": [
    "function frequent(array_2D::Array{Int64,2}; minsup::Float64)\n",
    "    k = 1\n",
    "    F_now = getF1(array_2D, minsup)\n",
    "    F_list = []\n",
    "    F_table = zeros(1,size(array_2D)[2]) # first line is dummy (all zero)\n",
    "    @printf \"k=1 len of items is %d\"  length(F_now)\n",
    "    println()\n",
    "    append!(F_list, [F_now])\n",
    "    \n",
    "    \n",
    "    \n",
    "    while(true)\n",
    "        C_next = getCkPlusOne(F_now, k+1)\n",
    "        F_next = getFkPlusOne(array_2D, C_next, minsup)\n",
    "        \n",
    "        if isEmpty(F_next)\n",
    "            break\n",
    "        end\n",
    "        k += 1\n",
    "        F_now = F_next\n",
    "        append!(F_list, [F_now])\n",
    "        @printf \"k=%d len of items is %d\"  k length(F_now)\n",
    "        println()\n",
    "    end\n",
    "    \n",
    "    F_list = convert(Array{Array{Array{Int64,1},1},1}, F_list)\n",
    "    \n",
    "    return F_list\n",
    "end"
   ]
  },
  {
   "cell_type": "code",
   "execution_count": 70,
   "metadata": {},
   "outputs": [
    {
     "name": "stdout",
     "output_type": "stream",
     "text": [
      "k=1 len of items is 4\n",
      "k=2 len of items is 3\n",
      "k=3 len of items is 1\n"
     ]
    },
    {
     "data": {
      "text/plain": [
       "3-element Array{Array{Array{Int64,1},1},1}:\n",
       " [[1], [2], [3], [4]]    \n",
       " [[2, 3], [2, 4], [3, 4]]\n",
       " [[2, 3, 4]]             "
      ]
     },
     "execution_count": 70,
     "metadata": {},
     "output_type": "execute_result"
    }
   ],
   "source": [
    "_F_list = frequent(onigiri_array, minsup=0.4)"
   ]
  },
  {
   "cell_type": "code",
   "execution_count": 71,
   "metadata": {},
   "outputs": [
    {
     "data": {
      "text/plain": [
       "itemlist2table (generic function with 1 method)"
      ]
     },
     "execution_count": 71,
     "metadata": {},
     "output_type": "execute_result"
    }
   ],
   "source": [
    "function itemlist2table(item_list::Array{Array{Array{Int64,1},1},1},\n",
    "                                             col_num::Int64)\n",
    "    table = []\n",
    "    for k in item_list\n",
    "        for item in k\n",
    "            #label encode\n",
    "            arr = zeros(Int64, 1,col_num)\n",
    "            arr[1,item] .= 1\n",
    "            \n",
    "            table = cat(table, arr, dims=1)\n",
    "        end\n",
    "    end\n",
    "    return table\n",
    "end\n",
    "\n",
    "            "
   ]
  },
  {
   "cell_type": "code",
   "execution_count": 72,
   "metadata": {},
   "outputs": [
    {
     "data": {
      "text/plain": [
       "8×10 Array{Any,2}:\n",
       " 1  0  0  0  0  0  0  0  0  0\n",
       " 0  1  0  0  0  0  0  0  0  0\n",
       " 0  0  1  0  0  0  0  0  0  0\n",
       " 0  0  0  1  0  0  0  0  0  0\n",
       " 0  1  1  0  0  0  0  0  0  0\n",
       " 0  1  0  1  0  0  0  0  0  0\n",
       " 0  0  1  1  0  0  0  0  0  0\n",
       " 0  1  1  1  0  0  0  0  0  0"
      ]
     },
     "execution_count": 72,
     "metadata": {},
     "output_type": "execute_result"
    }
   ],
   "source": [
    "tmp = itemlist2table( _F_list, 10)"
   ]
  },
  {
   "cell_type": "code",
   "execution_count": 73,
   "metadata": {},
   "outputs": [
    {
     "data": {
      "text/plain": [
       "find_rules (generic function with 1 method)"
      ]
     },
     "execution_count": 73,
     "metadata": {},
     "output_type": "execute_result"
    }
   ],
   "source": [
    "function find_rules(array_2D::Array{Int64, 2}, \n",
    "        F_list::Array{Array{Array{Int64,1},1},1}; minconf::Float64)\n",
    "    conf_list = []\n",
    "    \n",
    "    \n",
    "    for F in F_list\n",
    "        k = length(F[1])\n",
    "        \n",
    "        if k == 1\n",
    "            #conf_list = vcat(conf_list, Any{[Rule([0],[0])]}) # DUMMY!!\n",
    "        \n",
    "        elseif k == 2\n",
    "            conf_list_k = []\n",
    "            for f_2 in F\n",
    "                A = f_2[1]\n",
    "                B = f_2[2]\n",
    "                conf_AB = confidence(array_2D, [A], [B])\n",
    "                if conf_AB >= minconf\n",
    "                    #append!(conf_list_k, Rule([A],[B]))\n",
    "                    conf_list_k = vcat(conf_list_k, Rule([A],[B]))\n",
    "\n",
    "                end\n",
    "                conf_BA = confidence(array_2D, [B], [A])\n",
    "                if conf_BA >= minconf\n",
    "                    #append!(conf_list_k, Rule([B],[A]))\n",
    "                    conf_list_k = vcat(conf_list_k, Rule([B],[A]))\n",
    "                end\n",
    "            end\n",
    "            append!(conf_list, [conf_list_k])   \n",
    "\n",
    "\n",
    "        elseif k >= 3\n",
    "            conf_list_k = []\n",
    "            for f_k in F\n",
    "                \n",
    "                j = 1\n",
    "                \n",
    "                array_antecedent =  collect(subsets(f_k, k-1))\n",
    "                array_consequent = [setdiff(f_k,  set_c) for set_c in array_antecedent]\n",
    "                conf = [confidence(array_2D, ant, con) for (ant, con) in zip(array_antecedent, array_consequent)]\n",
    "                isHigher = conf .>= minconf\n",
    "                if sum(isHigher) > 0\n",
    "                    array_antecedent_filtered_by_conf = array_antecedent[isHigher]\n",
    "                    array_consequent_filtered_by_conf = array_consequent[isHigher]\n",
    "                    append!(conf_list_k, [Rule(a,c) for (a,c) in zip(array_antecedent_filtered_by_conf,\n",
    "                                                                                            array_consequent_filtered_by_conf)])\n",
    "                    \n",
    "                    while(j < k-1)\n",
    "                        array_antecedent_new = collect(subsets(f_k, k-(j+1)))\n",
    "                        _res = isCalcConfNeeded(array_antecedent_filtered_by_conf, array_antecedent_new, f_k)\n",
    "                        if sum(_res) > 0\n",
    "                            array_antecedent_filtered_by_prev = array_antecedent_new[_res]\n",
    "                            array_consequent_filtered_by_prev = [setdiff(f_k,  set_c) \n",
    "                                                                                            for set_c in array_antecedent_filtered_by_prev]\n",
    "                            conf = [confidence(array_2D, ant, con) for (ant, con) in zip(array_antecedent_filtered_by_prev, \n",
    "                                                                                                                                array_consequent_filtered_by_prev)]\n",
    "                            isHigher = conf .>= minconf\n",
    "                            if sum(isHigher) > 0\n",
    "                                array_antecedent_filtered_by_prev_and_conf = array_antecedent_filtered_by_prev[isHigher]\n",
    "                                array_consequent_filtered_by_prev_and_conf = array_consequent_filtered_by_prev[isHigher]\n",
    "                                append!(conf_list_k, [Rule(a,c) for (a,c) in zip(array_antecedent_filtered_by_prev_and_conf, \n",
    "                                                                                                         array_consequent_filtered_by_prev_and_conf)])\n",
    "                            end\n",
    "                        end\n",
    "                        j += 1\n",
    "                    end #while\n",
    "                end\n",
    "            end\n",
    "            append!(conf_list, [conf_list_k])\n",
    "        end\n",
    "    end\n",
    "    conf_list = convert(Array{Array{Rule,1},1}, conf_list)\n",
    "    return conf_list\n",
    "end"
   ]
  },
  {
   "cell_type": "code",
   "execution_count": 61,
   "metadata": {},
   "outputs": [
    {
     "data": {
      "text/plain": [
       "2-element Array{Array{Rule,1},1}:\n",
       " [Rule([3], [2]), Rule([2], [4]), Rule([4], [2]), Rule([3], [4])]\n",
       " [Rule([2, 3], [4]), Rule([3, 4], [2]), Rule([3], [2, 4])]       "
      ]
     },
     "execution_count": 61,
     "metadata": {},
     "output_type": "execute_result"
    }
   ],
   "source": [
    "find_rules(onigiri_array, _F_list, minconf=0.7)"
   ]
  },
  {
   "cell_type": "code",
   "execution_count": 63,
   "metadata": {
    "scrolled": true
   },
   "outputs": [
    {
     "data": {
      "text/plain": [
       "7501×120 Array{Int64,2}:\n",
       " 0  1  1  0  1  0  0  0  0  0  0  0  0  …  0  0  0  1  0  0  1  0  0  1  0  0\n",
       " 0  0  0  0  0  0  0  0  0  0  0  0  0     0  0  0  0  0  0  0  0  0  0  0  0\n",
       " 0  0  0  0  0  0  0  0  0  0  0  0  0     0  0  0  0  0  0  0  0  0  0  0  0\n",
       " 0  0  0  0  1  0  0  0  0  0  0  0  0     0  0  1  0  0  0  0  0  0  0  0  0\n",
       " 0  0  0  0  0  0  0  0  0  0  0  0  0     0  0  0  0  0  0  0  0  1  0  0  0\n",
       " 0  0  0  0  0  0  0  0  0  0  0  0  0  …  0  0  0  0  0  0  0  0  0  0  0  0\n",
       " 0  0  0  0  0  0  0  0  0  0  0  0  0     0  0  0  0  0  0  0  1  0  0  0  0\n",
       " 0  0  0  0  0  0  0  0  0  0  0  0  0     0  0  0  0  0  0  0  0  0  0  0  0\n",
       " 0  0  0  0  0  0  0  0  0  0  0  0  0     0  0  0  0  0  0  0  0  0  0  0  0\n",
       " 0  0  0  0  0  0  0  0  0  0  0  0  0     0  0  0  0  0  0  0  0  0  0  0  0\n",
       " 0  0  0  0  0  0  0  0  0  0  0  0  0  …  0  0  0  0  0  0  0  0  0  0  0  0\n",
       " 0  0  0  0  0  0  0  0  0  0  0  0  0     0  0  0  0  0  0  0  0  0  0  0  0\n",
       " 0  0  0  0  0  0  0  0  0  0  0  0  0     0  0  1  0  0  0  0  0  0  0  0  0\n",
       " ⋮              ⋮              ⋮        ⋱        ⋮              ⋮            \n",
       " 0  0  0  0  0  0  0  0  0  0  0  0  1     0  0  0  0  0  0  0  0  0  0  0  0\n",
       " 0  0  0  0  0  0  0  0  0  0  0  0  0  …  0  0  0  0  0  0  0  0  0  0  0  0\n",
       " 0  0  0  0  0  0  0  0  0  0  0  0  0     0  0  0  0  0  0  0  0  0  0  0  0\n",
       " 0  0  0  0  0  0  0  0  0  0  0  0  0     0  0  0  0  0  0  0  0  0  0  0  0\n",
       " 0  0  0  0  0  0  0  0  0  0  0  0  0     0  0  0  0  0  0  0  0  0  0  0  0\n",
       " 0  0  0  0  0  0  0  0  0  0  0  0  0     1  0  1  0  0  0  0  0  1  0  0  0\n",
       " 0  0  0  0  0  0  0  0  0  0  0  0  0  …  0  0  0  0  0  0  0  0  0  0  0  0\n",
       " 0  0  0  0  0  0  0  0  0  0  0  0  0     0  0  0  0  0  0  0  0  0  0  0  0\n",
       " 0  0  0  0  0  0  0  0  0  0  0  0  0     0  0  0  0  0  0  0  0  0  0  0  0\n",
       " 0  0  0  0  0  0  0  0  0  0  0  0  0     0  0  0  0  0  0  0  0  0  0  0  0\n",
       " 0  0  0  0  0  0  0  0  0  0  0  0  0     0  0  0  0  0  0  0  0  0  0  0  0\n",
       " 0  0  0  0  0  0  0  0  0  0  0  0  0  …  0  0  0  0  0  0  0  0  0  0  1  0"
      ]
     },
     "execution_count": 63,
     "metadata": {},
     "output_type": "execute_result"
    }
   ],
   "source": [
    "store_data = CSV.read(\"store_data_trans.csv\", delim=\",\")\n",
    "store_array = Matrix(store_data)\n",
    "store_array"
   ]
  },
  {
   "cell_type": "code",
   "execution_count": 77,
   "metadata": {
    "scrolled": false
   },
   "outputs": [
    {
     "name": "stdout",
     "output_type": "stream",
     "text": [
      "k=1 len of items is 115\n",
      "k=2 len of items is 786\n",
      "k=3 len of items is 324\n",
      "k=4 len of items is 8\n"
     ]
    },
    {
     "data": {
      "text/plain": [
       "4-element Array{Array{Array{Int64,1},1},1}:\n",
       " [[2], [3], [4], [5], [6], [7], [8], [9], [10], [11]  …  [110], [111], [112], [114], [115], [116], [117], [118], [119], [120]]                                                                                                                                                                              \n",
       " [[2, 16], [2, 18], [2, 26], [2, 38], [2, 44], [2, 50], [2, 55], [2, 56], [2, 72], [2, 73]  …  [101, 116], [101, 117], [101, 119], [101, 120], [107, 109], [107, 111], [109, 111], [109, 112], [109, 117], [111, 117]]                                                                                      \n",
       " [[16, 18, 26], [16, 18, 38], [16, 18, 72], [16, 18, 73], [16, 26, 38], [16, 26, 44], [16, 26, 50], [16, 26, 55], [16, 26, 56], [16, 26, 72]  …  [73, 101, 117], [73, 101, 116], [73, 82, 98], [73, 82, 100], [73, 82, 109], [73, 82, 116], [73, 100, 109], [83, 101, 109], [83, 101, 111], [101, 109, 117]]\n",
       " [[26, 38, 72, 73], [26, 38, 73, 101], [26, 38, 56, 101], [26, 72, 73, 101], [26, 73, 83, 101], [26, 50, 56, 101], [38, 72, 73, 101], [72, 73, 101, 109]]                                                                                                                                                   "
      ]
     },
     "execution_count": 77,
     "metadata": {},
     "output_type": "execute_result"
    }
   ],
   "source": [
    "minsup = 0.003\n",
    "F_list = frequent(store_array, minsup=minsup)"
   ]
  },
  {
   "cell_type": "code",
   "execution_count": null,
   "metadata": {
    "scrolled": true
   },
   "outputs": [],
   "source": [
    "minconf = 0.01\n",
    "find_rules(store_array, F_list, minconf)"
   ]
  },
  {
   "cell_type": "markdown",
   "metadata": {},
   "source": [
    "# mnist"
   ]
  },
  {
   "cell_type": "code",
   "execution_count": 79,
   "metadata": {
    "scrolled": false
   },
   "outputs": [
    {
     "data": {
      "text/plain": [
       "898×10 Array{Int64,2}:\n",
       " 1  0  0  0  0  0  0  0  0  0\n",
       " 0  1  0  0  0  0  0  0  0  0\n",
       " 0  0  1  0  0  0  0  0  0  0\n",
       " 0  0  0  1  0  0  0  0  0  0\n",
       " 0  0  0  0  1  0  0  0  0  0\n",
       " 0  0  0  0  0  1  0  0  0  0\n",
       " 0  0  0  0  0  0  1  0  0  0\n",
       " 0  0  0  0  0  0  0  1  0  0\n",
       " 0  0  0  0  0  0  0  0  1  0\n",
       " 0  0  0  0  0  0  0  0  0  1\n",
       " 1  0  0  0  0  0  0  0  0  0\n",
       " 0  1  0  0  0  0  0  0  0  0\n",
       " 0  0  1  0  0  0  0  0  0  0\n",
       " ⋮              ⋮            \n",
       " 0  0  0  0  1  0  0  0  0  0\n",
       " 0  0  0  0  1  0  0  0  0  0\n",
       " 0  0  0  0  0  0  0  1  0  0\n",
       " 0  0  1  0  0  0  0  0  0  0\n",
       " 0  0  0  0  0  0  0  0  1  0\n",
       " 0  0  1  0  0  0  0  0  0  0\n",
       " 0  0  1  0  0  0  0  0  0  0\n",
       " 0  0  0  0  0  1  0  0  0  0\n",
       " 0  0  0  0  0  0  0  1  0  0\n",
       " 0  0  0  0  0  0  0  0  0  1\n",
       " 0  0  0  0  0  1  0  0  0  0\n",
       " 0  0  0  0  1  0  0  0  0  0"
      ]
     },
     "execution_count": 79,
     "metadata": {},
     "output_type": "execute_result"
    }
   ],
   "source": [
    "mnist_data = CSV.read(\"mnist_8x8_image.csv\", delim=\",\",  header=false)\n",
    "mnist_array = Matrix(mnist_data)\n",
    "mnist_array = convert(Array{Int64, 2}, mnist_array)\n",
    "\n",
    "mnist_label = CSV.read(\"mnist_8x8_label.csv\", delim=\",\",  header=false)\n",
    "mnist_label = Matrix(mnist_label)\n",
    "mnist_label = convert(Array{Int64, 2}, mnist_label)\n",
    "\n",
    "mnist_label_onehot = CSV.read(\"mnist_8x8_label_onehot.csv\", delim=\",\",  header=false)\n",
    "mnist_label_onehot = Matrix(mnist_label_onehot)\n",
    "mnist_label_onehot = convert(Array{Int64, 2}, mnist_label_onehot)\n"
   ]
  },
  {
   "cell_type": "code",
   "execution_count": 254,
   "metadata": {},
   "outputs": [
    {
     "ename": "MethodError",
     "evalue": "MethodError: no method matching SubArray(::Array{Int64,2}, ::BitArray{2})\nClosest candidates are:\n  SubArray(::AbstractArray, !Matched::Tuple) at subarray.jl:21\n  SubArray(!Matched::IndexCartesian, ::P, !Matched::I, !Matched::Tuple{Vararg{Any,N}}) where {P, I, N} at subarray.jl:25\n  SubArray(!Matched::IndexLinear, ::P, !Matched::I, !Matched::Tuple{Vararg{Any,N}}) where {P, I, N} at subarray.jl:29",
     "output_type": "error",
     "traceback": [
      "MethodError: no method matching SubArray(::Array{Int64,2}, ::BitArray{2})\nClosest candidates are:\n  SubArray(::AbstractArray, !Matched::Tuple) at subarray.jl:21\n  SubArray(!Matched::IndexCartesian, ::P, !Matched::I, !Matched::Tuple{Vararg{Any,N}}) where {P, I, N} at subarray.jl:25\n  SubArray(!Matched::IndexLinear, ::P, !Matched::I, !Matched::Tuple{Vararg{Any,N}}) where {P, I, N} at subarray.jl:29",
      "",
      "Stacktrace:",
      " [1] top-level scope at In[254]:1"
     ]
    }
   ],
   "source": [
    "SubArray(mnist_array, mnist_label .==3)"
   ]
  },
  {
   "cell_type": "markdown",
   "metadata": {},
   "source": [
    "## concat image and label"
   ]
  },
  {
   "cell_type": "code",
   "execution_count": 80,
   "metadata": {},
   "outputs": [
    {
     "data": {
      "text/plain": [
       "898×65 Array{Int64,2}:\n",
       " 0  0  0  1  1  0  0  0  0  0  1  1  1  …  1  0  0  0  0  0  1  1  0  0  0  0\n",
       " 0  0  0  1  1  0  0  0  0  0  0  1  1     0  0  0  0  0  0  1  1  1  0  0  1\n",
       " 0  0  0  0  1  1  0  0  0  0  0  1  1     1  0  0  0  0  0  0  1  1  1  0  2\n",
       " 0  0  0  1  1  0  0  0  0  1  1  0  1     1  1  0  0  0  0  1  1  1  0  0  3\n",
       " 0  0  0  0  1  0  0  0  0  0  0  0  1     1  0  0  0  0  0  0  1  0  0  0  4\n",
       " 0  0  1  1  0  0  0  0  0  0  1  1  1  …  1  0  0  0  0  1  1  1  1  0  0  5\n",
       " 0  0  0  1  1  0  0  0  0  0  0  1  1     1  1  0  0  0  0  1  1  1  0  0  6\n",
       " 0  0  0  1  1  1  1  0  0  0  0  0  0     0  0  0  0  0  1  0  0  0  0  0  7\n",
       " 0  0  1  1  1  0  0  0  0  0  1  1  1     1  1  0  0  0  1  1  1  1  0  0  8\n",
       " 0  0  1  1  0  0  0  0  0  0  1  1  1     1  0  0  0  0  1  1  1  0  0  0  9\n",
       " 0  0  0  1  1  1  0  0  0  0  1  1  1  …  1  0  0  0  0  0  1  1  0  0  0  0\n",
       " 0  0  0  0  1  1  0  0  0  0  0  0  1     1  0  0  0  0  0  0  1  1  0  0  1\n",
       " 0  0  0  1  0  0  0  0  0  0  1  1  0     1  1  0  0  0  0  1  1  1  1  0  2\n",
       " ⋮              ⋮              ⋮        ⋱        ⋮              ⋮            \n",
       " 0  0  0  1  1  0  0  0  0  0  0  1  0     0  0  0  0  0  0  1  1  0  0  0  4\n",
       " 0  0  0  0  1  0  0  0  0  0  0  1  1     1  0  0  0  0  0  0  1  0  0  0  4\n",
       " 0  0  0  1  1  0  0  0  0  0  0  1  1     0  0  0  0  0  0  1  0  0  0  0  7\n",
       " 0  0  1  1  0  0  0  0  0  0  1  1  1     1  0  0  0  1  1  1  1  1  0  0  2\n",
       " 0  0  0  1  1  1  0  0  0  0  1  1  1  …  1  0  0  0  0  0  1  1  1  0  0  8\n",
       " 0  0  0  1  1  1  0  0  0  0  1  0  0     0  0  0  0  0  0  1  1  1  0  0  2\n",
       " 0  0  1  1  1  0  0  0  0  0  1  0  1     1  0  0  0  0  1  1  1  0  0  0  2\n",
       " 0  0  1  1  1  1  1  0  0  0  1  1  1     0  0  0  0  0  1  1  1  0  0  0  5\n",
       " 0  0  0  1  1  0  0  0  0  0  1  1  1     0  0  0  0  0  1  1  0  0  0  0  7\n",
       " 0  0  0  1  1  1  0  0  0  0  1  1  1  …  1  0  0  0  0  0  1  1  1  0  0  9\n",
       " 0  0  1  1  1  1  0  0  0  0  1  1  1     0  0  0  0  0  1  1  0  0  0  0  5\n",
       " 0  0  0  1  1  0  0  0  0  0  0  1  1     0  0  0  0  0  0  1  1  0  0  0  4"
      ]
     },
     "execution_count": 80,
     "metadata": {},
     "output_type": "execute_result"
    }
   ],
   "source": [
    "mnist_cat = cat(mnist_array, mnist_label, dims=2)"
   ]
  },
  {
   "cell_type": "markdown",
   "metadata": {},
   "source": [
    "# Julia"
   ]
  },
  {
   "cell_type": "code",
   "execution_count": 81,
   "metadata": {},
   "outputs": [
    {
     "data": {
      "text/html": [
       "<table class=\"data-frame\"><thead><tr><th></th><th>Column1</th><th>Column2</th><th>Column3</th><th>Column4</th><th>Column5</th><th>Column6</th><th>Column7</th><th>Column8</th><th>Column9</th></tr><tr><th></th><th>Float64</th><th>Float64</th><th>Float64</th><th>Float64</th><th>Float64</th><th>Float64</th><th>Float64</th><th>Float64</th><th>Float64</th></tr></thead><tbody><p>898 rows × 64 columns (omitted printing of 55 columns)</p><tr><th>1</th><td>0.0</td><td>0.0</td><td>0.0</td><td>1.0</td><td>1.0</td><td>0.0</td><td>0.0</td><td>0.0</td><td>0.0</td></tr><tr><th>2</th><td>0.0</td><td>0.0</td><td>0.0</td><td>1.0</td><td>1.0</td><td>0.0</td><td>0.0</td><td>0.0</td><td>0.0</td></tr><tr><th>3</th><td>0.0</td><td>0.0</td><td>0.0</td><td>0.0</td><td>1.0</td><td>1.0</td><td>0.0</td><td>0.0</td><td>0.0</td></tr><tr><th>4</th><td>0.0</td><td>0.0</td><td>0.0</td><td>1.0</td><td>1.0</td><td>0.0</td><td>0.0</td><td>0.0</td><td>0.0</td></tr><tr><th>5</th><td>0.0</td><td>0.0</td><td>0.0</td><td>0.0</td><td>1.0</td><td>0.0</td><td>0.0</td><td>0.0</td><td>0.0</td></tr><tr><th>6</th><td>0.0</td><td>0.0</td><td>1.0</td><td>1.0</td><td>0.0</td><td>0.0</td><td>0.0</td><td>0.0</td><td>0.0</td></tr><tr><th>7</th><td>0.0</td><td>0.0</td><td>0.0</td><td>1.0</td><td>1.0</td><td>0.0</td><td>0.0</td><td>0.0</td><td>0.0</td></tr><tr><th>8</th><td>0.0</td><td>0.0</td><td>0.0</td><td>1.0</td><td>1.0</td><td>1.0</td><td>1.0</td><td>0.0</td><td>0.0</td></tr><tr><th>9</th><td>0.0</td><td>0.0</td><td>1.0</td><td>1.0</td><td>1.0</td><td>0.0</td><td>0.0</td><td>0.0</td><td>0.0</td></tr><tr><th>10</th><td>0.0</td><td>0.0</td><td>1.0</td><td>1.0</td><td>0.0</td><td>0.0</td><td>0.0</td><td>0.0</td><td>0.0</td></tr><tr><th>11</th><td>0.0</td><td>0.0</td><td>0.0</td><td>1.0</td><td>1.0</td><td>1.0</td><td>0.0</td><td>0.0</td><td>0.0</td></tr><tr><th>12</th><td>0.0</td><td>0.0</td><td>0.0</td><td>0.0</td><td>1.0</td><td>1.0</td><td>0.0</td><td>0.0</td><td>0.0</td></tr><tr><th>13</th><td>0.0</td><td>0.0</td><td>0.0</td><td>1.0</td><td>0.0</td><td>0.0</td><td>0.0</td><td>0.0</td><td>0.0</td></tr><tr><th>14</th><td>0.0</td><td>0.0</td><td>1.0</td><td>1.0</td><td>1.0</td><td>1.0</td><td>0.0</td><td>0.0</td><td>0.0</td></tr><tr><th>15</th><td>0.0</td><td>0.0</td><td>0.0</td><td>1.0</td><td>1.0</td><td>0.0</td><td>0.0</td><td>0.0</td><td>0.0</td></tr><tr><th>16</th><td>0.0</td><td>0.0</td><td>1.0</td><td>1.0</td><td>1.0</td><td>1.0</td><td>0.0</td><td>0.0</td><td>0.0</td></tr><tr><th>17</th><td>0.0</td><td>0.0</td><td>0.0</td><td>1.0</td><td>1.0</td><td>0.0</td><td>0.0</td><td>0.0</td><td>0.0</td></tr><tr><th>18</th><td>0.0</td><td>0.0</td><td>0.0</td><td>1.0</td><td>1.0</td><td>1.0</td><td>0.0</td><td>0.0</td><td>0.0</td></tr><tr><th>19</th><td>0.0</td><td>0.0</td><td>1.0</td><td>0.0</td><td>1.0</td><td>1.0</td><td>0.0</td><td>0.0</td><td>0.0</td></tr><tr><th>20</th><td>0.0</td><td>0.0</td><td>0.0</td><td>1.0</td><td>0.0</td><td>0.0</td><td>0.0</td><td>0.0</td><td>0.0</td></tr><tr><th>21</th><td>0.0</td><td>0.0</td><td>0.0</td><td>1.0</td><td>1.0</td><td>0.0</td><td>0.0</td><td>0.0</td><td>0.0</td></tr><tr><th>22</th><td>0.0</td><td>0.0</td><td>0.0</td><td>0.0</td><td>1.0</td><td>1.0</td><td>0.0</td><td>0.0</td><td>0.0</td></tr><tr><th>23</th><td>0.0</td><td>0.0</td><td>1.0</td><td>1.0</td><td>0.0</td><td>0.0</td><td>0.0</td><td>0.0</td><td>0.0</td></tr><tr><th>24</th><td>0.0</td><td>0.0</td><td>1.0</td><td>1.0</td><td>1.0</td><td>1.0</td><td>0.0</td><td>0.0</td><td>0.0</td></tr><tr><th>25</th><td>0.0</td><td>0.0</td><td>0.0</td><td>0.0</td><td>1.0</td><td>0.0</td><td>0.0</td><td>0.0</td><td>0.0</td></tr><tr><th>26</th><td>0.0</td><td>0.0</td><td>1.0</td><td>1.0</td><td>1.0</td><td>0.0</td><td>0.0</td><td>0.0</td><td>0.0</td></tr><tr><th>27</th><td>0.0</td><td>0.0</td><td>0.0</td><td>1.0</td><td>1.0</td><td>0.0</td><td>0.0</td><td>0.0</td><td>0.0</td></tr><tr><th>28</th><td>0.0</td><td>0.0</td><td>0.0</td><td>1.0</td><td>1.0</td><td>1.0</td><td>0.0</td><td>0.0</td><td>0.0</td></tr><tr><th>29</th><td>0.0</td><td>0.0</td><td>1.0</td><td>1.0</td><td>0.0</td><td>0.0</td><td>0.0</td><td>0.0</td><td>0.0</td></tr><tr><th>30</th><td>0.0</td><td>0.0</td><td>1.0</td><td>1.0</td><td>0.0</td><td>0.0</td><td>0.0</td><td>0.0</td><td>0.0</td></tr><tr><th>&vellip;</th><td>&vellip;</td><td>&vellip;</td><td>&vellip;</td><td>&vellip;</td><td>&vellip;</td><td>&vellip;</td><td>&vellip;</td><td>&vellip;</td><td>&vellip;</td></tr></tbody></table>"
      ],
      "text/latex": [
       "\\begin{tabular}{r|cccccccccc}\n",
       "\t& Column1 & Column2 & Column3 & Column4 & Column5 & Column6 & Column7 & Column8 & Column9 & \\\\\n",
       "\t\\hline\n",
       "\t& Float64 & Float64 & Float64 & Float64 & Float64 & Float64 & Float64 & Float64 & Float64 & \\\\\n",
       "\t\\hline\n",
       "\t1 & 0.0 & 0.0 & 0.0 & 1.0 & 1.0 & 0.0 & 0.0 & 0.0 & 0.0 & $\\dots$ \\\\\n",
       "\t2 & 0.0 & 0.0 & 0.0 & 1.0 & 1.0 & 0.0 & 0.0 & 0.0 & 0.0 & $\\dots$ \\\\\n",
       "\t3 & 0.0 & 0.0 & 0.0 & 0.0 & 1.0 & 1.0 & 0.0 & 0.0 & 0.0 & $\\dots$ \\\\\n",
       "\t4 & 0.0 & 0.0 & 0.0 & 1.0 & 1.0 & 0.0 & 0.0 & 0.0 & 0.0 & $\\dots$ \\\\\n",
       "\t5 & 0.0 & 0.0 & 0.0 & 0.0 & 1.0 & 0.0 & 0.0 & 0.0 & 0.0 & $\\dots$ \\\\\n",
       "\t6 & 0.0 & 0.0 & 1.0 & 1.0 & 0.0 & 0.0 & 0.0 & 0.0 & 0.0 & $\\dots$ \\\\\n",
       "\t7 & 0.0 & 0.0 & 0.0 & 1.0 & 1.0 & 0.0 & 0.0 & 0.0 & 0.0 & $\\dots$ \\\\\n",
       "\t8 & 0.0 & 0.0 & 0.0 & 1.0 & 1.0 & 1.0 & 1.0 & 0.0 & 0.0 & $\\dots$ \\\\\n",
       "\t9 & 0.0 & 0.0 & 1.0 & 1.0 & 1.0 & 0.0 & 0.0 & 0.0 & 0.0 & $\\dots$ \\\\\n",
       "\t10 & 0.0 & 0.0 & 1.0 & 1.0 & 0.0 & 0.0 & 0.0 & 0.0 & 0.0 & $\\dots$ \\\\\n",
       "\t11 & 0.0 & 0.0 & 0.0 & 1.0 & 1.0 & 1.0 & 0.0 & 0.0 & 0.0 & $\\dots$ \\\\\n",
       "\t12 & 0.0 & 0.0 & 0.0 & 0.0 & 1.0 & 1.0 & 0.0 & 0.0 & 0.0 & $\\dots$ \\\\\n",
       "\t13 & 0.0 & 0.0 & 0.0 & 1.0 & 0.0 & 0.0 & 0.0 & 0.0 & 0.0 & $\\dots$ \\\\\n",
       "\t14 & 0.0 & 0.0 & 1.0 & 1.0 & 1.0 & 1.0 & 0.0 & 0.0 & 0.0 & $\\dots$ \\\\\n",
       "\t15 & 0.0 & 0.0 & 0.0 & 1.0 & 1.0 & 0.0 & 0.0 & 0.0 & 0.0 & $\\dots$ \\\\\n",
       "\t16 & 0.0 & 0.0 & 1.0 & 1.0 & 1.0 & 1.0 & 0.0 & 0.0 & 0.0 & $\\dots$ \\\\\n",
       "\t17 & 0.0 & 0.0 & 0.0 & 1.0 & 1.0 & 0.0 & 0.0 & 0.0 & 0.0 & $\\dots$ \\\\\n",
       "\t18 & 0.0 & 0.0 & 0.0 & 1.0 & 1.0 & 1.0 & 0.0 & 0.0 & 0.0 & $\\dots$ \\\\\n",
       "\t19 & 0.0 & 0.0 & 1.0 & 0.0 & 1.0 & 1.0 & 0.0 & 0.0 & 0.0 & $\\dots$ \\\\\n",
       "\t20 & 0.0 & 0.0 & 0.0 & 1.0 & 0.0 & 0.0 & 0.0 & 0.0 & 0.0 & $\\dots$ \\\\\n",
       "\t21 & 0.0 & 0.0 & 0.0 & 1.0 & 1.0 & 0.0 & 0.0 & 0.0 & 0.0 & $\\dots$ \\\\\n",
       "\t22 & 0.0 & 0.0 & 0.0 & 0.0 & 1.0 & 1.0 & 0.0 & 0.0 & 0.0 & $\\dots$ \\\\\n",
       "\t23 & 0.0 & 0.0 & 1.0 & 1.0 & 0.0 & 0.0 & 0.0 & 0.0 & 0.0 & $\\dots$ \\\\\n",
       "\t24 & 0.0 & 0.0 & 1.0 & 1.0 & 1.0 & 1.0 & 0.0 & 0.0 & 0.0 & $\\dots$ \\\\\n",
       "\t25 & 0.0 & 0.0 & 0.0 & 0.0 & 1.0 & 0.0 & 0.0 & 0.0 & 0.0 & $\\dots$ \\\\\n",
       "\t26 & 0.0 & 0.0 & 1.0 & 1.0 & 1.0 & 0.0 & 0.0 & 0.0 & 0.0 & $\\dots$ \\\\\n",
       "\t27 & 0.0 & 0.0 & 0.0 & 1.0 & 1.0 & 0.0 & 0.0 & 0.0 & 0.0 & $\\dots$ \\\\\n",
       "\t28 & 0.0 & 0.0 & 0.0 & 1.0 & 1.0 & 1.0 & 0.0 & 0.0 & 0.0 & $\\dots$ \\\\\n",
       "\t29 & 0.0 & 0.0 & 1.0 & 1.0 & 0.0 & 0.0 & 0.0 & 0.0 & 0.0 & $\\dots$ \\\\\n",
       "\t30 & 0.0 & 0.0 & 1.0 & 1.0 & 0.0 & 0.0 & 0.0 & 0.0 & 0.0 & $\\dots$ \\\\\n",
       "\t$\\dots$ & $\\dots$ & $\\dots$ & $\\dots$ & $\\dots$ & $\\dots$ & $\\dots$ & $\\dots$ & $\\dots$ & $\\dots$ &  \\\\\n",
       "\\end{tabular}\n"
      ],
      "text/plain": [
       "898×64 DataFrame. Omitted printing of 57 columns\n",
       "│ Row │ Column1 │ Column2 │ Column3 │ Column4 │ Column5 │ Column6 │ Column7 │\n",
       "│     │ \u001b[90mFloat64\u001b[39m │ \u001b[90mFloat64\u001b[39m │ \u001b[90mFloat64\u001b[39m │ \u001b[90mFloat64\u001b[39m │ \u001b[90mFloat64\u001b[39m │ \u001b[90mFloat64\u001b[39m │ \u001b[90mFloat64\u001b[39m │\n",
       "├─────┼─────────┼─────────┼─────────┼─────────┼─────────┼─────────┼─────────┤\n",
       "│ 1   │ 0.0     │ 0.0     │ 0.0     │ 1.0     │ 1.0     │ 0.0     │ 0.0     │\n",
       "│ 2   │ 0.0     │ 0.0     │ 0.0     │ 1.0     │ 1.0     │ 0.0     │ 0.0     │\n",
       "│ 3   │ 0.0     │ 0.0     │ 0.0     │ 0.0     │ 1.0     │ 1.0     │ 0.0     │\n",
       "│ 4   │ 0.0     │ 0.0     │ 0.0     │ 1.0     │ 1.0     │ 0.0     │ 0.0     │\n",
       "│ 5   │ 0.0     │ 0.0     │ 0.0     │ 0.0     │ 1.0     │ 0.0     │ 0.0     │\n",
       "│ 6   │ 0.0     │ 0.0     │ 1.0     │ 1.0     │ 0.0     │ 0.0     │ 0.0     │\n",
       "│ 7   │ 0.0     │ 0.0     │ 0.0     │ 1.0     │ 1.0     │ 0.0     │ 0.0     │\n",
       "│ 8   │ 0.0     │ 0.0     │ 0.0     │ 1.0     │ 1.0     │ 1.0     │ 1.0     │\n",
       "│ 9   │ 0.0     │ 0.0     │ 1.0     │ 1.0     │ 1.0     │ 0.0     │ 0.0     │\n",
       "│ 10  │ 0.0     │ 0.0     │ 1.0     │ 1.0     │ 0.0     │ 0.0     │ 0.0     │\n",
       "⋮\n",
       "│ 888 │ 0.0     │ 0.0     │ 0.0     │ 0.0     │ 1.0     │ 0.0     │ 0.0     │\n",
       "│ 889 │ 0.0     │ 0.0     │ 0.0     │ 1.0     │ 1.0     │ 0.0     │ 0.0     │\n",
       "│ 890 │ 0.0     │ 0.0     │ 1.0     │ 1.0     │ 0.0     │ 0.0     │ 0.0     │\n",
       "│ 891 │ 0.0     │ 0.0     │ 0.0     │ 1.0     │ 1.0     │ 1.0     │ 0.0     │\n",
       "│ 892 │ 0.0     │ 0.0     │ 0.0     │ 1.0     │ 1.0     │ 1.0     │ 0.0     │\n",
       "│ 893 │ 0.0     │ 0.0     │ 1.0     │ 1.0     │ 1.0     │ 0.0     │ 0.0     │\n",
       "│ 894 │ 0.0     │ 0.0     │ 1.0     │ 1.0     │ 1.0     │ 1.0     │ 1.0     │\n",
       "│ 895 │ 0.0     │ 0.0     │ 0.0     │ 1.0     │ 1.0     │ 0.0     │ 0.0     │\n",
       "│ 896 │ 0.0     │ 0.0     │ 0.0     │ 1.0     │ 1.0     │ 1.0     │ 0.0     │\n",
       "│ 897 │ 0.0     │ 0.0     │ 1.0     │ 1.0     │ 1.0     │ 1.0     │ 0.0     │\n",
       "│ 898 │ 0.0     │ 0.0     │ 0.0     │ 1.0     │ 1.0     │ 0.0     │ 0.0     │"
      ]
     },
     "execution_count": 81,
     "metadata": {},
     "output_type": "execute_result"
    }
   ],
   "source": [
    "mnist_data"
   ]
  },
  {
   "cell_type": "code",
   "execution_count": 84,
   "metadata": {},
   "outputs": [
    {
     "name": "stdout",
     "output_type": "stream",
     "text": [
      "k=1 len of items is 35\n",
      "k=2 len of items is 481\n",
      "k=3 len of items is 1702\n",
      "k=4 len of items is 3463\n",
      "k=5 len of items is 2203\n",
      "k=6 len of items is 707\n",
      "k=7 len of items is 6\n",
      " 45.659808 seconds (34.16 M allocations: 2.117 GiB, 4.60% gc time)\n"
     ]
    },
    {
     "data": {
      "text/plain": [
       "7-element Array{Array{Array{Int64,1},1},1}:\n",
       " [[3], [4], [5], [6], [11], [12], [13], [14], [19], [20]  …  [47], [51], [52], [53], [54], [55], [59], [60], [61], [62]]                                                                                                                                                                                                                                                                                                                                                                                               \n",
       " [[3, 4], [3, 5], [3, 11], [3, 12], [3, 13], [3, 28], [3, 29], [3, 36], [3, 37], [3, 52]  …  [54, 61], [54, 62], [55, 60], [55, 61], [55, 62], [59, 60], [59, 61], [60, 61], [60, 62], [61, 62]]                                                                                                                                                                                                                                                                                                                       \n",
       " [[3, 4, 5], [3, 4, 11], [3, 4, 12], [3, 4, 13], [3, 4, 28], [3, 4, 29], [3, 4, 37], [3, 4, 52], [3, 4, 53], [3, 4, 54]  …  [38, 45, 46], [38, 46, 51], [38, 46, 62], [43, 44, 45], [43, 44, 46], [43, 44, 51], [43, 46, 51], [43, 51, 62], [44, 51, 62], [46, 51, 62]]                                                                                                                                                                                                                                                \n",
       " [[3, 4, 5, 11], [3, 4, 5, 13], [3, 4, 5, 59], [3, 4, 5, 60], [3, 4, 11, 12], [3, 4, 11, 13], [3, 4, 11, 28], [3, 4, 11, 29], [3, 4, 11, 52], [3, 4, 11, 53]  …  [27, 35, 45, 46], [27, 35, 46, 51], [27, 38, 43, 46], [27, 38, 46, 51], [27, 43, 44, 45], [27, 43, 46, 51], [30, 35, 38, 46], [35, 38, 43, 46], [35, 43, 44, 45], [35, 43, 46, 51]]                                                                                                                                                                   \n",
       " [[3, 4, 5, 11, 59], [3, 4, 5, 11, 60], [3, 4, 5, 13, 59], [3, 4, 5, 13, 60], [3, 4, 5, 59, 60], [3, 4, 11, 13, 59], [3, 4, 11, 13, 60], [3, 4, 11, 59, 60], [3, 4, 11, 59, 61], [3, 4, 11, 60, 61]  …  [19, 27, 35, 43, 51], [19, 27, 35, 46, 51], [19, 27, 38, 43, 46], [19, 27, 38, 46, 51], [19, 27, 43, 46, 51], [19, 35, 38, 43, 46], [19, 35, 43, 46, 51], [22, 27, 30, 38, 46], [27, 35, 38, 43, 46], [27, 35, 43, 46, 51]]                                                                                    \n",
       " [[3, 4, 5, 11, 59, 60], [3, 4, 11, 59, 60, 61], [4, 5, 11, 60, 61, 62], [4, 5, 11, 13, 61, 62], [4, 5, 11, 13, 53, 54], [4, 5, 11, 13, 28, 29], [4, 5, 11, 13, 28, 52], [4, 5, 11, 13, 28, 37], [4, 5, 11, 13, 28, 36], [4, 5, 11, 13, 28, 51]  …  [12, 19, 27, 35, 46, 51], [12, 19, 27, 38, 43, 46], [12, 19, 27, 38, 46, 51], [12, 19, 27, 43, 46, 51], [12, 19, 35, 38, 43, 46], [12, 19, 35, 43, 46, 51], [12, 27, 35, 38, 43, 46], [12, 27, 35, 43, 46, 51], [19, 27, 35, 38, 43, 46], [19, 27, 35, 43, 46, 51]]\n",
       " [[4, 5, 11, 13, 14, 19, 22], [4, 5, 11, 13, 14, 19, 27], [4, 5, 11, 13, 14, 22, 30], [4, 5, 11, 14, 19, 22, 27], [4, 5, 11, 14, 19, 22, 30], [4, 5, 11, 19, 27, 35, 43]]                                                                                                                                                                                                                                                                                                                                              "
      ]
     },
     "execution_count": 84,
     "metadata": {},
     "output_type": "execute_result"
    }
   ],
   "source": [
    "@time F_list = frequent(mnist_array, minsup=0.15)"
   ]
  },
  {
   "cell_type": "code",
   "execution_count": 221,
   "metadata": {},
   "outputs": [
    {
     "data": {
      "text/plain": [
       "1015-element Array{Array{Int64,1},1}:\n",
       " [4, 5, 11]  \n",
       " [4, 5, 12]  \n",
       " [4, 5, 13]  \n",
       " [4, 5, 14]  \n",
       " [4, 5, 19]  \n",
       " [4, 5, 22]  \n",
       " [4, 5, 27]  \n",
       " [4, 5, 28]  \n",
       " [4, 5, 29]  \n",
       " [4, 5, 30]  \n",
       " [4, 5, 35]  \n",
       " [4, 5, 36]  \n",
       " [4, 5, 37]  \n",
       " ⋮           \n",
       " [52, 53, 61]\n",
       " [52, 54, 60]\n",
       " [52, 54, 61]\n",
       " [52, 60, 61]\n",
       " [52, 61, 62]\n",
       " [53, 54, 60]\n",
       " [53, 54, 61]\n",
       " [53, 60, 61]\n",
       " [54, 60, 61]\n",
       " [54, 60, 62]\n",
       " [54, 61, 62]\n",
       " [60, 61, 62]"
      ]
     },
     "execution_count": 221,
     "metadata": {},
     "output_type": "execute_result"
    }
   ],
   "source": [
    "F_list[3]"
   ]
  },
  {
   "cell_type": "code",
   "execution_count": 219,
   "metadata": {},
   "outputs": [
    {
     "data": {
      "text/plain": [
       "3256×74 Array{Any,2}:\n",
       " 0  0  0  1  0  0  0  0  0  0  0  0  0  …  0  0  0  0  0  0  0  0  0  0  0  0\n",
       " 0  0  0  0  1  0  0  0  0  0  0  0  0     0  0  0  0  0  0  0  0  0  0  0  0\n",
       " 0  0  0  0  0  1  0  0  0  0  0  0  0     0  0  0  0  0  0  0  0  0  0  0  0\n",
       " 0  0  0  0  0  0  0  0  0  0  1  0  0     0  0  0  0  0  0  0  0  0  0  0  0\n",
       " 0  0  0  0  0  0  0  0  0  0  0  1  0     0  0  0  0  0  0  0  0  0  0  0  0\n",
       " 0  0  0  0  0  0  0  0  0  0  0  0  1  …  0  0  0  0  0  0  0  0  0  0  0  0\n",
       " 0  0  0  0  0  0  0  0  0  0  0  0  0     0  0  0  0  0  0  0  0  0  0  0  0\n",
       " 0  0  0  0  0  0  0  0  0  0  0  0  0     0  0  0  0  0  0  0  0  0  0  0  0\n",
       " 0  0  0  0  0  0  0  0  0  0  0  0  0     0  0  0  0  0  0  0  0  0  0  0  0\n",
       " 0  0  0  0  0  0  0  0  0  0  0  0  0     0  0  0  0  0  0  0  0  0  0  0  0\n",
       " 0  0  0  0  0  0  0  0  0  0  0  0  0  …  0  0  0  0  0  0  0  0  0  0  0  0\n",
       " 0  0  0  0  0  0  0  0  0  0  0  0  0     0  0  0  0  0  0  0  0  0  0  0  0\n",
       " 0  0  0  0  0  0  0  0  0  0  0  0  0     0  0  0  0  0  0  0  0  0  0  0  0\n",
       " ⋮              ⋮              ⋮        ⋱           ⋮              ⋮         \n",
       " 0  0  0  0  0  0  0  0  0  0  1  1  1     0  0  0  0  0  0  0  0  0  0  0  0\n",
       " 0  0  0  0  0  0  0  0  0  0  1  1  1  …  0  0  0  0  0  0  0  0  0  0  0  0\n",
       " 0  0  0  0  0  0  0  0  0  0  1  1  0     0  0  0  0  0  0  0  0  0  0  0  0\n",
       " 0  0  0  0  0  0  0  0  0  0  1  1  0     0  0  0  0  0  0  0  0  0  0  0  0\n",
       " 0  0  0  0  0  0  0  0  0  0  0  1  1     0  0  0  0  0  0  0  0  0  0  0  0\n",
       " 0  0  0  1  1  0  0  0  0  0  1  1  1     0  0  0  0  0  0  0  0  0  0  0  0\n",
       " 0  0  0  1  1  0  0  0  0  0  1  1  1  …  0  0  0  0  0  0  0  0  0  0  0  0\n",
       " 0  0  0  1  1  0  0  0  0  0  1  1  1     0  0  0  0  0  0  0  0  0  0  0  0\n",
       " 0  0  0  1  1  0  0  0  0  0  1  1  1     0  0  0  0  0  0  0  0  0  0  0  0\n",
       " 0  0  0  1  1  0  0  0  0  0  1  1  0     0  0  0  0  0  0  0  0  0  0  0  0\n",
       " 0  0  0  1  1  0  0  0  0  0  1  1  0     0  0  0  0  0  0  0  0  0  0  0  0\n",
       " 0  0  0  1  1  0  0  0  0  0  0  1  1  …  0  0  0  0  0  0  0  0  0  0  0  0"
      ]
     },
     "execution_count": 219,
     "metadata": {},
     "output_type": "execute_result"
    }
   ],
   "source": [
    "F_table = itemlist2table(F_list, size(mnist_cat)[2])"
   ]
  },
  {
   "cell_type": "code",
   "execution_count": 206,
   "metadata": {},
   "outputs": [
    {
     "data": {
      "text/plain": [
       "74"
      ]
     },
     "execution_count": 206,
     "metadata": {},
     "output_type": "execute_result"
    }
   ],
   "source": [
    "size(mnist_cat)[2]"
   ]
  },
  {
   "cell_type": "code",
   "execution_count": 99,
   "metadata": {
    "scrolled": false
   },
   "outputs": [
    {
     "name": "stdout",
     "output_type": "stream",
     "text": [
      " 16.950267 seconds (34.17 M allocations: 2.117 GiB, 7.33% gc time)\n"
     ]
    },
    {
     "data": {
      "text/plain": [
       "7-element Array{Array{Array{Int64,1},1},1}:\n",
       " [[3], [4], [5], [6], [11], [12], [13], [14], [19], [20]  …  [47], [51], [52], [53], [54], [55], [59], [60], [61], [62]]                                                                                                                                                                                                                                                                                                                                                                                               \n",
       " [[3, 4], [3, 5], [3, 11], [3, 12], [3, 13], [3, 28], [3, 29], [3, 36], [3, 37], [3, 52]  …  [54, 61], [54, 62], [55, 60], [55, 61], [55, 62], [59, 60], [59, 61], [60, 61], [60, 62], [61, 62]]                                                                                                                                                                                                                                                                                                                       \n",
       " [[3, 4, 5], [3, 4, 11], [3, 4, 12], [3, 4, 13], [3, 4, 28], [3, 4, 29], [3, 4, 37], [3, 4, 52], [3, 4, 53], [3, 4, 54]  …  [38, 45, 46], [38, 46, 51], [38, 46, 62], [43, 44, 45], [43, 44, 46], [43, 44, 51], [43, 46, 51], [43, 51, 62], [44, 51, 62], [46, 51, 62]]                                                                                                                                                                                                                                                \n",
       " [[3, 4, 5, 11], [3, 4, 5, 13], [3, 4, 5, 59], [3, 4, 5, 60], [3, 4, 11, 12], [3, 4, 11, 13], [3, 4, 11, 28], [3, 4, 11, 29], [3, 4, 11, 52], [3, 4, 11, 53]  …  [27, 35, 45, 46], [27, 35, 46, 51], [27, 38, 43, 46], [27, 38, 46, 51], [27, 43, 44, 45], [27, 43, 46, 51], [30, 35, 38, 46], [35, 38, 43, 46], [35, 43, 44, 45], [35, 43, 46, 51]]                                                                                                                                                                   \n",
       " [[3, 4, 5, 11, 59], [3, 4, 5, 11, 60], [3, 4, 5, 13, 59], [3, 4, 5, 13, 60], [3, 4, 5, 59, 60], [3, 4, 11, 13, 59], [3, 4, 11, 13, 60], [3, 4, 11, 59, 60], [3, 4, 11, 59, 61], [3, 4, 11, 60, 61]  …  [19, 27, 35, 43, 51], [19, 27, 35, 46, 51], [19, 27, 38, 43, 46], [19, 27, 38, 46, 51], [19, 27, 43, 46, 51], [19, 35, 38, 43, 46], [19, 35, 43, 46, 51], [22, 27, 30, 38, 46], [27, 35, 38, 43, 46], [27, 35, 43, 46, 51]]                                                                                    \n",
       " [[3, 4, 5, 11, 59, 60], [3, 4, 11, 59, 60, 61], [4, 5, 11, 60, 61, 62], [4, 5, 11, 13, 61, 62], [4, 5, 11, 13, 53, 54], [4, 5, 11, 13, 28, 29], [4, 5, 11, 13, 28, 52], [4, 5, 11, 13, 28, 37], [4, 5, 11, 13, 28, 36], [4, 5, 11, 13, 28, 51]  …  [12, 19, 27, 35, 46, 51], [12, 19, 27, 38, 43, 46], [12, 19, 27, 38, 46, 51], [12, 19, 27, 43, 46, 51], [12, 19, 35, 38, 43, 46], [12, 19, 35, 43, 46, 51], [12, 27, 35, 38, 43, 46], [12, 27, 35, 43, 46, 51], [19, 27, 35, 38, 43, 46], [19, 27, 35, 43, 46, 51]]\n",
       " [[4, 5, 11, 13, 14, 19, 22], [4, 5, 11, 13, 14, 19, 27], [4, 5, 11, 13, 14, 22, 30], [4, 5, 11, 14, 19, 22, 27], [4, 5, 11, 14, 19, 22, 30], [4, 5, 11, 19, 27, 35, 43]]                                                                                                                                                                                                                                                                                                                                              "
      ]
     },
     "execution_count": 99,
     "metadata": {},
     "output_type": "execute_result"
    }
   ],
   "source": [
    "@time F_list = frequent(mnist_cat, minsum=0.15)"
   ]
  },
  {
   "cell_type": "code",
   "execution_count": 106,
   "metadata": {
    "scrolled": false
   },
   "outputs": [
    {
     "ename": "InterruptException",
     "evalue": "InterruptException:",
     "output_type": "error",
     "traceback": [
      "InterruptException:",
      "",
      "Stacktrace:",
      " [1] #92 at ./none:0 [inlined]",
      " [2] iterate at ./iterators.jl:429 [inlined]",
      " [3] iterate at ./generator.jl:44 [inlined]",
      " [4] grow_to!(::Array{Array{Int64,1},1}, ::Base.Generator{Base.Iterators.Filter{getfield(Main, Symbol(\"##92#96\")){Array{Array{Int64,1},1},Int64},Array{Array{Int64,1},1}},getfield(Main, Symbol(\"##91#95\"))}, ::Int64) at ./array.jl:697",
      " [5] grow_to!(::Array{Array{Int64,1},1}, ::Base.Generator{Base.Iterators.Filter{getfield(Main, Symbol(\"##92#96\")){Array{Array{Int64,1},1},Int64},Array{Array{Int64,1},1}},getfield(Main, Symbol(\"##91#95\"))}) at ./array.jl:670",
      " [6] collect at ./array.jl:604 [inlined]",
      " [7] getCkPlusOne(::Array{Array{Int64,1},1}, ::Int64) at ./In[68]:10",
      " [8] #frequent#106(::Float64, ::typeof(frequent), ::Array{Int64,2}) at ./In[71]:8",
      " [9] (::getfield(Main, Symbol(\"#kw##frequent\")))(::NamedTuple{(:minsum,),Tuple{Float64}}, ::typeof(frequent), ::Array{Int64,2}) at ./none:0",
      " [10] top-level scope at util.jl:156",
      " [11] top-level scope at In[106]:1"
     ]
    }
   ],
   "source": [
    "@time F_list = frequent(mnist_cat, minsum=0.09)"
   ]
  },
  {
   "cell_type": "code",
   "execution_count": 105,
   "metadata": {
    "scrolled": false
   },
   "outputs": [
    {
     "name": "stdout",
     "output_type": "stream",
     "text": [
      "  0.000895 seconds (1.08 k allocations: 1005.000 KiB)\n"
     ]
    },
    {
     "data": {
      "text/plain": [
       "1-element Array{Array{Array{Int64,1},1},1}:\n",
       " [[1], [2], [3], [4], [5], [6], [7], [8], [9], [10]]"
      ]
     },
     "execution_count": 105,
     "metadata": {},
     "output_type": "execute_result"
    }
   ],
   "source": [
    "@time F_list = frequent(mnist_label, minsum=0.09)"
   ]
  },
  {
   "cell_type": "code",
   "execution_count": 104,
   "metadata": {
    "scrolled": false
   },
   "outputs": [
    {
     "name": "stdout",
     "output_type": "stream",
     "text": [
      "  0.000012 seconds (12 allocations: 544 bytes)\n"
     ]
    },
    {
     "data": {
      "text/plain": [
       "0-element Array{Array{Rule,1},1}"
      ]
     },
     "execution_count": 104,
     "metadata": {},
     "output_type": "execute_result"
    }
   ],
   "source": [
    "@time find_rules(mnist_array, F_list, minconf=0.1)"
   ]
  },
  {
   "cell_type": "code",
   "execution_count": 51,
   "metadata": {},
   "outputs": [
    {
     "data": {
      "text/plain": [
       "897×64 Array{Int64,2}:\n",
       " 0  0  0  1  1  0  0  0  0  0  0  1  1  …  1  0  0  0  0  0  0  1  1  1  0  0\n",
       " 0  0  0  0  1  1  0  0  0  0  0  1  1     1  1  0  0  0  0  0  0  1  1  1  0\n",
       " 0  0  0  1  1  0  0  0  0  1  1  0  1     0  1  1  0  0  0  0  1  1  1  0  0\n",
       " 0  0  0  0  1  0  0  0  0  0  0  0  1     1  1  0  0  0  0  0  0  1  0  0  0\n",
       " 0  0  1  1  0  0  0  0  0  0  1  1  1     1  1  0  0  0  0  1  1  1  1  0  0\n",
       " 0  0  0  1  1  0  0  0  0  0  0  1  1  …  1  1  1  0  0  0  0  1  1  1  0  0\n",
       " 0  0  0  1  1  1  1  0  0  0  0  0  0     0  0  0  0  0  0  1  0  0  0  0  0\n",
       " 0  0  1  1  1  0  0  0  0  0  1  1  1     0  1  1  0  0  0  1  1  1  1  0  0\n",
       " 0  0  1  1  0  0  0  0  0  0  1  1  1     1  1  0  0  0  0  1  1  1  0  0  0\n",
       " 0  0  0  1  1  1  0  0  0  0  1  1  1     1  1  0  0  0  0  0  1  1  0  0  0\n",
       " 0  0  0  0  1  1  0  0  0  0  0  0  1  …  1  1  0  0  0  0  0  0  1  1  0  0\n",
       " 0  0  0  1  0  0  0  0  0  0  1  1  0     1  1  1  0  0  0  0  1  1  1  1  0\n",
       " 0  0  1  1  1  1  0  0  0  0  1  1  1     1  1  0  0  0  0  1  1  1  1  0  0\n",
       " ⋮              ⋮              ⋮        ⋱           ⋮              ⋮         \n",
       " 0  0  0  1  1  0  0  0  0  0  0  1  0  …  1  0  0  0  0  0  0  1  1  0  0  0\n",
       " 0  0  0  0  1  0  0  0  0  0  0  1  1     1  1  0  0  0  0  0  0  1  0  0  0\n",
       " 0  0  0  1  1  0  0  0  0  0  0  1  1     0  0  0  0  0  0  0  1  0  0  0  0\n",
       " 0  0  1  1  0  0  0  0  0  0  1  1  1     1  1  0  0  0  1  1  1  1  1  0  0\n",
       " 0  0  0  1  1  1  0  0  0  0  1  1  1     1  1  0  0  0  0  0  1  1  1  0  0\n",
       " 0  0  0  1  1  1  0  0  0  0  1  0  0  …  1  0  0  0  0  0  0  1  1  1  0  0\n",
       " 0  0  1  1  1  0  0  0  0  0  1  0  1     0  1  0  0  0  0  1  1  1  0  0  0\n",
       " 0  0  1  1  1  1  1  0  0  0  1  1  1     1  0  0  0  0  0  1  1  1  0  0  0\n",
       " 0  0  0  1  1  0  0  0  0  0  1  1  1     0  0  0  0  0  0  1  1  0  0  0  0\n",
       " 0  0  0  1  1  1  0  0  0  0  1  1  1     0  1  0  0  0  0  0  1  1  1  0  0\n",
       " 0  0  1  1  1  1  0  0  0  0  1  1  1  …  0  0  0  0  0  0  1  1  0  0  0  0\n",
       " 0  0  0  1  1  0  0  0  0  0  0  1  1     1  0  0  0  0  0  0  1  1  0  0  0"
      ]
     },
     "execution_count": 51,
     "metadata": {},
     "output_type": "execute_result"
    }
   ],
   "source": [
    "mnist_array"
   ]
  },
  {
   "cell_type": "code",
   "execution_count": null,
   "metadata": {},
   "outputs": [],
   "source": []
  }
 ],
 "metadata": {
  "kernelspec": {
   "display_name": "Julia 1.1.1",
   "language": "julia",
   "name": "julia-1.1"
  },
  "language_info": {
   "file_extension": ".jl",
   "mimetype": "application/julia",
   "name": "julia",
   "version": "1.1.1"
  }
 },
 "nbformat": 4,
 "nbformat_minor": 2
}
