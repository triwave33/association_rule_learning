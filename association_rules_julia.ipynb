{
 "cells": [
  {
   "cell_type": "code",
   "execution_count": 2,
   "metadata": {},
   "outputs": [],
   "source": [
    "using DataFrames\n",
    "using CSV\n",
    "using Printf\n",
    "import Base.Iterators: flatten, zip\n",
    "import IterTools.subsets"
   ]
  },
  {
   "cell_type": "markdown",
   "metadata": {},
   "source": [
    "# Define struct"
   ]
  },
  {
   "cell_type": "code",
   "execution_count": 3,
   "metadata": {},
   "outputs": [],
   "source": [
    "struct Rule\n",
    "    ant::Array{Int64,1}\n",
    "    con::Array{Int64,1}\n",
    "end"
   ]
  },
  {
   "cell_type": "markdown",
   "metadata": {},
   "source": [
    "# Data load"
   ]
  },
  {
   "cell_type": "code",
   "execution_count": 4,
   "metadata": {},
   "outputs": [
    {
     "data": {
      "text/plain": [
       "5×5 Array{Int64,2}:\n",
       " 0  1  1  1  0\n",
       " 1  1  0  0  0\n",
       " 1  0  0  1  1\n",
       " 0  1  1  1  0\n",
       " 0  1  0  1  0"
      ]
     },
     "execution_count": 4,
     "metadata": {},
     "output_type": "execute_result"
    }
   ],
   "source": [
    "onigiri_data = CSV.read(\"onigiri.csv\", delim=\",\")\n",
    "onigiri_array = Matrix(onigiri_data)"
   ]
  },
  {
   "cell_type": "code",
   "execution_count": 5,
   "metadata": {},
   "outputs": [
    {
     "data": {
      "text/plain": [
       "GTI (generic function with 1 method)"
      ]
     },
     "execution_count": 5,
     "metadata": {},
     "output_type": "execute_result"
    }
   ],
   "source": [
    "function GTI(mat::Array{Int64,2}, indexes::Array{Int64,1})\n",
    "    return mat[:,indexes] .==1\n",
    "end"
   ]
  },
  {
   "cell_type": "code",
   "execution_count": 6,
   "metadata": {},
   "outputs": [
    {
     "data": {
      "text/plain": [
       "support (generic function with 1 method)"
      ]
     },
     "execution_count": 6,
     "metadata": {},
     "output_type": "execute_result"
    }
   ],
   "source": [
    "function support(array_2d::Array{Int64,2}, indexes::Array{Int64,1}; m=\"num\")\n",
    "    gti_b = GTI(array_2d, indexes)\n",
    "    if size(gti_b)[2] ==0\n",
    "        return 0\n",
    "    end\n",
    "    b = all(gti_b, dims=2)\n",
    "    if m ==\"num\"\n",
    "        return sum(b)\n",
    "    elseif m == \"ratio\"\n",
    "        return sum(b)/length(b)\n",
    "    elseif m==\"bool\"\n",
    "        return b\n",
    "    end\n",
    "end"
   ]
  },
  {
   "cell_type": "code",
   "execution_count": 55,
   "metadata": {},
   "outputs": [
    {
     "data": {
      "text/plain": [
       "support2 (generic function with 1 method)"
      ]
     },
     "execution_count": 55,
     "metadata": {},
     "output_type": "execute_result"
    }
   ],
   "source": [
    "function support2(array_2d::Array{Int64,2}, indexes::Array{Int64,1})\n",
    "    gti_b = GTI(array_2d, indexes)\n",
    "    if size(gti_b)[2] ==0\n",
    "        return 0\n",
    "    end\n",
    "    b = all(gti_b, dims=2)\n",
    "    return b\n",
    "end"
   ]
  },
  {
   "cell_type": "code",
   "execution_count": 7,
   "metadata": {},
   "outputs": [
    {
     "data": {
      "text/plain": [
       "confidence (generic function with 1 method)"
      ]
     },
     "execution_count": 7,
     "metadata": {},
     "output_type": "execute_result"
    }
   ],
   "source": [
    "function confidence(array_2d::Array{Int64,2}, \n",
    "        X_indexes::Array{Int64,1}, Y_indexes::Array{Int64,1})\n",
    "    sup_X = support(array_2d, X_indexes)\n",
    "    X_Y_indexes = cat(X_indexes, Y_indexes, dims=1)\n",
    "    return support(array_2d, X_Y_indexes)/sup_X\n",
    "end"
   ]
  },
  {
   "cell_type": "code",
   "execution_count": 8,
   "metadata": {},
   "outputs": [
    {
     "data": {
      "text/plain": [
       "getF1 (generic function with 1 method)"
      ]
     },
     "execution_count": 8,
     "metadata": {},
     "output_type": "execute_result"
    }
   ],
   "source": [
    "function getF1(array_2D::Array{Int64,2}, minsup::Float64)\n",
    "    return [[col] for col in 1:size(array_2D)[2] if support(array_2D, [col], m=\"ratio\") >= minsup]\n",
    "end"
   ]
  },
  {
   "cell_type": "code",
   "execution_count": 9,
   "metadata": {},
   "outputs": [
    {
     "data": {
      "text/plain": [
       "getFkPlusOne (generic function with 1 method)"
      ]
     },
     "execution_count": 9,
     "metadata": {},
     "output_type": "execute_result"
    }
   ],
   "source": [
    "function getFkPlusOne(array_2D::Array{Int64,2}, indexes::Array{Array{Int64,1},1}, minsup::Float64)\n",
    "    return [col for col in indexes if support(array_2D, col, m=\"ratio\") >= minsup]\n",
    "                \n",
    "end"
   ]
  },
  {
   "cell_type": "code",
   "execution_count": 10,
   "metadata": {},
   "outputs": [
    {
     "data": {
      "text/plain": [
       "getCkPlusOne (generic function with 1 method)"
      ]
     },
     "execution_count": 10,
     "metadata": {},
     "output_type": "execute_result"
    }
   ],
   "source": [
    "function getCkPlusOne(prevCandidate::Array{Array{Int64, 1}, 1}, k)\n",
    "    @assert all(length.(prevCandidate) .==  k-1)\n",
    "    @assert k>1\n",
    "    items = unique(collect(flatten(prevCandidate)))\n",
    "    tmp_candidates = [x for x in subsets(items, k)]\n",
    "    if k ==2\n",
    "        return tmp_candidates\n",
    "    end\n",
    "    \n",
    "    candidates = [\n",
    "        candidate for candidate in tmp_candidates\n",
    "        if all(\n",
    "                x in prevCandidate\n",
    "                for x in subsets(candidate, k-1))\n",
    "    ]\n",
    "                \n",
    "    return candidates\n",
    "                \n",
    "end"
   ]
  },
  {
   "cell_type": "code",
   "execution_count": 11,
   "metadata": {},
   "outputs": [
    {
     "data": {
      "text/plain": [
       "isEmpty (generic function with 1 method)"
      ]
     },
     "execution_count": 11,
     "metadata": {},
     "output_type": "execute_result"
    }
   ],
   "source": [
    "function isEmpty(F::Array{Array{Int64,1},1})\n",
    "    if length(F) < 1\n",
    "        return true\n",
    "    else\n",
    "        return false\n",
    "    end\n",
    "end"
   ]
  },
  {
   "cell_type": "code",
   "execution_count": 12,
   "metadata": {},
   "outputs": [
    {
     "data": {
      "text/plain": [
       "isCalcConfNeeded (generic function with 1 method)"
      ]
     },
     "execution_count": 12,
     "metadata": {},
     "output_type": "execute_result"
    }
   ],
   "source": [
    "function isCalcConfNeeded(array_prev_ant::Array{Array{Int64,1},1},\n",
    "                    array_ant::Array{Array{Int64,1},1}, set_f::Array{Int64,1})\n",
    "    array_prev_con = [setdiff(set_f,  set_c) for set_c in array_ant]\n",
    "    array_con = [setdiff(set_f, set_c) for set_c in array_ant]\n",
    "    \n",
    "    out = []\n",
    "    for (a,c) in zip(array_ant, array_con)\n",
    "        out_inner = []\n",
    "        for i in 1:length(c)\n",
    "\n",
    "            array_ant_candidate = a\n",
    "            cand = c[i]\n",
    "            array_candidate_ant = vcat(a, cand)\n",
    "            array_candidate_con = filter(x ->x != cand, c)\n",
    "            \n",
    "            res = any([issubset(array_candidate_ant, i) for i in array_prev_ant])\n",
    "            append!(out_inner, res)\n",
    "        end\n",
    "        if all(out_inner)\n",
    "            append!(out, true)\n",
    "        else\n",
    "            append!(out, false)\n",
    "        end\n",
    "    end\n",
    "    \n",
    "    out = convert(Array{Bool, 1}, out)\n",
    "\n",
    "    return out\n",
    "end\n",
    "\n",
    "                \n",
    "            "
   ]
  },
  {
   "cell_type": "code",
   "execution_count": 13,
   "metadata": {},
   "outputs": [
    {
     "data": {
      "text/plain": [
       "frequent (generic function with 1 method)"
      ]
     },
     "execution_count": 13,
     "metadata": {},
     "output_type": "execute_result"
    }
   ],
   "source": [
    "function frequent(array_2D::Array{Int64,2}; minsup::Float64)\n",
    "    k = 1\n",
    "    F_now = getF1(array_2D, minsup)\n",
    "    F_list = []\n",
    "    F_table = zeros(1,size(array_2D)[2]) # first line is dummy (all zero)\n",
    "    @printf \"k=1 len of items is %d\"  length(F_now)\n",
    "    println()\n",
    "    append!(F_list, [F_now])\n",
    "    \n",
    "    \n",
    "    \n",
    "    while(true)\n",
    "        C_next = getCkPlusOne(F_now, k+1)\n",
    "        F_next = getFkPlusOne(array_2D, C_next, minsup)\n",
    "        \n",
    "        if isEmpty(F_next)\n",
    "            break\n",
    "        end\n",
    "        k += 1\n",
    "        F_now = F_next\n",
    "        append!(F_list, [F_now])\n",
    "        @printf \"k=%d len of items is %d\"  k length(F_now)\n",
    "        println()\n",
    "    end\n",
    "    \n",
    "    F_list = convert(Array{Array{Array{Int64,1},1},1}, F_list)\n",
    "    \n",
    "    return F_list\n",
    "end"
   ]
  },
  {
   "cell_type": "code",
   "execution_count": 14,
   "metadata": {},
   "outputs": [
    {
     "name": "stdout",
     "output_type": "stream",
     "text": [
      "k=1 len of items is 4\n",
      "k=2 len of items is 3\n",
      "k=3 len of items is 1\n"
     ]
    },
    {
     "data": {
      "text/plain": [
       "3-element Array{Array{Array{Int64,1},1},1}:\n",
       " [[1], [2], [3], [4]]    \n",
       " [[2, 3], [2, 4], [3, 4]]\n",
       " [[2, 3, 4]]             "
      ]
     },
     "execution_count": 14,
     "metadata": {},
     "output_type": "execute_result"
    }
   ],
   "source": [
    "_F_list = frequent(onigiri_array, minsup=0.4)"
   ]
  },
  {
   "cell_type": "code",
   "execution_count": 15,
   "metadata": {},
   "outputs": [
    {
     "data": {
      "text/plain": [
       "itemlist2table (generic function with 1 method)"
      ]
     },
     "execution_count": 15,
     "metadata": {},
     "output_type": "execute_result"
    }
   ],
   "source": [
    "function itemlist2table(item_list::Array{Array{Array{Int64,1},1},1},\n",
    "                                             col_num::Int64)\n",
    "    table = []\n",
    "    for k in item_list\n",
    "        for item in k\n",
    "            #label encode\n",
    "            arr = zeros(Int64, 1,col_num)\n",
    "            arr[1,item] .= 1\n",
    "            \n",
    "            table = cat(table, arr, dims=1)\n",
    "        end\n",
    "    end\n",
    "    return table\n",
    "end\n",
    "\n",
    "            "
   ]
  },
  {
   "cell_type": "code",
   "execution_count": 16,
   "metadata": {},
   "outputs": [
    {
     "data": {
      "text/plain": [
       "8×10 Array{Any,2}:\n",
       " 1  0  0  0  0  0  0  0  0  0\n",
       " 0  1  0  0  0  0  0  0  0  0\n",
       " 0  0  1  0  0  0  0  0  0  0\n",
       " 0  0  0  1  0  0  0  0  0  0\n",
       " 0  1  1  0  0  0  0  0  0  0\n",
       " 0  1  0  1  0  0  0  0  0  0\n",
       " 0  0  1  1  0  0  0  0  0  0\n",
       " 0  1  1  1  0  0  0  0  0  0"
      ]
     },
     "execution_count": 16,
     "metadata": {},
     "output_type": "execute_result"
    }
   ],
   "source": [
    "tmp = itemlist2table( _F_list, 10)"
   ]
  },
  {
   "cell_type": "code",
   "execution_count": 17,
   "metadata": {},
   "outputs": [
    {
     "data": {
      "text/plain": [
       "find_rules (generic function with 1 method)"
      ]
     },
     "execution_count": 17,
     "metadata": {},
     "output_type": "execute_result"
    }
   ],
   "source": [
    "function find_rules(array_2D::Array{Int64, 2}, \n",
    "        F_list::Array{Array{Array{Int64,1},1},1}; minconf::Float64)\n",
    "    conf_list = []\n",
    "    \n",
    "    \n",
    "    for F in F_list\n",
    "        k = length(F[1])\n",
    "        \n",
    "        if k == 1\n",
    "            #conf_list = vcat(conf_list, Any{[Rule([0],[0])]}) # DUMMY!!\n",
    "        \n",
    "        elseif k == 2\n",
    "            conf_list_k = []\n",
    "            for f_2 in F\n",
    "                A = f_2[1]\n",
    "                B = f_2[2]\n",
    "                conf_AB = confidence(array_2D, [A], [B])\n",
    "                if conf_AB >= minconf\n",
    "                    #append!(conf_list_k, Rule([A],[B]))\n",
    "                    conf_list_k = vcat(conf_list_k, Rule([A],[B]))\n",
    "\n",
    "                end\n",
    "                conf_BA = confidence(array_2D, [B], [A])\n",
    "                if conf_BA >= minconf\n",
    "                    #append!(conf_list_k, Rule([B],[A]))\n",
    "                    conf_list_k = vcat(conf_list_k, Rule([B],[A]))\n",
    "                end\n",
    "            end\n",
    "            append!(conf_list, [conf_list_k])   \n",
    "\n",
    "\n",
    "        elseif k >= 3\n",
    "            conf_list_k = []\n",
    "            for f_k in F\n",
    "                \n",
    "                j = 1\n",
    "                \n",
    "                array_antecedent =  collect(subsets(f_k, k-1))\n",
    "                array_consequent = [setdiff(f_k,  set_c) for set_c in array_antecedent]\n",
    "                conf = [confidence(array_2D, ant, con) for (ant, con) in zip(array_antecedent, array_consequent)]\n",
    "                isHigher = conf .>= minconf\n",
    "                if sum(isHigher) > 0\n",
    "                    array_antecedent_filtered_by_conf = array_antecedent[isHigher]\n",
    "                    array_consequent_filtered_by_conf = array_consequent[isHigher]\n",
    "                    append!(conf_list_k, [Rule(a,c) for (a,c) in zip(array_antecedent_filtered_by_conf,\n",
    "                                                                                            array_consequent_filtered_by_conf)])\n",
    "                    \n",
    "                    while(j < k-1)\n",
    "                        array_antecedent_new = collect(subsets(f_k, k-(j+1)))\n",
    "                        _res = isCalcConfNeeded(array_antecedent_filtered_by_conf, array_antecedent_new, f_k)\n",
    "                        if sum(_res) > 0\n",
    "                            array_antecedent_filtered_by_prev = array_antecedent_new[_res]\n",
    "                            array_consequent_filtered_by_prev = [setdiff(f_k,  set_c) \n",
    "                                                                                            for set_c in array_antecedent_filtered_by_prev]\n",
    "                            conf = [confidence(array_2D, ant, con) for (ant, con) in zip(array_antecedent_filtered_by_prev, \n",
    "                                                                                                                                array_consequent_filtered_by_prev)]\n",
    "                            isHigher = conf .>= minconf\n",
    "                            if sum(isHigher) > 0\n",
    "                                array_antecedent_filtered_by_prev_and_conf = array_antecedent_filtered_by_prev[isHigher]\n",
    "                                array_consequent_filtered_by_prev_and_conf = array_consequent_filtered_by_prev[isHigher]\n",
    "                                append!(conf_list_k, [Rule(a,c) for (a,c) in zip(array_antecedent_filtered_by_prev_and_conf, \n",
    "                                                                                                         array_consequent_filtered_by_prev_and_conf)])\n",
    "                            end\n",
    "                        end\n",
    "                        j += 1\n",
    "                    end #while\n",
    "                end\n",
    "            end\n",
    "            append!(conf_list, [conf_list_k])\n",
    "        end\n",
    "    end\n",
    "    conf_list = convert(Array{Array{Rule,1},1}, conf_list)\n",
    "    return conf_list\n",
    "end"
   ]
  },
  {
   "cell_type": "code",
   "execution_count": 18,
   "metadata": {},
   "outputs": [
    {
     "data": {
      "text/plain": [
       "2-element Array{Array{Rule,1},1}:\n",
       " [Rule([3], [2]), Rule([2], [4]), Rule([4], [2]), Rule([3], [4])]\n",
       " [Rule([2, 3], [4]), Rule([3, 4], [2]), Rule([3], [2, 4])]       "
      ]
     },
     "execution_count": 18,
     "metadata": {},
     "output_type": "execute_result"
    }
   ],
   "source": [
    "find_rules(onigiri_array, _F_list, minconf=0.7)"
   ]
  },
  {
   "cell_type": "markdown",
   "metadata": {},
   "source": [
    "## Load data (store data)"
   ]
  },
  {
   "cell_type": "code",
   "execution_count": null,
   "metadata": {
    "scrolled": true
   },
   "outputs": [],
   "source": [
    "store_data = CSV.read(\"store_data_trans.csv\", delim=\",\")\n",
    "store_array = Matrix(store_data)\n",
    "store_array"
   ]
  },
  {
   "cell_type": "code",
   "execution_count": null,
   "metadata": {
    "scrolled": false
   },
   "outputs": [],
   "source": [
    "minsup = 0.003\n",
    "F_list = frequent(store_array, minsup=minsup)"
   ]
  },
  {
   "cell_type": "code",
   "execution_count": null,
   "metadata": {
    "scrolled": true
   },
   "outputs": [],
   "source": [
    "minconf = 0.01\n",
    "find_rules(store_array, F_list, minconf)"
   ]
  },
  {
   "cell_type": "markdown",
   "metadata": {},
   "source": [
    "# mnist"
   ]
  },
  {
   "cell_type": "code",
   "execution_count": 19,
   "metadata": {
    "scrolled": false
   },
   "outputs": [
    {
     "data": {
      "text/plain": [
       "898×10 Array{Int64,2}:\n",
       " 1  0  0  0  0  0  0  0  0  0\n",
       " 0  1  0  0  0  0  0  0  0  0\n",
       " 0  0  1  0  0  0  0  0  0  0\n",
       " 0  0  0  1  0  0  0  0  0  0\n",
       " 0  0  0  0  1  0  0  0  0  0\n",
       " 0  0  0  0  0  1  0  0  0  0\n",
       " 0  0  0  0  0  0  1  0  0  0\n",
       " 0  0  0  0  0  0  0  1  0  0\n",
       " 0  0  0  0  0  0  0  0  1  0\n",
       " 0  0  0  0  0  0  0  0  0  1\n",
       " 1  0  0  0  0  0  0  0  0  0\n",
       " 0  1  0  0  0  0  0  0  0  0\n",
       " 0  0  1  0  0  0  0  0  0  0\n",
       " ⋮              ⋮            \n",
       " 0  0  0  0  1  0  0  0  0  0\n",
       " 0  0  0  0  1  0  0  0  0  0\n",
       " 0  0  0  0  0  0  0  1  0  0\n",
       " 0  0  1  0  0  0  0  0  0  0\n",
       " 0  0  0  0  0  0  0  0  1  0\n",
       " 0  0  1  0  0  0  0  0  0  0\n",
       " 0  0  1  0  0  0  0  0  0  0\n",
       " 0  0  0  0  0  1  0  0  0  0\n",
       " 0  0  0  0  0  0  0  1  0  0\n",
       " 0  0  0  0  0  0  0  0  0  1\n",
       " 0  0  0  0  0  1  0  0  0  0\n",
       " 0  0  0  0  1  0  0  0  0  0"
      ]
     },
     "execution_count": 19,
     "metadata": {},
     "output_type": "execute_result"
    }
   ],
   "source": [
    "mnist_data = CSV.read(\"mnist_8x8_image.csv\", delim=\",\",  header=false)\n",
    "mnist_array = Matrix(mnist_data)\n",
    "mnist_array = convert(Array{Int64, 2}, mnist_array)\n",
    "\n",
    "mnist_label = CSV.read(\"mnist_8x8_label.csv\", delim=\",\",  header=false)\n",
    "mnist_label = Matrix(mnist_label)\n",
    "mnist_label = convert(Array{Int64, 2}, mnist_label)\n",
    "\n",
    "mnist_label_onehot = CSV.read(\"mnist_8x8_label_onehot.csv\", delim=\",\",  header=false)\n",
    "mnist_label_onehot = Matrix(mnist_label_onehot)\n",
    "mnist_label_onehot = convert(Array{Int64, 2}, mnist_label_onehot)\n"
   ]
  },
  {
   "cell_type": "code",
   "execution_count": 20,
   "metadata": {},
   "outputs": [
    {
     "ename": "MethodError",
     "evalue": "MethodError: no method matching SubArray(::Array{Int64,2}, ::BitArray{2})\nClosest candidates are:\n  SubArray(::AbstractArray, !Matched::Tuple) at subarray.jl:21\n  SubArray(!Matched::IndexCartesian, ::P, !Matched::I, !Matched::Tuple{Vararg{Any,N}}) where {P, I, N} at subarray.jl:25\n  SubArray(!Matched::IndexLinear, ::P, !Matched::I, !Matched::Tuple{Vararg{Any,N}}) where {P, I, N} at subarray.jl:29",
     "output_type": "error",
     "traceback": [
      "MethodError: no method matching SubArray(::Array{Int64,2}, ::BitArray{2})\nClosest candidates are:\n  SubArray(::AbstractArray, !Matched::Tuple) at subarray.jl:21\n  SubArray(!Matched::IndexCartesian, ::P, !Matched::I, !Matched::Tuple{Vararg{Any,N}}) where {P, I, N} at subarray.jl:25\n  SubArray(!Matched::IndexLinear, ::P, !Matched::I, !Matched::Tuple{Vararg{Any,N}}) where {P, I, N} at subarray.jl:29",
      "",
      "Stacktrace:",
      " [1] top-level scope at In[20]:1"
     ]
    }
   ],
   "source": [
    "SubArray(mnist_array, mnist_label .==3)"
   ]
  },
  {
   "cell_type": "markdown",
   "metadata": {},
   "source": [
    "## concat image and label"
   ]
  },
  {
   "cell_type": "code",
   "execution_count": 21,
   "metadata": {},
   "outputs": [
    {
     "data": {
      "text/plain": [
       "898×65 Array{Int64,2}:\n",
       " 0  0  0  1  1  0  0  0  0  0  1  1  1  …  1  0  0  0  0  0  1  1  0  0  0  0\n",
       " 0  0  0  1  1  0  0  0  0  0  0  1  1     0  0  0  0  0  0  1  1  1  0  0  1\n",
       " 0  0  0  0  1  1  0  0  0  0  0  1  1     1  0  0  0  0  0  0  1  1  1  0  2\n",
       " 0  0  0  1  1  0  0  0  0  1  1  0  1     1  1  0  0  0  0  1  1  1  0  0  3\n",
       " 0  0  0  0  1  0  0  0  0  0  0  0  1     1  0  0  0  0  0  0  1  0  0  0  4\n",
       " 0  0  1  1  0  0  0  0  0  0  1  1  1  …  1  0  0  0  0  1  1  1  1  0  0  5\n",
       " 0  0  0  1  1  0  0  0  0  0  0  1  1     1  1  0  0  0  0  1  1  1  0  0  6\n",
       " 0  0  0  1  1  1  1  0  0  0  0  0  0     0  0  0  0  0  1  0  0  0  0  0  7\n",
       " 0  0  1  1  1  0  0  0  0  0  1  1  1     1  1  0  0  0  1  1  1  1  0  0  8\n",
       " 0  0  1  1  0  0  0  0  0  0  1  1  1     1  0  0  0  0  1  1  1  0  0  0  9\n",
       " 0  0  0  1  1  1  0  0  0  0  1  1  1  …  1  0  0  0  0  0  1  1  0  0  0  0\n",
       " 0  0  0  0  1  1  0  0  0  0  0  0  1     1  0  0  0  0  0  0  1  1  0  0  1\n",
       " 0  0  0  1  0  0  0  0  0  0  1  1  0     1  1  0  0  0  0  1  1  1  1  0  2\n",
       " ⋮              ⋮              ⋮        ⋱        ⋮              ⋮            \n",
       " 0  0  0  1  1  0  0  0  0  0  0  1  0     0  0  0  0  0  0  1  1  0  0  0  4\n",
       " 0  0  0  0  1  0  0  0  0  0  0  1  1     1  0  0  0  0  0  0  1  0  0  0  4\n",
       " 0  0  0  1  1  0  0  0  0  0  0  1  1     0  0  0  0  0  0  1  0  0  0  0  7\n",
       " 0  0  1  1  0  0  0  0  0  0  1  1  1     1  0  0  0  1  1  1  1  1  0  0  2\n",
       " 0  0  0  1  1  1  0  0  0  0  1  1  1  …  1  0  0  0  0  0  1  1  1  0  0  8\n",
       " 0  0  0  1  1  1  0  0  0  0  1  0  0     0  0  0  0  0  0  1  1  1  0  0  2\n",
       " 0  0  1  1  1  0  0  0  0  0  1  0  1     1  0  0  0  0  1  1  1  0  0  0  2\n",
       " 0  0  1  1  1  1  1  0  0  0  1  1  1     0  0  0  0  0  1  1  1  0  0  0  5\n",
       " 0  0  0  1  1  0  0  0  0  0  1  1  1     0  0  0  0  0  1  1  0  0  0  0  7\n",
       " 0  0  0  1  1  1  0  0  0  0  1  1  1  …  1  0  0  0  0  0  1  1  1  0  0  9\n",
       " 0  0  1  1  1  1  0  0  0  0  1  1  1     0  0  0  0  0  1  1  0  0  0  0  5\n",
       " 0  0  0  1  1  0  0  0  0  0  0  1  1     0  0  0  0  0  0  1  1  0  0  0  4"
      ]
     },
     "execution_count": 21,
     "metadata": {},
     "output_type": "execute_result"
    }
   ],
   "source": [
    "mnist_cat = cat(mnist_array, mnist_label, dims=2)"
   ]
  },
  {
   "cell_type": "markdown",
   "metadata": {},
   "source": [
    "# Julia"
   ]
  },
  {
   "cell_type": "code",
   "execution_count": null,
   "metadata": {},
   "outputs": [],
   "source": [
    "mnist_data"
   ]
  },
  {
   "cell_type": "code",
   "execution_count": null,
   "metadata": {},
   "outputs": [],
   "source": [
    "@time F_list = frequent(mnist_array, minsup=0.15)"
   ]
  },
  {
   "cell_type": "code",
   "execution_count": null,
   "metadata": {},
   "outputs": [],
   "source": [
    "F_list[3]"
   ]
  },
  {
   "cell_type": "code",
   "execution_count": null,
   "metadata": {},
   "outputs": [],
   "source": [
    "F_table = itemlist2table(F_list, size(mnist_cat)[2])"
   ]
  },
  {
   "cell_type": "code",
   "execution_count": null,
   "metadata": {},
   "outputs": [],
   "source": [
    "size(mnist_cat)[2]"
   ]
  },
  {
   "cell_type": "code",
   "execution_count": null,
   "metadata": {
    "scrolled": false
   },
   "outputs": [],
   "source": [
    "@time F_list = frequent(mnist_cat, minsum=0.15)"
   ]
  },
  {
   "cell_type": "code",
   "execution_count": null,
   "metadata": {
    "scrolled": false
   },
   "outputs": [],
   "source": [
    "@time F_list = frequent(mnist_cat, minsum=0.09)"
   ]
  },
  {
   "cell_type": "code",
   "execution_count": null,
   "metadata": {
    "scrolled": false
   },
   "outputs": [],
   "source": [
    "@time F_list = frequent(mnist_label, minsum=0.09)"
   ]
  },
  {
   "cell_type": "code",
   "execution_count": null,
   "metadata": {
    "scrolled": false
   },
   "outputs": [],
   "source": [
    "@time find_rules(mnist_array, F_list, minconf=0.1)"
   ]
  },
  {
   "cell_type": "code",
   "execution_count": null,
   "metadata": {},
   "outputs": [],
   "source": [
    "mnist_array"
   ]
  },
  {
   "cell_type": "code",
   "execution_count": 22,
   "metadata": {},
   "outputs": [
    {
     "data": {
      "text/plain": [
       "898×1 BitArray{2}:\n",
       "  true\n",
       "  true\n",
       "  true\n",
       " false\n",
       " false\n",
       "  true\n",
       "  true\n",
       " false\n",
       "  true\n",
       "  true\n",
       "  true\n",
       " false\n",
       "  true\n",
       "     ⋮\n",
       "  true\n",
       "  true\n",
       "  true\n",
       "  true\n",
       "  true\n",
       " false\n",
       " false\n",
       "  true\n",
       "  true\n",
       "  true\n",
       "  true\n",
       "  true"
      ]
     },
     "execution_count": 22,
     "metadata": {},
     "output_type": "execute_result"
    }
   ],
   "source": [
    "a = support(mnist_array, [10,11,12], m=\"bool\")\n",
    "b = support(mnist_array, [10,11], m=\"bool\")\n",
    "c = support(mnist_array, [12], m=\"bool\")"
   ]
  },
  {
   "cell_type": "code",
   "execution_count": 23,
   "metadata": {},
   "outputs": [
    {
     "name": "stdout",
     "output_type": "stream",
     "text": [
      "  6.836749 seconds (2.92 M allocations: 5.958 GiB, 17.20% gc time)\n"
     ]
    },
    {
     "data": {
      "text/plain": [
       "100000-element Array{BitArray{2},1}:\n",
       " [false; false; … ; false; false]\n",
       " [false; false; … ; false; false]\n",
       " [false; false; … ; false; false]\n",
       " [false; false; … ; false; false]\n",
       " [false; false; … ; false; false]\n",
       " [false; false; … ; false; false]\n",
       " [false; false; … ; false; false]\n",
       " [false; false; … ; false; false]\n",
       " [false; false; … ; false; false]\n",
       " [false; false; … ; false; false]\n",
       " [false; false; … ; false; false]\n",
       " [false; false; … ; false; false]\n",
       " [false; false; … ; false; false]\n",
       " ⋮                               \n",
       " [false; false; … ; false; false]\n",
       " [false; false; … ; false; false]\n",
       " [false; false; … ; false; false]\n",
       " [false; false; … ; false; false]\n",
       " [false; false; … ; false; false]\n",
       " [false; false; … ; false; false]\n",
       " [false; false; … ; false; false]\n",
       " [false; false; … ; false; false]\n",
       " [false; false; … ; false; false]\n",
       " [false; false; … ; false; false]\n",
       " [false; false; … ; false; false]\n",
       " [false; false; … ; false; false]"
      ]
     },
     "execution_count": 23,
     "metadata": {},
     "output_type": "execute_result"
    }
   ],
   "source": [
    "@time [support(mnist_array, [10,11,12,13,14,15,16,17],m=\"bool\") for i in 1:100000]"
   ]
  },
  {
   "cell_type": "code",
   "execution_count": 24,
   "metadata": {},
   "outputs": [
    {
     "name": "stdout",
     "output_type": "stream",
     "text": [
      "  2.614109 seconds (3.39 M allocations: 1.288 GiB, 13.35% gc time)\n"
     ]
    },
    {
     "data": {
      "text/plain": [
       "100000-element Array{BitArray{2},1}:\n",
       " [false; false; … ; false; false]\n",
       " [false; false; … ; false; false]\n",
       " [false; false; … ; false; false]\n",
       " [false; false; … ; false; false]\n",
       " [false; false; … ; false; false]\n",
       " [false; false; … ; false; false]\n",
       " [false; false; … ; false; false]\n",
       " [false; false; … ; false; false]\n",
       " [false; false; … ; false; false]\n",
       " [false; false; … ; false; false]\n",
       " [false; false; … ; false; false]\n",
       " [false; false; … ; false; false]\n",
       " [false; false; … ; false; false]\n",
       " ⋮                               \n",
       " [false; false; … ; false; false]\n",
       " [false; false; … ; false; false]\n",
       " [false; false; … ; false; false]\n",
       " [false; false; … ; false; false]\n",
       " [false; false; … ; false; false]\n",
       " [false; false; … ; false; false]\n",
       " [false; false; … ; false; false]\n",
       " [false; false; … ; false; false]\n",
       " [false; false; … ; false; false]\n",
       " [false; false; … ; false; false]\n",
       " [false; false; … ; false; false]\n",
       " [false; false; … ; false; false]"
      ]
     },
     "execution_count": 24,
     "metadata": {},
     "output_type": "execute_result"
    }
   ],
   "source": [
    "d = support(mnist_array,[10,11,12,13,14,15,16],m=\"bool\")\n",
    "@time [all(hcat(d,\n",
    "    support(mnist_array, [17], m=\"bool\")), dims=2)\n",
    "    for i in 1:100000]"
   ]
  },
  {
   "cell_type": "code",
   "execution_count": 81,
   "metadata": {},
   "outputs": [
    {
     "data": {
      "text/plain": [
       "635376-element Array{Array{Int64,1},1}:\n",
       " [1, 2, 3, 4]    \n",
       " [1, 2, 3, 5]    \n",
       " [1, 2, 3, 6]    \n",
       " [1, 2, 3, 7]    \n",
       " [1, 2, 3, 8]    \n",
       " [1, 2, 3, 9]    \n",
       " [1, 2, 3, 10]   \n",
       " [1, 2, 3, 11]   \n",
       " [1, 2, 3, 12]   \n",
       " [1, 2, 3, 13]   \n",
       " [1, 2, 3, 14]   \n",
       " [1, 2, 3, 15]   \n",
       " [1, 2, 3, 16]   \n",
       " ⋮               \n",
       " [59, 60, 62, 63]\n",
       " [59, 60, 62, 64]\n",
       " [59, 60, 63, 64]\n",
       " [59, 61, 62, 63]\n",
       " [59, 61, 62, 64]\n",
       " [59, 61, 63, 64]\n",
       " [59, 62, 63, 64]\n",
       " [60, 61, 62, 63]\n",
       " [60, 61, 62, 64]\n",
       " [60, 61, 63, 64]\n",
       " [60, 62, 63, 64]\n",
       " [61, 62, 63, 64]"
      ]
     },
     "execution_count": 81,
     "metadata": {},
     "output_type": "execute_result"
    }
   ],
   "source": [
    "_colnum = size(mnist_array)[2] # 64\n",
    "tmp = collect(subsets(1:_colnum, 4))"
   ]
  },
  {
   "cell_type": "code",
   "execution_count": 70,
   "metadata": {},
   "outputs": [
    {
     "data": {
      "text/plain": [
       "162656256"
      ]
     },
     "execution_count": 70,
     "metadata": {},
     "output_type": "execute_result"
    }
   ],
   "source": [
    "length(tmp)  * 4 * 64 "
   ]
  },
  {
   "cell_type": "code",
   "execution_count": 80,
   "metadata": {},
   "outputs": [
    {
     "data": {
      "text/plain": [
       "GTI (generic function with 2 methods)"
      ]
     },
     "execution_count": 80,
     "metadata": {},
     "output_type": "execute_result"
    }
   ],
   "source": [
    "function GTI(mat::Array{Int64,2}, indexes::Array{Int64,1})\n",
    "    return mat[:,indexes] .==1\n",
    "end"
   ]
  },
  {
   "cell_type": "code",
   "execution_count": 79,
   "metadata": {},
   "outputs": [
    {
     "name": "stdout",
     "output_type": "stream",
     "text": [
      "110.918201 seconds (4.50 M allocations: 19.984 GiB, 90.18% gc time)\n"
     ]
    },
    {
     "ename": "InterruptException",
     "evalue": "InterruptException:",
     "output_type": "error",
     "traceback": [
      "InterruptException:",
      "",
      "Stacktrace:",
      " [1] getindex at ./multidimensional.jl:641 [inlined]",
      " [2] GTI(::Array{Int64,2}, ::Array{Int8,1}) at ./In[77]:2",
      " [3] _broadcast_getindex_evalf at ./broadcast.jl:578 [inlined]",
      " [4] _broadcast_getindex at ./broadcast.jl:551 [inlined]",
      " [5] getindex at ./broadcast.jl:511 [inlined]",
      " [6] macro expansion at ./broadcast.jl:843 [inlined]",
      " [7] macro expansion at ./simdloop.jl:73 [inlined]",
      " [8] copyto! at ./broadcast.jl:842 [inlined]",
      " [9] copyto! at ./broadcast.jl:797 [inlined]",
      " [10] copy at ./broadcast.jl:773 [inlined]",
      " [11] materialize(::Base.Broadcast.Broadcasted{Base.Broadcast.DefaultArrayStyle{1},Nothing,typeof(GTI),Tuple{Base.RefValue{Array{Int64,2}},Array{Array{Int8,1},1}}}) at ./broadcast.jl:753",
      " [12] top-level scope at util.jl:156",
      " [13] top-level scope at In[79]:2"
     ]
    }
   ],
   "source": [
    "@time [GTI(mnist_array, t) for t in tmp]\n",
    "\n",
    "@time GTI.(Ref(mnist_array), tmp)"
   ]
  },
  {
   "cell_type": "code",
   "execution_count": 53,
   "metadata": {},
   "outputs": [
    {
     "name": "stdout",
     "output_type": "stream",
     "text": [
      " 10.759150 seconds (200.08 M allocations: 3.729 GiB, 41.81% gc time)\n",
      "  0.909368 seconds (9 allocations: 762.940 MiB, 0.42% gc time)\n"
     ]
    },
    {
     "data": {
      "text/plain": [
       "100000000-element Array{Int64,1}:\n",
       "         2\n",
       "         3\n",
       "         4\n",
       "         5\n",
       "         6\n",
       "         7\n",
       "         8\n",
       "         9\n",
       "        10\n",
       "        11\n",
       "        12\n",
       "        13\n",
       "        14\n",
       "         ⋮\n",
       "  99999990\n",
       "  99999991\n",
       "  99999992\n",
       "  99999993\n",
       "  99999994\n",
       "  99999995\n",
       "  99999996\n",
       "  99999997\n",
       "  99999998\n",
       "  99999999\n",
       " 100000000\n",
       " 100000001"
      ]
     },
     "execution_count": 53,
     "metadata": {},
     "output_type": "execute_result"
    }
   ],
   "source": [
    "function f(x,y)\n",
    "    return x+y\n",
    "end\n",
    "\n",
    "x = 1\n",
    "yy = 1:100000000\n",
    "\n",
    "@time [f(x,y) for y in yy]\n",
    "\n",
    "@time f.(Ref(x), yy)"
   ]
  },
  {
   "cell_type": "code",
   "execution_count": null,
   "metadata": {},
   "outputs": [],
   "source": []
  }
 ],
 "metadata": {
  "kernelspec": {
   "display_name": "Julia 1.1.1",
   "language": "julia",
   "name": "julia-1.1"
  },
  "language_info": {
   "file_extension": ".jl",
   "mimetype": "application/julia",
   "name": "julia",
   "version": "1.1.1"
  }
 },
 "nbformat": 4,
 "nbformat_minor": 2
}
